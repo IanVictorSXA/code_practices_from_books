{
 "cells": [
  {
   "cell_type": "markdown",
   "id": "00816827-d733-46d0-9966-5416e16246be",
   "metadata": {},
   "source": [
    "# Introduction to Artifical Neural Networks with Keras"
   ]
  },
  {
   "cell_type": "markdown",
   "id": "7c9a5b51-f2c9-4a92-916b-e6ced40fd801",
   "metadata": {},
   "source": [
    "## The Perceptron"
   ]
  },
  {
   "cell_type": "markdown",
   "id": "ccd387ce-d0df-43b0-9351-3c1a200ef6c5",
   "metadata": {},
   "source": [
    "Scikit-learn's perceptron class used on the iris dataset:"
   ]
  },
  {
   "cell_type": "code",
   "execution_count": 1,
   "id": "c79e5ae4-ebaf-4a91-a002-b08006a089e1",
   "metadata": {},
   "outputs": [],
   "source": [
    "import numpy as np\n",
    "from sklearn.datasets import load_iris\n",
    "from sklearn.linear_model import Perceptron\n",
    "\n",
    "iris = load_iris(as_frame=True)\n",
    "X = iris.data[[\"petal length (cm)\", \"petal width (cm)\"]].values\n",
    "y = (iris.target == 0) # Iris setosa\n",
    "\n",
    "per_clf = Perceptron(random_state=42)\n",
    "per_clf.fit(X, y)\n",
    "\n",
    "X_new = [[2, 0.5], [3, 1]]\n",
    "y_pred = per_clf.predict(X_new) # predicts True and False for these 2 flowers"
   ]
  },
  {
   "cell_type": "markdown",
   "id": "852c9486-4027-4a2c-9850-61e9440fb53d",
   "metadata": {},
   "source": [
    "## Regression MLPs"
   ]
  },
  {
   "cell_type": "markdown",
   "id": "f298548a-2412-482f-890b-07310b7b28fd",
   "metadata": {},
   "source": [
    "Example of Scikit-learn's MLP regressor:"
   ]
  },
  {
   "cell_type": "code",
   "execution_count": 2,
   "id": "4695568a-35d3-4ec2-a79d-e72c040dc612",
   "metadata": {},
   "outputs": [
    {
     "data": {
      "text/plain": [
       "0.505332665796845"
      ]
     },
     "execution_count": 2,
     "metadata": {},
     "output_type": "execute_result"
    }
   ],
   "source": [
    "from sklearn.datasets import fetch_california_housing\n",
    "from sklearn.metrics import root_mean_squared_error\n",
    "from sklearn.model_selection import train_test_split\n",
    "from sklearn.neural_network import MLPRegressor\n",
    "from sklearn.pipeline import make_pipeline\n",
    "from sklearn.preprocessing import StandardScaler\n",
    "\n",
    "housing = fetch_california_housing()\n",
    "X_train_full, X_test, y_train_full, y_test = train_test_split(\n",
    "    housing.data, housing.target, random_state=42)\n",
    "X_train, X_valid, y_train, y_valid = train_test_split(\n",
    "    X_train_full, y_train_full, random_state=42)\n",
    "\n",
    "mlp_reg = MLPRegressor(hidden_layer_sizes=[50, 50, 50], random_state=42)\n",
    "pipeline = make_pipeline(StandardScaler(), mlp_reg)\n",
    "pipeline.fit(X_train, y_train)\n",
    "y_pred = pipeline.predict(X_valid)\n",
    "rmse = root_mean_squared_error(y_valid, y_pred)\n",
    "rmse"
   ]
  },
  {
   "cell_type": "markdown",
   "id": "3f718a47-cb73-4e4b-bcdf-d5535c2eaefa",
   "metadata": {},
   "source": [
    "## Classification MLPs"
   ]
  },
  {
   "cell_type": "markdown",
   "id": "53c1f325-9bd0-4c1a-81b2-4c174702e025",
   "metadata": {},
   "source": [
    "Example of Scikit-learn's MLP classifier:"
   ]
  },
  {
   "cell_type": "code",
   "execution_count": 3,
   "id": "b6f3c3ce-8cd9-4934-967b-a6aec5b2ed83",
   "metadata": {},
   "outputs": [
    {
     "data": {
      "text/html": [
       "<style>#sk-container-id-1 {\n",
       "  /* Definition of color scheme common for light and dark mode */\n",
       "  --sklearn-color-text: #000;\n",
       "  --sklearn-color-text-muted: #666;\n",
       "  --sklearn-color-line: gray;\n",
       "  /* Definition of color scheme for unfitted estimators */\n",
       "  --sklearn-color-unfitted-level-0: #fff5e6;\n",
       "  --sklearn-color-unfitted-level-1: #f6e4d2;\n",
       "  --sklearn-color-unfitted-level-2: #ffe0b3;\n",
       "  --sklearn-color-unfitted-level-3: chocolate;\n",
       "  /* Definition of color scheme for fitted estimators */\n",
       "  --sklearn-color-fitted-level-0: #f0f8ff;\n",
       "  --sklearn-color-fitted-level-1: #d4ebff;\n",
       "  --sklearn-color-fitted-level-2: #b3dbfd;\n",
       "  --sklearn-color-fitted-level-3: cornflowerblue;\n",
       "\n",
       "  /* Specific color for light theme */\n",
       "  --sklearn-color-text-on-default-background: var(--sg-text-color, var(--theme-code-foreground, var(--jp-content-font-color1, black)));\n",
       "  --sklearn-color-background: var(--sg-background-color, var(--theme-background, var(--jp-layout-color0, white)));\n",
       "  --sklearn-color-border-box: var(--sg-text-color, var(--theme-code-foreground, var(--jp-content-font-color1, black)));\n",
       "  --sklearn-color-icon: #696969;\n",
       "\n",
       "  @media (prefers-color-scheme: dark) {\n",
       "    /* Redefinition of color scheme for dark theme */\n",
       "    --sklearn-color-text-on-default-background: var(--sg-text-color, var(--theme-code-foreground, var(--jp-content-font-color1, white)));\n",
       "    --sklearn-color-background: var(--sg-background-color, var(--theme-background, var(--jp-layout-color0, #111)));\n",
       "    --sklearn-color-border-box: var(--sg-text-color, var(--theme-code-foreground, var(--jp-content-font-color1, white)));\n",
       "    --sklearn-color-icon: #878787;\n",
       "  }\n",
       "}\n",
       "\n",
       "#sk-container-id-1 {\n",
       "  color: var(--sklearn-color-text);\n",
       "}\n",
       "\n",
       "#sk-container-id-1 pre {\n",
       "  padding: 0;\n",
       "}\n",
       "\n",
       "#sk-container-id-1 input.sk-hidden--visually {\n",
       "  border: 0;\n",
       "  clip: rect(1px 1px 1px 1px);\n",
       "  clip: rect(1px, 1px, 1px, 1px);\n",
       "  height: 1px;\n",
       "  margin: -1px;\n",
       "  overflow: hidden;\n",
       "  padding: 0;\n",
       "  position: absolute;\n",
       "  width: 1px;\n",
       "}\n",
       "\n",
       "#sk-container-id-1 div.sk-dashed-wrapped {\n",
       "  border: 1px dashed var(--sklearn-color-line);\n",
       "  margin: 0 0.4em 0.5em 0.4em;\n",
       "  box-sizing: border-box;\n",
       "  padding-bottom: 0.4em;\n",
       "  background-color: var(--sklearn-color-background);\n",
       "}\n",
       "\n",
       "#sk-container-id-1 div.sk-container {\n",
       "  /* jupyter's `normalize.less` sets `[hidden] { display: none; }`\n",
       "     but bootstrap.min.css set `[hidden] { display: none !important; }`\n",
       "     so we also need the `!important` here to be able to override the\n",
       "     default hidden behavior on the sphinx rendered scikit-learn.org.\n",
       "     See: https://github.com/scikit-learn/scikit-learn/issues/21755 */\n",
       "  display: inline-block !important;\n",
       "  position: relative;\n",
       "}\n",
       "\n",
       "#sk-container-id-1 div.sk-text-repr-fallback {\n",
       "  display: none;\n",
       "}\n",
       "\n",
       "div.sk-parallel-item,\n",
       "div.sk-serial,\n",
       "div.sk-item {\n",
       "  /* draw centered vertical line to link estimators */\n",
       "  background-image: linear-gradient(var(--sklearn-color-text-on-default-background), var(--sklearn-color-text-on-default-background));\n",
       "  background-size: 2px 100%;\n",
       "  background-repeat: no-repeat;\n",
       "  background-position: center center;\n",
       "}\n",
       "\n",
       "/* Parallel-specific style estimator block */\n",
       "\n",
       "#sk-container-id-1 div.sk-parallel-item::after {\n",
       "  content: \"\";\n",
       "  width: 100%;\n",
       "  border-bottom: 2px solid var(--sklearn-color-text-on-default-background);\n",
       "  flex-grow: 1;\n",
       "}\n",
       "\n",
       "#sk-container-id-1 div.sk-parallel {\n",
       "  display: flex;\n",
       "  align-items: stretch;\n",
       "  justify-content: center;\n",
       "  background-color: var(--sklearn-color-background);\n",
       "  position: relative;\n",
       "}\n",
       "\n",
       "#sk-container-id-1 div.sk-parallel-item {\n",
       "  display: flex;\n",
       "  flex-direction: column;\n",
       "}\n",
       "\n",
       "#sk-container-id-1 div.sk-parallel-item:first-child::after {\n",
       "  align-self: flex-end;\n",
       "  width: 50%;\n",
       "}\n",
       "\n",
       "#sk-container-id-1 div.sk-parallel-item:last-child::after {\n",
       "  align-self: flex-start;\n",
       "  width: 50%;\n",
       "}\n",
       "\n",
       "#sk-container-id-1 div.sk-parallel-item:only-child::after {\n",
       "  width: 0;\n",
       "}\n",
       "\n",
       "/* Serial-specific style estimator block */\n",
       "\n",
       "#sk-container-id-1 div.sk-serial {\n",
       "  display: flex;\n",
       "  flex-direction: column;\n",
       "  align-items: center;\n",
       "  background-color: var(--sklearn-color-background);\n",
       "  padding-right: 1em;\n",
       "  padding-left: 1em;\n",
       "}\n",
       "\n",
       "\n",
       "/* Toggleable style: style used for estimator/Pipeline/ColumnTransformer box that is\n",
       "clickable and can be expanded/collapsed.\n",
       "- Pipeline and ColumnTransformer use this feature and define the default style\n",
       "- Estimators will overwrite some part of the style using the `sk-estimator` class\n",
       "*/\n",
       "\n",
       "/* Pipeline and ColumnTransformer style (default) */\n",
       "\n",
       "#sk-container-id-1 div.sk-toggleable {\n",
       "  /* Default theme specific background. It is overwritten whether we have a\n",
       "  specific estimator or a Pipeline/ColumnTransformer */\n",
       "  background-color: var(--sklearn-color-background);\n",
       "}\n",
       "\n",
       "/* Toggleable label */\n",
       "#sk-container-id-1 label.sk-toggleable__label {\n",
       "  cursor: pointer;\n",
       "  display: flex;\n",
       "  width: 100%;\n",
       "  margin-bottom: 0;\n",
       "  padding: 0.5em;\n",
       "  box-sizing: border-box;\n",
       "  text-align: center;\n",
       "  align-items: start;\n",
       "  justify-content: space-between;\n",
       "  gap: 0.5em;\n",
       "}\n",
       "\n",
       "#sk-container-id-1 label.sk-toggleable__label .caption {\n",
       "  font-size: 0.6rem;\n",
       "  font-weight: lighter;\n",
       "  color: var(--sklearn-color-text-muted);\n",
       "}\n",
       "\n",
       "#sk-container-id-1 label.sk-toggleable__label-arrow:before {\n",
       "  /* Arrow on the left of the label */\n",
       "  content: \"▸\";\n",
       "  float: left;\n",
       "  margin-right: 0.25em;\n",
       "  color: var(--sklearn-color-icon);\n",
       "}\n",
       "\n",
       "#sk-container-id-1 label.sk-toggleable__label-arrow:hover:before {\n",
       "  color: var(--sklearn-color-text);\n",
       "}\n",
       "\n",
       "/* Toggleable content - dropdown */\n",
       "\n",
       "#sk-container-id-1 div.sk-toggleable__content {\n",
       "  display: none;\n",
       "  text-align: left;\n",
       "  /* unfitted */\n",
       "  background-color: var(--sklearn-color-unfitted-level-0);\n",
       "}\n",
       "\n",
       "#sk-container-id-1 div.sk-toggleable__content.fitted {\n",
       "  /* fitted */\n",
       "  background-color: var(--sklearn-color-fitted-level-0);\n",
       "}\n",
       "\n",
       "#sk-container-id-1 div.sk-toggleable__content pre {\n",
       "  margin: 0.2em;\n",
       "  border-radius: 0.25em;\n",
       "  color: var(--sklearn-color-text);\n",
       "  /* unfitted */\n",
       "  background-color: var(--sklearn-color-unfitted-level-0);\n",
       "}\n",
       "\n",
       "#sk-container-id-1 div.sk-toggleable__content.fitted pre {\n",
       "  /* unfitted */\n",
       "  background-color: var(--sklearn-color-fitted-level-0);\n",
       "}\n",
       "\n",
       "#sk-container-id-1 input.sk-toggleable__control:checked~div.sk-toggleable__content {\n",
       "  /* Expand drop-down */\n",
       "  display: block;\n",
       "  width: 100%;\n",
       "  overflow: visible;\n",
       "}\n",
       "\n",
       "#sk-container-id-1 input.sk-toggleable__control:checked~label.sk-toggleable__label-arrow:before {\n",
       "  content: \"▾\";\n",
       "}\n",
       "\n",
       "/* Pipeline/ColumnTransformer-specific style */\n",
       "\n",
       "#sk-container-id-1 div.sk-label input.sk-toggleable__control:checked~label.sk-toggleable__label {\n",
       "  color: var(--sklearn-color-text);\n",
       "  background-color: var(--sklearn-color-unfitted-level-2);\n",
       "}\n",
       "\n",
       "#sk-container-id-1 div.sk-label.fitted input.sk-toggleable__control:checked~label.sk-toggleable__label {\n",
       "  background-color: var(--sklearn-color-fitted-level-2);\n",
       "}\n",
       "\n",
       "/* Estimator-specific style */\n",
       "\n",
       "/* Colorize estimator box */\n",
       "#sk-container-id-1 div.sk-estimator input.sk-toggleable__control:checked~label.sk-toggleable__label {\n",
       "  /* unfitted */\n",
       "  background-color: var(--sklearn-color-unfitted-level-2);\n",
       "}\n",
       "\n",
       "#sk-container-id-1 div.sk-estimator.fitted input.sk-toggleable__control:checked~label.sk-toggleable__label {\n",
       "  /* fitted */\n",
       "  background-color: var(--sklearn-color-fitted-level-2);\n",
       "}\n",
       "\n",
       "#sk-container-id-1 div.sk-label label.sk-toggleable__label,\n",
       "#sk-container-id-1 div.sk-label label {\n",
       "  /* The background is the default theme color */\n",
       "  color: var(--sklearn-color-text-on-default-background);\n",
       "}\n",
       "\n",
       "/* On hover, darken the color of the background */\n",
       "#sk-container-id-1 div.sk-label:hover label.sk-toggleable__label {\n",
       "  color: var(--sklearn-color-text);\n",
       "  background-color: var(--sklearn-color-unfitted-level-2);\n",
       "}\n",
       "\n",
       "/* Label box, darken color on hover, fitted */\n",
       "#sk-container-id-1 div.sk-label.fitted:hover label.sk-toggleable__label.fitted {\n",
       "  color: var(--sklearn-color-text);\n",
       "  background-color: var(--sklearn-color-fitted-level-2);\n",
       "}\n",
       "\n",
       "/* Estimator label */\n",
       "\n",
       "#sk-container-id-1 div.sk-label label {\n",
       "  font-family: monospace;\n",
       "  font-weight: bold;\n",
       "  display: inline-block;\n",
       "  line-height: 1.2em;\n",
       "}\n",
       "\n",
       "#sk-container-id-1 div.sk-label-container {\n",
       "  text-align: center;\n",
       "}\n",
       "\n",
       "/* Estimator-specific */\n",
       "#sk-container-id-1 div.sk-estimator {\n",
       "  font-family: monospace;\n",
       "  border: 1px dotted var(--sklearn-color-border-box);\n",
       "  border-radius: 0.25em;\n",
       "  box-sizing: border-box;\n",
       "  margin-bottom: 0.5em;\n",
       "  /* unfitted */\n",
       "  background-color: var(--sklearn-color-unfitted-level-0);\n",
       "}\n",
       "\n",
       "#sk-container-id-1 div.sk-estimator.fitted {\n",
       "  /* fitted */\n",
       "  background-color: var(--sklearn-color-fitted-level-0);\n",
       "}\n",
       "\n",
       "/* on hover */\n",
       "#sk-container-id-1 div.sk-estimator:hover {\n",
       "  /* unfitted */\n",
       "  background-color: var(--sklearn-color-unfitted-level-2);\n",
       "}\n",
       "\n",
       "#sk-container-id-1 div.sk-estimator.fitted:hover {\n",
       "  /* fitted */\n",
       "  background-color: var(--sklearn-color-fitted-level-2);\n",
       "}\n",
       "\n",
       "/* Specification for estimator info (e.g. \"i\" and \"?\") */\n",
       "\n",
       "/* Common style for \"i\" and \"?\" */\n",
       "\n",
       ".sk-estimator-doc-link,\n",
       "a:link.sk-estimator-doc-link,\n",
       "a:visited.sk-estimator-doc-link {\n",
       "  float: right;\n",
       "  font-size: smaller;\n",
       "  line-height: 1em;\n",
       "  font-family: monospace;\n",
       "  background-color: var(--sklearn-color-background);\n",
       "  border-radius: 1em;\n",
       "  height: 1em;\n",
       "  width: 1em;\n",
       "  text-decoration: none !important;\n",
       "  margin-left: 0.5em;\n",
       "  text-align: center;\n",
       "  /* unfitted */\n",
       "  border: var(--sklearn-color-unfitted-level-1) 1pt solid;\n",
       "  color: var(--sklearn-color-unfitted-level-1);\n",
       "}\n",
       "\n",
       ".sk-estimator-doc-link.fitted,\n",
       "a:link.sk-estimator-doc-link.fitted,\n",
       "a:visited.sk-estimator-doc-link.fitted {\n",
       "  /* fitted */\n",
       "  border: var(--sklearn-color-fitted-level-1) 1pt solid;\n",
       "  color: var(--sklearn-color-fitted-level-1);\n",
       "}\n",
       "\n",
       "/* On hover */\n",
       "div.sk-estimator:hover .sk-estimator-doc-link:hover,\n",
       ".sk-estimator-doc-link:hover,\n",
       "div.sk-label-container:hover .sk-estimator-doc-link:hover,\n",
       ".sk-estimator-doc-link:hover {\n",
       "  /* unfitted */\n",
       "  background-color: var(--sklearn-color-unfitted-level-3);\n",
       "  color: var(--sklearn-color-background);\n",
       "  text-decoration: none;\n",
       "}\n",
       "\n",
       "div.sk-estimator.fitted:hover .sk-estimator-doc-link.fitted:hover,\n",
       ".sk-estimator-doc-link.fitted:hover,\n",
       "div.sk-label-container:hover .sk-estimator-doc-link.fitted:hover,\n",
       ".sk-estimator-doc-link.fitted:hover {\n",
       "  /* fitted */\n",
       "  background-color: var(--sklearn-color-fitted-level-3);\n",
       "  color: var(--sklearn-color-background);\n",
       "  text-decoration: none;\n",
       "}\n",
       "\n",
       "/* Span, style for the box shown on hovering the info icon */\n",
       ".sk-estimator-doc-link span {\n",
       "  display: none;\n",
       "  z-index: 9999;\n",
       "  position: relative;\n",
       "  font-weight: normal;\n",
       "  right: .2ex;\n",
       "  padding: .5ex;\n",
       "  margin: .5ex;\n",
       "  width: min-content;\n",
       "  min-width: 20ex;\n",
       "  max-width: 50ex;\n",
       "  color: var(--sklearn-color-text);\n",
       "  box-shadow: 2pt 2pt 4pt #999;\n",
       "  /* unfitted */\n",
       "  background: var(--sklearn-color-unfitted-level-0);\n",
       "  border: .5pt solid var(--sklearn-color-unfitted-level-3);\n",
       "}\n",
       "\n",
       ".sk-estimator-doc-link.fitted span {\n",
       "  /* fitted */\n",
       "  background: var(--sklearn-color-fitted-level-0);\n",
       "  border: var(--sklearn-color-fitted-level-3);\n",
       "}\n",
       "\n",
       ".sk-estimator-doc-link:hover span {\n",
       "  display: block;\n",
       "}\n",
       "\n",
       "/* \"?\"-specific style due to the `<a>` HTML tag */\n",
       "\n",
       "#sk-container-id-1 a.estimator_doc_link {\n",
       "  float: right;\n",
       "  font-size: 1rem;\n",
       "  line-height: 1em;\n",
       "  font-family: monospace;\n",
       "  background-color: var(--sklearn-color-background);\n",
       "  border-radius: 1rem;\n",
       "  height: 1rem;\n",
       "  width: 1rem;\n",
       "  text-decoration: none;\n",
       "  /* unfitted */\n",
       "  color: var(--sklearn-color-unfitted-level-1);\n",
       "  border: var(--sklearn-color-unfitted-level-1) 1pt solid;\n",
       "}\n",
       "\n",
       "#sk-container-id-1 a.estimator_doc_link.fitted {\n",
       "  /* fitted */\n",
       "  border: var(--sklearn-color-fitted-level-1) 1pt solid;\n",
       "  color: var(--sklearn-color-fitted-level-1);\n",
       "}\n",
       "\n",
       "/* On hover */\n",
       "#sk-container-id-1 a.estimator_doc_link:hover {\n",
       "  /* unfitted */\n",
       "  background-color: var(--sklearn-color-unfitted-level-3);\n",
       "  color: var(--sklearn-color-background);\n",
       "  text-decoration: none;\n",
       "}\n",
       "\n",
       "#sk-container-id-1 a.estimator_doc_link.fitted:hover {\n",
       "  /* fitted */\n",
       "  background-color: var(--sklearn-color-fitted-level-3);\n",
       "}\n",
       "\n",
       ".estimator-table summary {\n",
       "    padding: .5rem;\n",
       "    font-family: monospace;\n",
       "    cursor: pointer;\n",
       "}\n",
       "\n",
       ".estimator-table details[open] {\n",
       "    padding-left: 0.1rem;\n",
       "    padding-right: 0.1rem;\n",
       "    padding-bottom: 0.3rem;\n",
       "}\n",
       "\n",
       ".estimator-table .parameters-table {\n",
       "    margin-left: auto !important;\n",
       "    margin-right: auto !important;\n",
       "}\n",
       "\n",
       ".estimator-table .parameters-table tr:nth-child(odd) {\n",
       "    background-color: #fff;\n",
       "}\n",
       "\n",
       ".estimator-table .parameters-table tr:nth-child(even) {\n",
       "    background-color: #f6f6f6;\n",
       "}\n",
       "\n",
       ".estimator-table .parameters-table tr:hover {\n",
       "    background-color: #e0e0e0;\n",
       "}\n",
       "\n",
       ".estimator-table table td {\n",
       "    border: 1px solid rgba(106, 105, 104, 0.232);\n",
       "}\n",
       "\n",
       ".user-set td {\n",
       "    color:rgb(255, 94, 0);\n",
       "    text-align: left;\n",
       "}\n",
       "\n",
       ".user-set td.value pre {\n",
       "    color:rgb(255, 94, 0) !important;\n",
       "    background-color: transparent !important;\n",
       "}\n",
       "\n",
       ".default td {\n",
       "    color: black;\n",
       "    text-align: left;\n",
       "}\n",
       "\n",
       ".user-set td i,\n",
       ".default td i {\n",
       "    color: black;\n",
       "}\n",
       "\n",
       ".copy-paste-icon {\n",
       "    background-image: url(data:image/svg+xml;base64,PHN2ZyB4bWxucz0iaHR0cDovL3d3dy53My5vcmcvMjAwMC9zdmciIHZpZXdCb3g9IjAgMCA0NDggNTEyIj48IS0tIUZvbnQgQXdlc29tZSBGcmVlIDYuNy4yIGJ5IEBmb250YXdlc29tZSAtIGh0dHBzOi8vZm9udGF3ZXNvbWUuY29tIExpY2Vuc2UgLSBodHRwczovL2ZvbnRhd2Vzb21lLmNvbS9saWNlbnNlL2ZyZWUgQ29weXJpZ2h0IDIwMjUgRm9udGljb25zLCBJbmMuLS0+PHBhdGggZD0iTTIwOCAwTDMzMi4xIDBjMTIuNyAwIDI0LjkgNS4xIDMzLjkgMTQuMWw2Ny45IDY3LjljOSA5IDE0LjEgMjEuMiAxNC4xIDMzLjlMNDQ4IDMzNmMwIDI2LjUtMjEuNSA0OC00OCA0OGwtMTkyIDBjLTI2LjUgMC00OC0yMS41LTQ4LTQ4bDAtMjg4YzAtMjYuNSAyMS41LTQ4IDQ4LTQ4ek00OCAxMjhsODAgMCAwIDY0LTY0IDAgMCAyNTYgMTkyIDAgMC0zMiA2NCAwIDAgNDhjMCAyNi41LTIxLjUgNDgtNDggNDhMNDggNTEyYy0yNi41IDAtNDgtMjEuNS00OC00OEwwIDE3NmMwLTI2LjUgMjEuNS00OCA0OC00OHoiLz48L3N2Zz4=);\n",
       "    background-repeat: no-repeat;\n",
       "    background-size: 14px 14px;\n",
       "    background-position: 0;\n",
       "    display: inline-block;\n",
       "    width: 14px;\n",
       "    height: 14px;\n",
       "    cursor: pointer;\n",
       "}\n",
       "</style><body><div id=\"sk-container-id-1\" class=\"sk-top-container\"><div class=\"sk-text-repr-fallback\"><pre>Pipeline(steps=[(&#x27;standardscaler&#x27;, StandardScaler()),\n",
       "                (&#x27;mlpclassifier&#x27;,\n",
       "                 MLPClassifier(hidden_layer_sizes=[8], max_iter=1000,\n",
       "                               random_state=42))])</pre><b>In a Jupyter environment, please rerun this cell to show the HTML representation or trust the notebook. <br />On GitHub, the HTML representation is unable to render, please try loading this page with nbviewer.org.</b></div><div class=\"sk-container\" hidden><div class=\"sk-item sk-dashed-wrapped\"><div class=\"sk-label-container\"><div class=\"sk-label fitted sk-toggleable\"><input class=\"sk-toggleable__control sk-hidden--visually\" id=\"sk-estimator-id-1\" type=\"checkbox\" ><label for=\"sk-estimator-id-1\" class=\"sk-toggleable__label fitted sk-toggleable__label-arrow\"><div><div>Pipeline</div></div><div><a class=\"sk-estimator-doc-link fitted\" rel=\"noreferrer\" target=\"_blank\" href=\"https://scikit-learn.org/1.7/modules/generated/sklearn.pipeline.Pipeline.html\">?<span>Documentation for Pipeline</span></a><span class=\"sk-estimator-doc-link fitted\">i<span>Fitted</span></span></div></label><div class=\"sk-toggleable__content fitted\" data-param-prefix=\"\">\n",
       "        <div class=\"estimator-table\">\n",
       "            <details>\n",
       "                <summary>Parameters</summary>\n",
       "                <table class=\"parameters-table\">\n",
       "                  <tbody>\n",
       "                    \n",
       "        <tr class=\"user-set\">\n",
       "            <td><i class=\"copy-paste-icon\"\n",
       "                 onclick=\"copyToClipboard('steps',\n",
       "                          this.parentElement.nextElementSibling)\"\n",
       "            ></i></td>\n",
       "            <td class=\"param\">steps&nbsp;</td>\n",
       "            <td class=\"value\">[(&#x27;standardscaler&#x27;, ...), (&#x27;mlpclassifier&#x27;, ...)]</td>\n",
       "        </tr>\n",
       "    \n",
       "\n",
       "        <tr class=\"default\">\n",
       "            <td><i class=\"copy-paste-icon\"\n",
       "                 onclick=\"copyToClipboard('transform_input',\n",
       "                          this.parentElement.nextElementSibling)\"\n",
       "            ></i></td>\n",
       "            <td class=\"param\">transform_input&nbsp;</td>\n",
       "            <td class=\"value\">None</td>\n",
       "        </tr>\n",
       "    \n",
       "\n",
       "        <tr class=\"default\">\n",
       "            <td><i class=\"copy-paste-icon\"\n",
       "                 onclick=\"copyToClipboard('memory',\n",
       "                          this.parentElement.nextElementSibling)\"\n",
       "            ></i></td>\n",
       "            <td class=\"param\">memory&nbsp;</td>\n",
       "            <td class=\"value\">None</td>\n",
       "        </tr>\n",
       "    \n",
       "\n",
       "        <tr class=\"default\">\n",
       "            <td><i class=\"copy-paste-icon\"\n",
       "                 onclick=\"copyToClipboard('verbose',\n",
       "                          this.parentElement.nextElementSibling)\"\n",
       "            ></i></td>\n",
       "            <td class=\"param\">verbose&nbsp;</td>\n",
       "            <td class=\"value\">False</td>\n",
       "        </tr>\n",
       "    \n",
       "                  </tbody>\n",
       "                </table>\n",
       "            </details>\n",
       "        </div>\n",
       "    </div></div></div><div class=\"sk-serial\"><div class=\"sk-item\"><div class=\"sk-estimator fitted sk-toggleable\"><input class=\"sk-toggleable__control sk-hidden--visually\" id=\"sk-estimator-id-2\" type=\"checkbox\" ><label for=\"sk-estimator-id-2\" class=\"sk-toggleable__label fitted sk-toggleable__label-arrow\"><div><div>StandardScaler</div></div><div><a class=\"sk-estimator-doc-link fitted\" rel=\"noreferrer\" target=\"_blank\" href=\"https://scikit-learn.org/1.7/modules/generated/sklearn.preprocessing.StandardScaler.html\">?<span>Documentation for StandardScaler</span></a></div></label><div class=\"sk-toggleable__content fitted\" data-param-prefix=\"standardscaler__\">\n",
       "        <div class=\"estimator-table\">\n",
       "            <details>\n",
       "                <summary>Parameters</summary>\n",
       "                <table class=\"parameters-table\">\n",
       "                  <tbody>\n",
       "                    \n",
       "        <tr class=\"default\">\n",
       "            <td><i class=\"copy-paste-icon\"\n",
       "                 onclick=\"copyToClipboard('copy',\n",
       "                          this.parentElement.nextElementSibling)\"\n",
       "            ></i></td>\n",
       "            <td class=\"param\">copy&nbsp;</td>\n",
       "            <td class=\"value\">True</td>\n",
       "        </tr>\n",
       "    \n",
       "\n",
       "        <tr class=\"default\">\n",
       "            <td><i class=\"copy-paste-icon\"\n",
       "                 onclick=\"copyToClipboard('with_mean',\n",
       "                          this.parentElement.nextElementSibling)\"\n",
       "            ></i></td>\n",
       "            <td class=\"param\">with_mean&nbsp;</td>\n",
       "            <td class=\"value\">True</td>\n",
       "        </tr>\n",
       "    \n",
       "\n",
       "        <tr class=\"default\">\n",
       "            <td><i class=\"copy-paste-icon\"\n",
       "                 onclick=\"copyToClipboard('with_std',\n",
       "                          this.parentElement.nextElementSibling)\"\n",
       "            ></i></td>\n",
       "            <td class=\"param\">with_std&nbsp;</td>\n",
       "            <td class=\"value\">True</td>\n",
       "        </tr>\n",
       "    \n",
       "                  </tbody>\n",
       "                </table>\n",
       "            </details>\n",
       "        </div>\n",
       "    </div></div></div><div class=\"sk-item\"><div class=\"sk-estimator fitted sk-toggleable\"><input class=\"sk-toggleable__control sk-hidden--visually\" id=\"sk-estimator-id-3\" type=\"checkbox\" ><label for=\"sk-estimator-id-3\" class=\"sk-toggleable__label fitted sk-toggleable__label-arrow\"><div><div>MLPClassifier</div></div><div><a class=\"sk-estimator-doc-link fitted\" rel=\"noreferrer\" target=\"_blank\" href=\"https://scikit-learn.org/1.7/modules/generated/sklearn.neural_network.MLPClassifier.html\">?<span>Documentation for MLPClassifier</span></a></div></label><div class=\"sk-toggleable__content fitted\" data-param-prefix=\"mlpclassifier__\">\n",
       "        <div class=\"estimator-table\">\n",
       "            <details>\n",
       "                <summary>Parameters</summary>\n",
       "                <table class=\"parameters-table\">\n",
       "                  <tbody>\n",
       "                    \n",
       "        <tr class=\"user-set\">\n",
       "            <td><i class=\"copy-paste-icon\"\n",
       "                 onclick=\"copyToClipboard('hidden_layer_sizes',\n",
       "                          this.parentElement.nextElementSibling)\"\n",
       "            ></i></td>\n",
       "            <td class=\"param\">hidden_layer_sizes&nbsp;</td>\n",
       "            <td class=\"value\">[8]</td>\n",
       "        </tr>\n",
       "    \n",
       "\n",
       "        <tr class=\"default\">\n",
       "            <td><i class=\"copy-paste-icon\"\n",
       "                 onclick=\"copyToClipboard('activation',\n",
       "                          this.parentElement.nextElementSibling)\"\n",
       "            ></i></td>\n",
       "            <td class=\"param\">activation&nbsp;</td>\n",
       "            <td class=\"value\">&#x27;relu&#x27;</td>\n",
       "        </tr>\n",
       "    \n",
       "\n",
       "        <tr class=\"default\">\n",
       "            <td><i class=\"copy-paste-icon\"\n",
       "                 onclick=\"copyToClipboard('solver',\n",
       "                          this.parentElement.nextElementSibling)\"\n",
       "            ></i></td>\n",
       "            <td class=\"param\">solver&nbsp;</td>\n",
       "            <td class=\"value\">&#x27;adam&#x27;</td>\n",
       "        </tr>\n",
       "    \n",
       "\n",
       "        <tr class=\"default\">\n",
       "            <td><i class=\"copy-paste-icon\"\n",
       "                 onclick=\"copyToClipboard('alpha',\n",
       "                          this.parentElement.nextElementSibling)\"\n",
       "            ></i></td>\n",
       "            <td class=\"param\">alpha&nbsp;</td>\n",
       "            <td class=\"value\">0.0001</td>\n",
       "        </tr>\n",
       "    \n",
       "\n",
       "        <tr class=\"default\">\n",
       "            <td><i class=\"copy-paste-icon\"\n",
       "                 onclick=\"copyToClipboard('batch_size',\n",
       "                          this.parentElement.nextElementSibling)\"\n",
       "            ></i></td>\n",
       "            <td class=\"param\">batch_size&nbsp;</td>\n",
       "            <td class=\"value\">&#x27;auto&#x27;</td>\n",
       "        </tr>\n",
       "    \n",
       "\n",
       "        <tr class=\"default\">\n",
       "            <td><i class=\"copy-paste-icon\"\n",
       "                 onclick=\"copyToClipboard('learning_rate',\n",
       "                          this.parentElement.nextElementSibling)\"\n",
       "            ></i></td>\n",
       "            <td class=\"param\">learning_rate&nbsp;</td>\n",
       "            <td class=\"value\">&#x27;constant&#x27;</td>\n",
       "        </tr>\n",
       "    \n",
       "\n",
       "        <tr class=\"default\">\n",
       "            <td><i class=\"copy-paste-icon\"\n",
       "                 onclick=\"copyToClipboard('learning_rate_init',\n",
       "                          this.parentElement.nextElementSibling)\"\n",
       "            ></i></td>\n",
       "            <td class=\"param\">learning_rate_init&nbsp;</td>\n",
       "            <td class=\"value\">0.001</td>\n",
       "        </tr>\n",
       "    \n",
       "\n",
       "        <tr class=\"default\">\n",
       "            <td><i class=\"copy-paste-icon\"\n",
       "                 onclick=\"copyToClipboard('power_t',\n",
       "                          this.parentElement.nextElementSibling)\"\n",
       "            ></i></td>\n",
       "            <td class=\"param\">power_t&nbsp;</td>\n",
       "            <td class=\"value\">0.5</td>\n",
       "        </tr>\n",
       "    \n",
       "\n",
       "        <tr class=\"user-set\">\n",
       "            <td><i class=\"copy-paste-icon\"\n",
       "                 onclick=\"copyToClipboard('max_iter',\n",
       "                          this.parentElement.nextElementSibling)\"\n",
       "            ></i></td>\n",
       "            <td class=\"param\">max_iter&nbsp;</td>\n",
       "            <td class=\"value\">1000</td>\n",
       "        </tr>\n",
       "    \n",
       "\n",
       "        <tr class=\"default\">\n",
       "            <td><i class=\"copy-paste-icon\"\n",
       "                 onclick=\"copyToClipboard('shuffle',\n",
       "                          this.parentElement.nextElementSibling)\"\n",
       "            ></i></td>\n",
       "            <td class=\"param\">shuffle&nbsp;</td>\n",
       "            <td class=\"value\">True</td>\n",
       "        </tr>\n",
       "    \n",
       "\n",
       "        <tr class=\"user-set\">\n",
       "            <td><i class=\"copy-paste-icon\"\n",
       "                 onclick=\"copyToClipboard('random_state',\n",
       "                          this.parentElement.nextElementSibling)\"\n",
       "            ></i></td>\n",
       "            <td class=\"param\">random_state&nbsp;</td>\n",
       "            <td class=\"value\">42</td>\n",
       "        </tr>\n",
       "    \n",
       "\n",
       "        <tr class=\"default\">\n",
       "            <td><i class=\"copy-paste-icon\"\n",
       "                 onclick=\"copyToClipboard('tol',\n",
       "                          this.parentElement.nextElementSibling)\"\n",
       "            ></i></td>\n",
       "            <td class=\"param\">tol&nbsp;</td>\n",
       "            <td class=\"value\">0.0001</td>\n",
       "        </tr>\n",
       "    \n",
       "\n",
       "        <tr class=\"default\">\n",
       "            <td><i class=\"copy-paste-icon\"\n",
       "                 onclick=\"copyToClipboard('verbose',\n",
       "                          this.parentElement.nextElementSibling)\"\n",
       "            ></i></td>\n",
       "            <td class=\"param\">verbose&nbsp;</td>\n",
       "            <td class=\"value\">False</td>\n",
       "        </tr>\n",
       "    \n",
       "\n",
       "        <tr class=\"default\">\n",
       "            <td><i class=\"copy-paste-icon\"\n",
       "                 onclick=\"copyToClipboard('warm_start',\n",
       "                          this.parentElement.nextElementSibling)\"\n",
       "            ></i></td>\n",
       "            <td class=\"param\">warm_start&nbsp;</td>\n",
       "            <td class=\"value\">False</td>\n",
       "        </tr>\n",
       "    \n",
       "\n",
       "        <tr class=\"default\">\n",
       "            <td><i class=\"copy-paste-icon\"\n",
       "                 onclick=\"copyToClipboard('momentum',\n",
       "                          this.parentElement.nextElementSibling)\"\n",
       "            ></i></td>\n",
       "            <td class=\"param\">momentum&nbsp;</td>\n",
       "            <td class=\"value\">0.9</td>\n",
       "        </tr>\n",
       "    \n",
       "\n",
       "        <tr class=\"default\">\n",
       "            <td><i class=\"copy-paste-icon\"\n",
       "                 onclick=\"copyToClipboard('nesterovs_momentum',\n",
       "                          this.parentElement.nextElementSibling)\"\n",
       "            ></i></td>\n",
       "            <td class=\"param\">nesterovs_momentum&nbsp;</td>\n",
       "            <td class=\"value\">True</td>\n",
       "        </tr>\n",
       "    \n",
       "\n",
       "        <tr class=\"default\">\n",
       "            <td><i class=\"copy-paste-icon\"\n",
       "                 onclick=\"copyToClipboard('early_stopping',\n",
       "                          this.parentElement.nextElementSibling)\"\n",
       "            ></i></td>\n",
       "            <td class=\"param\">early_stopping&nbsp;</td>\n",
       "            <td class=\"value\">False</td>\n",
       "        </tr>\n",
       "    \n",
       "\n",
       "        <tr class=\"default\">\n",
       "            <td><i class=\"copy-paste-icon\"\n",
       "                 onclick=\"copyToClipboard('validation_fraction',\n",
       "                          this.parentElement.nextElementSibling)\"\n",
       "            ></i></td>\n",
       "            <td class=\"param\">validation_fraction&nbsp;</td>\n",
       "            <td class=\"value\">0.1</td>\n",
       "        </tr>\n",
       "    \n",
       "\n",
       "        <tr class=\"default\">\n",
       "            <td><i class=\"copy-paste-icon\"\n",
       "                 onclick=\"copyToClipboard('beta_1',\n",
       "                          this.parentElement.nextElementSibling)\"\n",
       "            ></i></td>\n",
       "            <td class=\"param\">beta_1&nbsp;</td>\n",
       "            <td class=\"value\">0.9</td>\n",
       "        </tr>\n",
       "    \n",
       "\n",
       "        <tr class=\"default\">\n",
       "            <td><i class=\"copy-paste-icon\"\n",
       "                 onclick=\"copyToClipboard('beta_2',\n",
       "                          this.parentElement.nextElementSibling)\"\n",
       "            ></i></td>\n",
       "            <td class=\"param\">beta_2&nbsp;</td>\n",
       "            <td class=\"value\">0.999</td>\n",
       "        </tr>\n",
       "    \n",
       "\n",
       "        <tr class=\"default\">\n",
       "            <td><i class=\"copy-paste-icon\"\n",
       "                 onclick=\"copyToClipboard('epsilon',\n",
       "                          this.parentElement.nextElementSibling)\"\n",
       "            ></i></td>\n",
       "            <td class=\"param\">epsilon&nbsp;</td>\n",
       "            <td class=\"value\">1e-08</td>\n",
       "        </tr>\n",
       "    \n",
       "\n",
       "        <tr class=\"default\">\n",
       "            <td><i class=\"copy-paste-icon\"\n",
       "                 onclick=\"copyToClipboard('n_iter_no_change',\n",
       "                          this.parentElement.nextElementSibling)\"\n",
       "            ></i></td>\n",
       "            <td class=\"param\">n_iter_no_change&nbsp;</td>\n",
       "            <td class=\"value\">10</td>\n",
       "        </tr>\n",
       "    \n",
       "\n",
       "        <tr class=\"default\">\n",
       "            <td><i class=\"copy-paste-icon\"\n",
       "                 onclick=\"copyToClipboard('max_fun',\n",
       "                          this.parentElement.nextElementSibling)\"\n",
       "            ></i></td>\n",
       "            <td class=\"param\">max_fun&nbsp;</td>\n",
       "            <td class=\"value\">15000</td>\n",
       "        </tr>\n",
       "    \n",
       "                  </tbody>\n",
       "                </table>\n",
       "            </details>\n",
       "        </div>\n",
       "    </div></div></div></div></div></div></div><script>function copyToClipboard(text, element) {\n",
       "    // Get the parameter prefix from the closest toggleable content\n",
       "    const toggleableContent = element.closest('.sk-toggleable__content');\n",
       "    const paramPrefix = toggleableContent ? toggleableContent.dataset.paramPrefix : '';\n",
       "    const fullParamName = paramPrefix ? `${paramPrefix}${text}` : text;\n",
       "\n",
       "    const originalStyle = element.style;\n",
       "    const computedStyle = window.getComputedStyle(element);\n",
       "    const originalWidth = computedStyle.width;\n",
       "    const originalHTML = element.innerHTML.replace('Copied!', '');\n",
       "\n",
       "    navigator.clipboard.writeText(fullParamName)\n",
       "        .then(() => {\n",
       "            element.style.width = originalWidth;\n",
       "            element.style.color = 'green';\n",
       "            element.innerHTML = \"Copied!\";\n",
       "\n",
       "            setTimeout(() => {\n",
       "                element.innerHTML = originalHTML;\n",
       "                element.style = originalStyle;\n",
       "            }, 2000);\n",
       "        })\n",
       "        .catch(err => {\n",
       "            console.error('Failed to copy:', err);\n",
       "            element.style.color = 'red';\n",
       "            element.innerHTML = \"Failed!\";\n",
       "            setTimeout(() => {\n",
       "                element.innerHTML = originalHTML;\n",
       "                element.style = originalStyle;\n",
       "            }, 2000);\n",
       "        });\n",
       "    return false;\n",
       "}\n",
       "\n",
       "document.querySelectorAll('.fa-regular.fa-copy').forEach(function(element) {\n",
       "    const toggleableContent = element.closest('.sk-toggleable__content');\n",
       "    const paramPrefix = toggleableContent ? toggleableContent.dataset.paramPrefix : '';\n",
       "    const paramName = element.parentElement.nextElementSibling.textContent.trim();\n",
       "    const fullParamName = paramPrefix ? `${paramPrefix}${paramName}` : paramName;\n",
       "\n",
       "    element.setAttribute('title', fullParamName);\n",
       "});\n",
       "</script></body>"
      ],
      "text/plain": [
       "Pipeline(steps=[('standardscaler', StandardScaler()),\n",
       "                ('mlpclassifier',\n",
       "                 MLPClassifier(hidden_layer_sizes=[8], max_iter=1000,\n",
       "                               random_state=42))])"
      ]
     },
     "execution_count": 3,
     "metadata": {},
     "output_type": "execute_result"
    }
   ],
   "source": [
    "from sklearn.neural_network import MLPClassifier\n",
    "\n",
    "mlp_clf = MLPClassifier(hidden_layer_sizes=[8], random_state=42, max_iter=1000)\n",
    "pipeline = make_pipeline(StandardScaler(), mlp_clf)\n",
    "pipeline.fit(X, y)"
   ]
  },
  {
   "cell_type": "markdown",
   "id": "e160253e-2959-41ee-b374-1531702099cb",
   "metadata": {},
   "source": [
    "## **Implementing MLPs with Keras**"
   ]
  },
  {
   "cell_type": "markdown",
   "id": "360368be-1e74-42db-808f-22f9b16fb76c",
   "metadata": {},
   "source": [
    "### Building an Image Classifier Using the Sequential API"
   ]
  },
  {
   "cell_type": "markdown",
   "id": "5609cc06-bef4-4c25-895e-c748991b9173",
   "metadata": {},
   "source": [
    "load Fashion MNIST dataset"
   ]
  },
  {
   "cell_type": "code",
   "execution_count": 4,
   "id": "188f937f-0ae3-45a1-a15a-3506a8b69597",
   "metadata": {},
   "outputs": [],
   "source": [
    "import tensorflow as tf\n",
    "\n",
    "fashion_mnist = tf.keras.datasets.fashion_mnist.load_data()\n",
    "(X_train_full, y_train_full), (X_test, y_test) = fashion_mnist\n",
    "X_train, y_train = X_train_full[:-5000], y_train_full[:-5000]\n",
    "X_valid, y_valid = X_train_full[-5000:], y_train_full[-5000:]"
   ]
  },
  {
   "cell_type": "markdown",
   "id": "621f6341-fa93-4d2f-8e0d-c48eae6706b1",
   "metadata": {},
   "source": [
    "Look at the shape and data type of the training set:"
   ]
  },
  {
   "cell_type": "code",
   "execution_count": 5,
   "id": "2fb6b666-986e-4315-bf7b-75fbefeca3d6",
   "metadata": {},
   "outputs": [
    {
     "data": {
      "text/plain": [
       "(55000, 28, 28)"
      ]
     },
     "execution_count": 5,
     "metadata": {},
     "output_type": "execute_result"
    }
   ],
   "source": [
    "X_train.shape"
   ]
  },
  {
   "cell_type": "code",
   "execution_count": 6,
   "id": "d803f6a0-8ac0-48c6-b2fd-965e7f71a50d",
   "metadata": {},
   "outputs": [
    {
     "data": {
      "text/plain": [
       "dtype('uint8')"
      ]
     },
     "execution_count": 6,
     "metadata": {},
     "output_type": "execute_result"
    }
   ],
   "source": [
    "X_train.dtype"
   ]
  },
  {
   "cell_type": "markdown",
   "id": "7be168f3-d6a9-4913-bac0-0a6ef40f9148",
   "metadata": {},
   "source": [
    "For simplicity, scaling the pixel intensities down to the 0-1 range:"
   ]
  },
  {
   "cell_type": "code",
   "execution_count": 7,
   "id": "c0e4c5a7-7171-4e78-b1f1-bb3f69b3ef38",
   "metadata": {},
   "outputs": [],
   "source": [
    "X_train, X_valid, X_test = X_train / 255., X_valid / 255., X_test / 255."
   ]
  },
  {
   "cell_type": "markdown",
   "id": "913a7f7f-1a69-42ed-bf66-8efc831593ec",
   "metadata": {},
   "source": [
    "List of class names:"
   ]
  },
  {
   "cell_type": "code",
   "execution_count": 8,
   "id": "40f155c4-96c8-4852-952f-0290129bb676",
   "metadata": {},
   "outputs": [],
   "source": [
    "class_names = [\"T-shirt/top\", \"Trouser\", \"Pullover\", \"Dress\", \"Coat\",\n",
    "               \"Sandal\", \"Shirt\", \"sneaker\", \"Bag\", \"Ankle boot\"]"
   ]
  },
  {
   "cell_type": "code",
   "execution_count": 9,
   "id": "2df268ed-c97b-45c2-87f7-9c88e0ad1358",
   "metadata": {},
   "outputs": [
    {
     "data": {
      "text/plain": [
       "'Ankle boot'"
      ]
     },
     "execution_count": 9,
     "metadata": {},
     "output_type": "execute_result"
    }
   ],
   "source": [
    "# example first image in the training set represents an ankle boot:\n",
    "class_names[y_train[0]]"
   ]
  },
  {
   "cell_type": "markdown",
   "id": "775e9158-8170-4863-837e-76795aca9d07",
   "metadata": {},
   "source": [
    "Examples of what is in the dataset:"
   ]
  },
  {
   "cell_type": "code",
   "execution_count": 10,
   "id": "7e8e7d40-4050-4afe-a214-b392be00caaa",
   "metadata": {},
   "outputs": [
    {
     "data": {
      "image/png": "[encoded data removed]",
      "text/plain": [
       "<Figure size 1200x600 with 40 Axes>"
      ]
     },
     "metadata": {},
     "output_type": "display_data"
    }
   ],
   "source": [
    "import matplotlib.pyplot as plt\n",
    "\n",
    "samples = X_train[:40]\n",
    "plt.figure(figsize=(12,6))\n",
    "for i, img in enumerate(samples):\n",
    "    plt.subplot(4,10, i + 1)\n",
    "    plt.title(class_names[y_train[i]])\n",
    "    plt.imshow(img, cmap=\"binary\", interpolation=\"nearest\")\n",
    "    plt.axis(\"off\")\n",
    "\n",
    "plt.show()"
   ]
  },
  {
   "cell_type": "markdown",
   "id": "e06214c0-323f-42ee-ba0e-a787d2370101",
   "metadata": {},
   "source": [
    "### Creating the model using the sequential API"
   ]
  },
  {
   "cell_type": "code",
   "execution_count": 11,
   "id": "55f587ec-eeb6-4a30-9dff-e0bbada11337",
   "metadata": {},
   "outputs": [],
   "source": [
    "tf.random.set_seed(42)\n",
    "model = tf.keras.Sequential()\n",
    "model.add(tf.keras.layers.Input(shape=[28, 28]))\n",
    "model.add(tf.keras.layers.Flatten())\n",
    "model.add(tf.keras.layers.Dense(300, activation=\"relu\"))\n",
    "model.add(tf.keras.layers.Dense(100, activation=\"relu\"))\n",
    "model.add(tf.keras.layers.Dense(10, activation=\"softmax\"))"
   ]
  },
  {
   "cell_type": "markdown",
   "id": "5156b121-6d9b-47bc-ac67-be751aac7282",
   "metadata": {},
   "source": [
    "Create the same model in another way:"
   ]
  },
  {
   "cell_type": "code",
   "execution_count": 12,
   "id": "b474de5c-634c-41e3-8c8f-10ca59888c9c",
   "metadata": {},
   "outputs": [],
   "source": [
    "model = tf.keras.Sequential([\n",
    "    tf.keras.layers.Input([28, 28]),\n",
    "    tf.keras.layers.Flatten(),\n",
    "    tf.keras.layers.Dense(300, activation=\"relu\"),\n",
    "    tf.keras.layers.Dense(100, activation=\"relu\"),\n",
    "    tf.keras.layers.Dense(10, activation=\"softmax\")\n",
    "])"
   ]
  },
  {
   "cell_type": "markdown",
   "id": "1a117169-0e11-492e-9f2b-edc1a598ee7d",
   "metadata": {},
   "source": [
    "See model's summary (Output shape `None` means the batch size can be anything):"
   ]
  },
  {
   "cell_type": "code",
   "execution_count": 13,
   "id": "0057712b-2d4e-492f-ac4a-242ced1faef5",
   "metadata": {},
   "outputs": [
    {
     "data": {
      "text/html": [
       "<pre style=\"white-space:pre;overflow-x:auto;line-height:normal;font-family:Menlo,'DejaVu Sans Mono',consolas,'Courier New',monospace\"><span style=\"font-weight: bold\">Model: \"sequential_1\"</span>\n",
       "</pre>\n"
      ],
      "text/plain": [
       "\u001b[1mModel: \"sequential_1\"\u001b[0m\n"
      ]
     },
     "metadata": {},
     "output_type": "display_data"
    },
    {
     "data": {
      "text/html": [
       "<pre style=\"white-space:pre;overflow-x:auto;line-height:normal;font-family:Menlo,'DejaVu Sans Mono',consolas,'Courier New',monospace\">┏━━━━━━━━━━━━━━━━━━━━━━━━━━━━━━━━━━━━━━┳━━━━━━━━━━━━━━━━━━━━━━━━━━━━━┳━━━━━━━━━━━━━━━━━┓\n",
       "┃<span style=\"font-weight: bold\"> Layer (type)                         </span>┃<span style=\"font-weight: bold\"> Output Shape                </span>┃<span style=\"font-weight: bold\">         Param # </span>┃\n",
       "┡━━━━━━━━━━━━━━━━━━━━━━━━━━━━━━━━━━━━━━╇━━━━━━━━━━━━━━━━━━━━━━━━━━━━━╇━━━━━━━━━━━━━━━━━┩\n",
       "│ flatten_1 (<span style=\"color: #0087ff; text-decoration-color: #0087ff\">Flatten</span>)                  │ (<span style=\"color: #00d7ff; text-decoration-color: #00d7ff\">None</span>, <span style=\"color: #00af00; text-decoration-color: #00af00\">784</span>)                 │               <span style=\"color: #00af00; text-decoration-color: #00af00\">0</span> │\n",
       "├──────────────────────────────────────┼─────────────────────────────┼─────────────────┤\n",
       "│ dense_3 (<span style=\"color: #0087ff; text-decoration-color: #0087ff\">Dense</span>)                      │ (<span style=\"color: #00d7ff; text-decoration-color: #00d7ff\">None</span>, <span style=\"color: #00af00; text-decoration-color: #00af00\">300</span>)                 │         <span style=\"color: #00af00; text-decoration-color: #00af00\">235,500</span> │\n",
       "├──────────────────────────────────────┼─────────────────────────────┼─────────────────┤\n",
       "│ dense_4 (<span style=\"color: #0087ff; text-decoration-color: #0087ff\">Dense</span>)                      │ (<span style=\"color: #00d7ff; text-decoration-color: #00d7ff\">None</span>, <span style=\"color: #00af00; text-decoration-color: #00af00\">100</span>)                 │          <span style=\"color: #00af00; text-decoration-color: #00af00\">30,100</span> │\n",
       "├──────────────────────────────────────┼─────────────────────────────┼─────────────────┤\n",
       "│ dense_5 (<span style=\"color: #0087ff; text-decoration-color: #0087ff\">Dense</span>)                      │ (<span style=\"color: #00d7ff; text-decoration-color: #00d7ff\">None</span>, <span style=\"color: #00af00; text-decoration-color: #00af00\">10</span>)                  │           <span style=\"color: #00af00; text-decoration-color: #00af00\">1,010</span> │\n",
       "└──────────────────────────────────────┴─────────────────────────────┴─────────────────┘\n",
       "</pre>\n"
      ],
      "text/plain": [
       "┏━━━━━━━━━━━━━━━━━━━━━━━━━━━━━━━━━━━━━━┳━━━━━━━━━━━━━━━━━━━━━━━━━━━━━┳━━━━━━━━━━━━━━━━━┓\n",
       "┃\u001b[1m \u001b[0m\u001b[1mLayer (type)                        \u001b[0m\u001b[1m \u001b[0m┃\u001b[1m \u001b[0m\u001b[1mOutput Shape               \u001b[0m\u001b[1m \u001b[0m┃\u001b[1m \u001b[0m\u001b[1m        Param #\u001b[0m\u001b[1m \u001b[0m┃\n",
       "┡━━━━━━━━━━━━━━━━━━━━━━━━━━━━━━━━━━━━━━╇━━━━━━━━━━━━━━━━━━━━━━━━━━━━━╇━━━━━━━━━━━━━━━━━┩\n",
       "│ flatten_1 (\u001b[38;5;33mFlatten\u001b[0m)                  │ (\u001b[38;5;45mNone\u001b[0m, \u001b[38;5;34m784\u001b[0m)                 │               \u001b[38;5;34m0\u001b[0m │\n",
       "├──────────────────────────────────────┼─────────────────────────────┼─────────────────┤\n",
       "│ dense_3 (\u001b[38;5;33mDense\u001b[0m)                      │ (\u001b[38;5;45mNone\u001b[0m, \u001b[38;5;34m300\u001b[0m)                 │         \u001b[38;5;34m235,500\u001b[0m │\n",
       "├──────────────────────────────────────┼─────────────────────────────┼─────────────────┤\n",
       "│ dense_4 (\u001b[38;5;33mDense\u001b[0m)                      │ (\u001b[38;5;45mNone\u001b[0m, \u001b[38;5;34m100\u001b[0m)                 │          \u001b[38;5;34m30,100\u001b[0m │\n",
       "├──────────────────────────────────────┼─────────────────────────────┼─────────────────┤\n",
       "│ dense_5 (\u001b[38;5;33mDense\u001b[0m)                      │ (\u001b[38;5;45mNone\u001b[0m, \u001b[38;5;34m10\u001b[0m)                  │           \u001b[38;5;34m1,010\u001b[0m │\n",
       "└──────────────────────────────────────┴─────────────────────────────┴─────────────────┘\n"
      ]
     },
     "metadata": {},
     "output_type": "display_data"
    },
    {
     "data": {
      "text/html": [
       "<pre style=\"white-space:pre;overflow-x:auto;line-height:normal;font-family:Menlo,'DejaVu Sans Mono',consolas,'Courier New',monospace\"><span style=\"font-weight: bold\"> Total params: </span><span style=\"color: #00af00; text-decoration-color: #00af00\">266,610</span> (1.02 MB)\n",
       "</pre>\n"
      ],
      "text/plain": [
       "\u001b[1m Total params: \u001b[0m\u001b[38;5;34m266,610\u001b[0m (1.02 MB)\n"
      ]
     },
     "metadata": {},
     "output_type": "display_data"
    },
    {
     "data": {
      "text/html": [
       "<pre style=\"white-space:pre;overflow-x:auto;line-height:normal;font-family:Menlo,'DejaVu Sans Mono',consolas,'Courier New',monospace\"><span style=\"font-weight: bold\"> Trainable params: </span><span style=\"color: #00af00; text-decoration-color: #00af00\">266,610</span> (1.02 MB)\n",
       "</pre>\n"
      ],
      "text/plain": [
       "\u001b[1m Trainable params: \u001b[0m\u001b[38;5;34m266,610\u001b[0m (1.02 MB)\n"
      ]
     },
     "metadata": {},
     "output_type": "display_data"
    },
    {
     "data": {
      "text/html": [
       "<pre style=\"white-space:pre;overflow-x:auto;line-height:normal;font-family:Menlo,'DejaVu Sans Mono',consolas,'Courier New',monospace\"><span style=\"font-weight: bold\"> Non-trainable params: </span><span style=\"color: #00af00; text-decoration-color: #00af00\">0</span> (0.00 B)\n",
       "</pre>\n"
      ],
      "text/plain": [
       "\u001b[1m Non-trainable params: \u001b[0m\u001b[38;5;34m0\u001b[0m (0.00 B)\n"
      ]
     },
     "metadata": {},
     "output_type": "display_data"
    }
   ],
   "source": [
    "model.summary()"
   ]
  },
  {
   "cell_type": "markdown",
   "id": "2d97cfcb-edba-4629-9fd0-5bf3e4f69d7c",
   "metadata": {},
   "source": [
    "Generate image of the model:"
   ]
  },
  {
   "cell_type": "code",
   "execution_count": 14,
   "id": "10178171-b487-4b1d-b8a1-8d49054b8319",
   "metadata": {},
   "outputs": [
    {
     "data": {
      "image/png": "[encoded data removed]",
      "text/plain": [
       "<IPython.core.display.Image object>"
      ]
     },
     "execution_count": 14,
     "metadata": {},
     "output_type": "execute_result"
    }
   ],
   "source": [
    "tf.keras.utils.plot_model(model)"
   ]
  },
  {
   "cell_type": "markdown",
   "id": "9d675c71-2c08-4a8f-b468-6762df1a6ad6",
   "metadata": {},
   "source": [
    "We can easily get a model's list of layers using the layers attribute, or use the get_layer() method to access a layer by name:"
   ]
  },
  {
   "cell_type": "code",
   "execution_count": 15,
   "id": "8daa0735-700a-4baa-a3ff-4d49643c21fb",
   "metadata": {},
   "outputs": [
    {
     "data": {
      "text/plain": [
       "[<Flatten name=flatten_1, built=True>,\n",
       " <Dense name=dense_3, built=True>,\n",
       " <Dense name=dense_4, built=True>,\n",
       " <Dense name=dense_5, built=True>]"
      ]
     },
     "execution_count": 15,
     "metadata": {},
     "output_type": "execute_result"
    }
   ],
   "source": [
    "model.layers"
   ]
  },
  {
   "cell_type": "code",
   "execution_count": 16,
   "id": "56096452-d22b-4aac-b5c2-414a0c280c97",
   "metadata": {},
   "outputs": [],
   "source": [
    "hidden1 = model.layers[1]"
   ]
  },
  {
   "cell_type": "code",
   "execution_count": 17,
   "id": "5f4d6313-263d-4b90-9917-2b09eafbd177",
   "metadata": {},
   "outputs": [
    {
     "data": {
      "text/plain": [
       "'dense_3'"
      ]
     },
     "execution_count": 17,
     "metadata": {},
     "output_type": "execute_result"
    }
   ],
   "source": [
    "hidden1.name"
   ]
  },
  {
   "cell_type": "code",
   "execution_count": 18,
   "id": "de49fd28-f6d0-4386-8ba2-98c3332fdeaa",
   "metadata": {},
   "outputs": [
    {
     "data": {
      "text/plain": [
       "True"
      ]
     },
     "execution_count": 18,
     "metadata": {},
     "output_type": "execute_result"
    }
   ],
   "source": [
    "model.get_layer(\"dense_3\") is hidden1"
   ]
  },
  {
   "cell_type": "markdown",
   "id": "259a1469-a142-4b1f-8bc7-575d331fec90",
   "metadata": {},
   "source": [
    "All the parameters of a layer can be accessed using its get_weights() and\n",
    "set_weights() methods. For a Dense layer, this includes both the\n",
    "connection weights and the bias terms:"
   ]
  },
  {
   "cell_type": "code",
   "execution_count": 19,
   "id": "6e9bef6a-c487-4e8d-841a-4a4593ec5efc",
   "metadata": {},
   "outputs": [
    {
     "data": {
      "text/plain": [
       "array([[-0.04402869, -0.03600916, -0.01503015, ...,  0.05740489,\n",
       "         0.02589428,  0.03527949],\n",
       "       [-0.01074676, -0.02641466,  0.03136092, ..., -0.01200179,\n",
       "        -0.04055764, -0.00660105],\n",
       "       [-0.05771956, -0.00217973, -0.06072535, ..., -0.01260354,\n",
       "         0.02791464, -0.0282544 ],\n",
       "       ...,\n",
       "       [ 0.05136919, -0.02952496, -0.0283279 , ...,  0.07245648,\n",
       "         0.06799358, -0.0164378 ],\n",
       "       [-0.0699294 ,  0.03333056, -0.02845388, ...,  0.00871429,\n",
       "         0.02241268, -0.04905579],\n",
       "       [-0.05447011,  0.0110651 ,  0.02163967, ..., -0.07403853,\n",
       "        -0.03723942,  0.02403144]], shape=(784, 300), dtype=float32)"
      ]
     },
     "execution_count": 19,
     "metadata": {},
     "output_type": "execute_result"
    }
   ],
   "source": [
    "weights, biases = hidden1.get_weights()\n",
    "weights"
   ]
  },
  {
   "cell_type": "code",
   "execution_count": 20,
   "id": "7ebad2e5-8cff-4127-b284-a5c3b59a07cd",
   "metadata": {},
   "outputs": [
    {
     "data": {
      "text/plain": [
       "(784, 300)"
      ]
     },
     "execution_count": 20,
     "metadata": {},
     "output_type": "execute_result"
    }
   ],
   "source": [
    "weights.shape"
   ]
  },
  {
   "cell_type": "code",
   "execution_count": 21,
   "id": "54d3c155-0e3d-48e5-bd6a-21baa90f0181",
   "metadata": {},
   "outputs": [
    {
     "data": {
      "text/plain": [
       "(300,)"
      ]
     },
     "execution_count": 21,
     "metadata": {},
     "output_type": "execute_result"
    }
   ],
   "source": [
    "biases.shape"
   ]
  },
  {
   "cell_type": "markdown",
   "id": "82d6f924-f9e6-46e4-8b4d-253e7ff69815",
   "metadata": {},
   "source": [
    "### Compiling the model"
   ]
  },
  {
   "cell_type": "markdown",
   "id": "86fdd1f2-902b-44de-ab80-7905923c3527",
   "metadata": {},
   "source": [
    "After a model is created, you must call its compile() method to specify the\n",
    "loss function and the optimizer to use. Optionally, you can specify a list of\n",
    "extra metrics to compute during training and evaluation:"
   ]
  },
  {
   "cell_type": "code",
   "execution_count": 22,
   "id": "b9ce8d82-7903-45b1-82ce-2f6bef05fedf",
   "metadata": {},
   "outputs": [],
   "source": [
    "model.compile(loss=\"sparse_categorical_crossentropy\",\n",
    "              optimizer=\"sgd\",\n",
    "              metrics=[\"accuracy\"])"
   ]
  },
  {
   "cell_type": "markdown",
   "id": "93ea406e-a7d9-4348-92e3-f28d0269269d",
   "metadata": {},
   "source": [
    "### Training and evaluating the model"
   ]
  },
  {
   "cell_type": "code",
   "execution_count": 23,
   "id": "1ced403e-37db-40d0-9c7d-faf2808c9812",
   "metadata": {
    "scrolled": true
   },
   "outputs": [
    {
     "name": "stdout",
     "output_type": "stream",
     "text": [
      "Epoch 1/30\n",
      "\u001b[1m1719/1719\u001b[0m \u001b[32m━━━━━━━━━━━━━━━━━━━━\u001b[0m\u001b[37m\u001b[0m \u001b[1m9s\u001b[0m 5ms/step - accuracy: 0.7566 - loss: 0.7330 - val_accuracy: 0.8314 - val_loss: 0.5083\n",
      "Epoch 2/30\n",
      "\u001b[1m1719/1719\u001b[0m \u001b[32m━━━━━━━━━━━━━━━━━━━━\u001b[0m\u001b[37m\u001b[0m \u001b[1m10s\u001b[0m 6ms/step - accuracy: 0.8289 - loss: 0.4908 - val_accuracy: 0.8396 - val_loss: 0.4566\n",
      "Epoch 3/30\n",
      "\u001b[1m1719/1719\u001b[0m \u001b[32m━━━━━━━━━━━━━━━━━━━━\u001b[0m\u001b[37m\u001b[0m \u001b[1m10s\u001b[0m 6ms/step - accuracy: 0.8445 - loss: 0.4449 - val_accuracy: 0.8466 - val_loss: 0.4324\n",
      "Epoch 4/30\n",
      "\u001b[1m1719/1719\u001b[0m \u001b[32m━━━━━━━━━━━━━━━━━━━━\u001b[0m\u001b[37m\u001b[0m \u001b[1m10s\u001b[0m 6ms/step - accuracy: 0.8533 - loss: 0.4167 - val_accuracy: 0.8530 - val_loss: 0.4150\n",
      "Epoch 5/30\n",
      "\u001b[1m1719/1719\u001b[0m \u001b[32m━━━━━━━━━━━━━━━━━━━━\u001b[0m\u001b[37m\u001b[0m \u001b[1m10s\u001b[0m 6ms/step - accuracy: 0.8603 - loss: 0.3956 - val_accuracy: 0.8550 - val_loss: 0.4031\n",
      "Epoch 6/30\n",
      "\u001b[1m1719/1719\u001b[0m \u001b[32m━━━━━━━━━━━━━━━━━━━━\u001b[0m\u001b[37m\u001b[0m \u001b[1m10s\u001b[0m 6ms/step - accuracy: 0.8660 - loss: 0.3790 - val_accuracy: 0.8578 - val_loss: 0.3953\n",
      "Epoch 7/30\n",
      "\u001b[1m1719/1719\u001b[0m \u001b[32m━━━━━━━━━━━━━━━━━━━━\u001b[0m\u001b[37m\u001b[0m \u001b[1m10s\u001b[0m 6ms/step - accuracy: 0.8704 - loss: 0.3650 - val_accuracy: 0.8622 - val_loss: 0.3852\n",
      "Epoch 8/30\n",
      "\u001b[1m1719/1719\u001b[0m \u001b[32m━━━━━━━━━━━━━━━━━━━━\u001b[0m\u001b[37m\u001b[0m \u001b[1m10s\u001b[0m 6ms/step - accuracy: 0.8749 - loss: 0.3531 - val_accuracy: 0.8652 - val_loss: 0.3789\n",
      "Epoch 9/30\n",
      "\u001b[1m1719/1719\u001b[0m \u001b[32m━━━━━━━━━━━━━━━━━━━━\u001b[0m\u001b[37m\u001b[0m \u001b[1m10s\u001b[0m 6ms/step - accuracy: 0.8777 - loss: 0.3426 - val_accuracy: 0.8664 - val_loss: 0.3718\n",
      "Epoch 10/30\n",
      "\u001b[1m1719/1719\u001b[0m \u001b[32m━━━━━━━━━━━━━━━━━━━━\u001b[0m\u001b[37m\u001b[0m \u001b[1m10s\u001b[0m 6ms/step - accuracy: 0.8809 - loss: 0.3331 - val_accuracy: 0.8688 - val_loss: 0.3667\n",
      "Epoch 11/30\n",
      "\u001b[1m1719/1719\u001b[0m \u001b[32m━━━━━━━━━━━━━━━━━━━━\u001b[0m\u001b[37m\u001b[0m \u001b[1m10s\u001b[0m 6ms/step - accuracy: 0.8834 - loss: 0.3244 - val_accuracy: 0.8710 - val_loss: 0.3621\n",
      "Epoch 12/30\n",
      "\u001b[1m1719/1719\u001b[0m \u001b[32m━━━━━━━━━━━━━━━━━━━━\u001b[0m\u001b[37m\u001b[0m \u001b[1m10s\u001b[0m 6ms/step - accuracy: 0.8861 - loss: 0.3164 - val_accuracy: 0.8726 - val_loss: 0.3592\n",
      "Epoch 13/30\n",
      "\u001b[1m1719/1719\u001b[0m \u001b[32m━━━━━━━━━━━━━━━━━━━━\u001b[0m\u001b[37m\u001b[0m \u001b[1m10s\u001b[0m 6ms/step - accuracy: 0.8888 - loss: 0.3090 - val_accuracy: 0.8736 - val_loss: 0.3566\n",
      "Epoch 14/30\n",
      "\u001b[1m1719/1719\u001b[0m \u001b[32m━━━━━━━━━━━━━━━━━━━━\u001b[0m\u001b[37m\u001b[0m \u001b[1m10s\u001b[0m 6ms/step - accuracy: 0.8909 - loss: 0.3021 - val_accuracy: 0.8728 - val_loss: 0.3537\n",
      "Epoch 15/30\n",
      "\u001b[1m1719/1719\u001b[0m \u001b[32m━━━━━━━━━━━━━━━━━━━━\u001b[0m\u001b[37m\u001b[0m \u001b[1m10s\u001b[0m 6ms/step - accuracy: 0.8933 - loss: 0.2956 - val_accuracy: 0.8740 - val_loss: 0.3511\n",
      "Epoch 16/30\n",
      "\u001b[1m1719/1719\u001b[0m \u001b[32m━━━━━━━━━━━━━━━━━━━━\u001b[0m\u001b[37m\u001b[0m \u001b[1m10s\u001b[0m 6ms/step - accuracy: 0.8953 - loss: 0.2895 - val_accuracy: 0.8740 - val_loss: 0.3491\n",
      "Epoch 17/30\n",
      "\u001b[1m1719/1719\u001b[0m \u001b[32m━━━━━━━━━━━━━━━━━━━━\u001b[0m\u001b[37m\u001b[0m \u001b[1m10s\u001b[0m 6ms/step - accuracy: 0.8970 - loss: 0.2838 - val_accuracy: 0.8744 - val_loss: 0.3469\n",
      "Epoch 18/30\n",
      "\u001b[1m1719/1719\u001b[0m \u001b[32m━━━━━━━━━━━━━━━━━━━━\u001b[0m\u001b[37m\u001b[0m \u001b[1m10s\u001b[0m 6ms/step - accuracy: 0.8990 - loss: 0.2782 - val_accuracy: 0.8754 - val_loss: 0.3461\n",
      "Epoch 19/30\n",
      "\u001b[1m1719/1719\u001b[0m \u001b[32m━━━━━━━━━━━━━━━━━━━━\u001b[0m\u001b[37m\u001b[0m \u001b[1m10s\u001b[0m 6ms/step - accuracy: 0.9016 - loss: 0.2727 - val_accuracy: 0.8752 - val_loss: 0.3449\n",
      "Epoch 20/30\n",
      "\u001b[1m1719/1719\u001b[0m \u001b[32m━━━━━━━━━━━━━━━━━━━━\u001b[0m\u001b[37m\u001b[0m \u001b[1m10s\u001b[0m 6ms/step - accuracy: 0.9036 - loss: 0.2676 - val_accuracy: 0.8756 - val_loss: 0.3442\n",
      "Epoch 21/30\n",
      "\u001b[1m1719/1719\u001b[0m \u001b[32m━━━━━━━━━━━━━━━━━━━━\u001b[0m\u001b[37m\u001b[0m \u001b[1m10s\u001b[0m 6ms/step - accuracy: 0.9054 - loss: 0.2627 - val_accuracy: 0.8778 - val_loss: 0.3442\n",
      "Epoch 22/30\n",
      "\u001b[1m1719/1719\u001b[0m \u001b[32m━━━━━━━━━━━━━━━━━━━━\u001b[0m\u001b[37m\u001b[0m \u001b[1m10s\u001b[0m 6ms/step - accuracy: 0.9072 - loss: 0.2580 - val_accuracy: 0.8780 - val_loss: 0.3449\n",
      "Epoch 23/30\n",
      "\u001b[1m1719/1719\u001b[0m \u001b[32m━━━━━━━━━━━━━━━━━━━━\u001b[0m\u001b[37m\u001b[0m \u001b[1m10s\u001b[0m 6ms/step - accuracy: 0.9091 - loss: 0.2532 - val_accuracy: 0.8790 - val_loss: 0.3438\n",
      "Epoch 24/30\n",
      "\u001b[1m1719/1719\u001b[0m \u001b[32m━━━━━━━━━━━━━━━━━━━━\u001b[0m\u001b[37m\u001b[0m \u001b[1m10s\u001b[0m 6ms/step - accuracy: 0.9109 - loss: 0.2487 - val_accuracy: 0.8800 - val_loss: 0.3448\n",
      "Epoch 25/30\n",
      "\u001b[1m1719/1719\u001b[0m \u001b[32m━━━━━━━━━━━━━━━━━━━━\u001b[0m\u001b[37m\u001b[0m \u001b[1m10s\u001b[0m 6ms/step - accuracy: 0.9129 - loss: 0.2443 - val_accuracy: 0.8798 - val_loss: 0.3438\n",
      "Epoch 26/30\n",
      "\u001b[1m1719/1719\u001b[0m \u001b[32m━━━━━━━━━━━━━━━━━━━━\u001b[0m\u001b[37m\u001b[0m \u001b[1m10s\u001b[0m 6ms/step - accuracy: 0.9142 - loss: 0.2401 - val_accuracy: 0.8798 - val_loss: 0.3440\n",
      "Epoch 27/30\n",
      "\u001b[1m1719/1719\u001b[0m \u001b[32m━━━━━━━━━━━━━━━━━━━━\u001b[0m\u001b[37m\u001b[0m \u001b[1m10s\u001b[0m 6ms/step - accuracy: 0.9159 - loss: 0.2360 - val_accuracy: 0.8792 - val_loss: 0.3450\n",
      "Epoch 28/30\n",
      "\u001b[1m1719/1719\u001b[0m \u001b[32m━━━━━━━━━━━━━━━━━━━━\u001b[0m\u001b[37m\u001b[0m \u001b[1m10s\u001b[0m 6ms/step - accuracy: 0.9172 - loss: 0.2320 - val_accuracy: 0.8776 - val_loss: 0.3463\n",
      "Epoch 29/30\n",
      "\u001b[1m1719/1719\u001b[0m \u001b[32m━━━━━━━━━━━━━━━━━━━━\u001b[0m\u001b[37m\u001b[0m \u001b[1m10s\u001b[0m 6ms/step - accuracy: 0.9189 - loss: 0.2282 - val_accuracy: 0.8792 - val_loss: 0.3454\n",
      "Epoch 30/30\n",
      "\u001b[1m1719/1719\u001b[0m \u001b[32m━━━━━━━━━━━━━━━━━━━━\u001b[0m\u001b[37m\u001b[0m \u001b[1m10s\u001b[0m 6ms/step - accuracy: 0.9207 - loss: 0.2242 - val_accuracy: 0.8806 - val_loss: 0.3456\n"
     ]
    }
   ],
   "source": [
    "history = model.fit(X_train, y_train, epochs=30,\n",
    "                    validation_data=(X_valid, y_valid))"
   ]
  },
  {
   "cell_type": "markdown",
   "id": "244138a2-5807-455b-ba7b-21cc35d4d346",
   "metadata": {},
   "source": [
    "Plot graph of the the dictionary containing the loss and extra metrics it measured at the end of each epoch on the training set and on the validation set:"
   ]
  },
  {
   "cell_type": "code",
   "execution_count": 24,
   "id": "864572ce-fc2b-485d-8324-a5bbb0734938",
   "metadata": {},
   "outputs": [
    {
     "data": {
      "image/png": "[encoded data removed]",
      "text/plain": [
       "<Figure size 800x500 with 1 Axes>"
      ]
     },
     "metadata": {},
     "output_type": "display_data"
    }
   ],
   "source": [
    "import pandas as pd\n",
    "\n",
    "pd.DataFrame(history.history).plot(\n",
    "    figsize=(8, 5), xlim=[0, 29], ylim=[0, 1], grid=True, xlabel=\"Epoch\",\n",
    "    style=[\"r--\", \"r--.\", \"b-\", \"b-*\"])\n",
    "plt.show()"
   ]
  },
  {
   "cell_type": "markdown",
   "id": "f2fd94dc-4d72-4909-83c6-5ad618428a5b",
   "metadata": {},
   "source": [
    "If we call fit again, Keras just continues training where it left off:"
   ]
  },
  {
   "cell_type": "code",
   "execution_count": 25,
   "id": "5e4867b2-f66b-4d57-917d-a73b6875511d",
   "metadata": {},
   "outputs": [
    {
     "name": "stdout",
     "output_type": "stream",
     "text": [
      "Epoch 1/10\n",
      "\u001b[1m1719/1719\u001b[0m \u001b[32m━━━━━━━━━━━━━━━━━━━━\u001b[0m\u001b[37m\u001b[0m \u001b[1m10s\u001b[0m 6ms/step - accuracy: 0.9220 - loss: 0.2204 - val_accuracy: 0.8792 - val_loss: 0.3462\n",
      "Epoch 2/10\n",
      "\u001b[1m1719/1719\u001b[0m \u001b[32m━━━━━━━━━━━━━━━━━━━━\u001b[0m\u001b[37m\u001b[0m \u001b[1m10s\u001b[0m 6ms/step - accuracy: 0.9233 - loss: 0.2167 - val_accuracy: 0.8782 - val_loss: 0.3442\n",
      "Epoch 3/10\n",
      "\u001b[1m1719/1719\u001b[0m \u001b[32m━━━━━━━━━━━━━━━━━━━━\u001b[0m\u001b[37m\u001b[0m \u001b[1m10s\u001b[0m 6ms/step - accuracy: 0.9252 - loss: 0.2129 - val_accuracy: 0.8772 - val_loss: 0.3455\n",
      "Epoch 4/10\n",
      "\u001b[1m1719/1719\u001b[0m \u001b[32m━━━━━━━━━━━━━━━━━━━━\u001b[0m\u001b[37m\u001b[0m \u001b[1m10s\u001b[0m 6ms/step - accuracy: 0.9263 - loss: 0.2094 - val_accuracy: 0.8782 - val_loss: 0.3424\n",
      "Epoch 5/10\n",
      "\u001b[1m1719/1719\u001b[0m \u001b[32m━━━━━━━━━━━━━━━━━━━━\u001b[0m\u001b[37m\u001b[0m \u001b[1m10s\u001b[0m 6ms/step - accuracy: 0.9278 - loss: 0.2058 - val_accuracy: 0.8788 - val_loss: 0.3429\n",
      "Epoch 6/10\n",
      "\u001b[1m1719/1719\u001b[0m \u001b[32m━━━━━━━━━━━━━━━━━━━━\u001b[0m\u001b[37m\u001b[0m \u001b[1m10s\u001b[0m 6ms/step - accuracy: 0.9292 - loss: 0.2024 - val_accuracy: 0.8778 - val_loss: 0.3443\n",
      "Epoch 7/10\n",
      "\u001b[1m1719/1719\u001b[0m \u001b[32m━━━━━━━━━━━━━━━━━━━━\u001b[0m\u001b[37m\u001b[0m \u001b[1m10s\u001b[0m 6ms/step - accuracy: 0.9307 - loss: 0.1989 - val_accuracy: 0.8796 - val_loss: 0.3431\n",
      "Epoch 8/10\n",
      "\u001b[1m1719/1719\u001b[0m \u001b[32m━━━━━━━━━━━━━━━━━━━━\u001b[0m\u001b[37m\u001b[0m \u001b[1m10s\u001b[0m 6ms/step - accuracy: 0.9325 - loss: 0.1956 - val_accuracy: 0.8796 - val_loss: 0.3438\n",
      "Epoch 9/10\n",
      "\u001b[1m1719/1719\u001b[0m \u001b[32m━━━━━━━━━━━━━━━━━━━━\u001b[0m\u001b[37m\u001b[0m \u001b[1m10s\u001b[0m 6ms/step - accuracy: 0.9337 - loss: 0.1921 - val_accuracy: 0.8800 - val_loss: 0.3424\n",
      "Epoch 10/10\n",
      "\u001b[1m1719/1719\u001b[0m \u001b[32m━━━━━━━━━━━━━━━━━━━━\u001b[0m\u001b[37m\u001b[0m \u001b[1m10s\u001b[0m 6ms/step - accuracy: 0.9349 - loss: 0.1888 - val_accuracy: 0.8794 - val_loss: 0.3441\n"
     ]
    }
   ],
   "source": [
    "history = model.fit(X_train, y_train, epochs=10,\n",
    "                    validation_data=(X_valid, y_valid))"
   ]
  },
  {
   "cell_type": "markdown",
   "id": "e2672822-314c-44b8-a548-d7e99875a7fc",
   "metadata": {},
   "source": [
    "Evaluate model:"
   ]
  },
  {
   "cell_type": "code",
   "execution_count": 26,
   "id": "9a2882ef-0438-4cc1-a5d0-0a00451b27a9",
   "metadata": {},
   "outputs": [
    {
     "name": "stdout",
     "output_type": "stream",
     "text": [
      "\u001b[1m313/313\u001b[0m \u001b[32m━━━━━━━━━━━━━━━━━━━━\u001b[0m\u001b[37m\u001b[0m \u001b[1m1s\u001b[0m 4ms/step - accuracy: 0.8792 - loss: 0.3596\n"
     ]
    },
    {
     "data": {
      "text/plain": [
       "[0.3595830202102661, 0.8791999816894531]"
      ]
     },
     "execution_count": 26,
     "metadata": {},
     "output_type": "execute_result"
    }
   ],
   "source": [
    "model.evaluate(X_test, y_test)"
   ]
  },
  {
   "cell_type": "markdown",
   "id": "67149280-5bb1-4d4d-b1ed-122701f6e224",
   "metadata": {},
   "source": [
    "### Using the model to make predictions:"
   ]
  },
  {
   "cell_type": "code",
   "execution_count": 27,
   "id": "7f013be9-e3a7-41a6-a125-ef71531e65fc",
   "metadata": {},
   "outputs": [
    {
     "name": "stdout",
     "output_type": "stream",
     "text": [
      "\u001b[1m1/1\u001b[0m \u001b[32m━━━━━━━━━━━━━━━━━━━━\u001b[0m\u001b[37m\u001b[0m \u001b[1m0s\u001b[0m 135ms/step\n"
     ]
    },
    {
     "data": {
      "text/plain": [
       "array([[0.  , 0.  , 0.  , 0.  , 0.  , 0.08, 0.  , 0.01, 0.  , 0.91],\n",
       "       [0.  , 0.  , 1.  , 0.  , 0.  , 0.  , 0.  , 0.  , 0.  , 0.  ],\n",
       "       [0.  , 1.  , 0.  , 0.  , 0.  , 0.  , 0.  , 0.  , 0.  , 0.  ]],\n",
       "      dtype=float32)"
      ]
     },
     "execution_count": 27,
     "metadata": {},
     "output_type": "execute_result"
    }
   ],
   "source": [
    "X_new = X_test[:3]\n",
    "y_proba = model.predict(X_new)\n",
    "y_proba.round(2)"
   ]
  },
  {
   "cell_type": "markdown",
   "id": "ec167c02-62fd-4c11-b617-84e960a4c248",
   "metadata": {},
   "source": [
    "get classes with highest estimated probability:"
   ]
  },
  {
   "cell_type": "code",
   "execution_count": 28,
   "id": "9abf7694-f873-40e3-92b4-1e35c287e17f",
   "metadata": {},
   "outputs": [
    {
     "data": {
      "text/plain": [
       "array([9, 2, 1])"
      ]
     },
     "execution_count": 28,
     "metadata": {},
     "output_type": "execute_result"
    }
   ],
   "source": [
    "y_pred = y_proba.argmax(axis=1)\n",
    "y_pred"
   ]
  },
  {
   "cell_type": "code",
   "execution_count": 29,
   "id": "b5861b65-5c9e-4051-9cc4-f6ba037313c8",
   "metadata": {},
   "outputs": [
    {
     "data": {
      "text/plain": [
       "array(['Ankle boot', 'Pullover', 'Trouser'], dtype='<U11')"
      ]
     },
     "execution_count": 29,
     "metadata": {},
     "output_type": "execute_result"
    }
   ],
   "source": [
    "np.array(class_names)[y_pred]"
   ]
  },
  {
   "cell_type": "markdown",
   "id": "8cfe46d0-088e-4b6f-8b2c-e28effd12e34",
   "metadata": {},
   "source": [
    "Actual answers:"
   ]
  },
  {
   "cell_type": "code",
   "execution_count": 30,
   "id": "63f05062-c2c8-48f8-92e3-f21720532f10",
   "metadata": {},
   "outputs": [
    {
     "data": {
      "text/plain": [
       "array([9, 2, 1], dtype=uint8)"
      ]
     },
     "execution_count": 30,
     "metadata": {},
     "output_type": "execute_result"
    }
   ],
   "source": [
    "y_new = y_test[:3]\n",
    "y_new"
   ]
  },
  {
   "cell_type": "markdown",
   "id": "ba0116d3-33a9-41d9-9563-f03220fdc530",
   "metadata": {},
   "source": [
    "### Building a Regression MLP using the sequential API "
   ]
  },
  {
   "cell_type": "markdown",
   "id": "5374929b-962c-4bb8-abec-9f84c03645ae",
   "metadata": {},
   "source": [
    "Doing regression on the California dataset:"
   ]
  },
  {
   "cell_type": "code",
   "execution_count": 31,
   "id": "8dd3bd50-e29c-4f26-9ce1-cbfc3dd8d0b4",
   "metadata": {},
   "outputs": [],
   "source": [
    "housing = fetch_california_housing()\n",
    "X_train_full, X_test, y_train_full, y_test = train_test_split(\n",
    "    housing.data, housing.target, random_state=42)\n",
    "X_train, X_valid, y_train, y_valid = train_test_split(\n",
    "    X_train_full, y_train_full, random_state=42)"
   ]
  },
  {
   "cell_type": "code",
   "execution_count": 32,
   "id": "3462e16c-b5a9-4aad-b916-9700acc7a7a4",
   "metadata": {},
   "outputs": [
    {
     "name": "stdout",
     "output_type": "stream",
     "text": [
      "Epoch 1/20\n",
      "\u001b[1m363/363\u001b[0m \u001b[32m━━━━━━━━━━━━━━━━━━━━\u001b[0m\u001b[37m\u001b[0m \u001b[1m4s\u001b[0m 5ms/step - RootMeanSquaredError: 0.9484 - loss: 0.8995 - val_RootMeanSquaredError: 0.7292 - val_loss: 0.5317\n",
      "Epoch 2/20\n",
      "\u001b[1m363/363\u001b[0m \u001b[32m━━━━━━━━━━━━━━━━━━━━\u001b[0m\u001b[37m\u001b[0m \u001b[1m2s\u001b[0m 4ms/step - RootMeanSquaredError: 0.6109 - loss: 0.3732 - val_RootMeanSquaredError: 0.8363 - val_loss: 0.6994\n",
      "Epoch 3/20\n",
      "\u001b[1m363/363\u001b[0m \u001b[32m━━━━━━━━━━━━━━━━━━━━\u001b[0m\u001b[37m\u001b[0m \u001b[1m2s\u001b[0m 4ms/step - RootMeanSquaredError: 0.5977 - loss: 0.3573 - val_RootMeanSquaredError: 0.7943 - val_loss: 0.6308\n",
      "Epoch 4/20\n",
      "\u001b[1m363/363\u001b[0m \u001b[32m━━━━━━━━━━━━━━━━━━━━\u001b[0m\u001b[37m\u001b[0m \u001b[1m2s\u001b[0m 4ms/step - RootMeanSquaredError: 0.5795 - loss: 0.3358 - val_RootMeanSquaredError: 0.8932 - val_loss: 0.7979\n",
      "Epoch 5/20\n",
      "\u001b[1m363/363\u001b[0m \u001b[32m━━━━━━━━━━━━━━━━━━━━\u001b[0m\u001b[37m\u001b[0m \u001b[1m3s\u001b[0m 4ms/step - RootMeanSquaredError: 0.5770 - loss: 0.3330 - val_RootMeanSquaredError: 0.8564 - val_loss: 0.7334\n",
      "Epoch 6/20\n",
      "\u001b[1m363/363\u001b[0m \u001b[32m━━━━━━━━━━━━━━━━━━━━\u001b[0m\u001b[37m\u001b[0m \u001b[1m2s\u001b[0m 4ms/step - RootMeanSquaredError: 0.5676 - loss: 0.3222 - val_RootMeanSquaredError: 1.0349 - val_loss: 1.0711\n",
      "Epoch 7/20\n",
      "\u001b[1m363/363\u001b[0m \u001b[32m━━━━━━━━━━━━━━━━━━━━\u001b[0m\u001b[37m\u001b[0m \u001b[1m2s\u001b[0m 4ms/step - RootMeanSquaredError: 0.5610 - loss: 0.3148 - val_RootMeanSquaredError: 1.1780 - val_loss: 1.3877\n",
      "Epoch 8/20\n",
      "\u001b[1m363/363\u001b[0m \u001b[32m━━━━━━━━━━━━━━━━━━━━\u001b[0m\u001b[37m\u001b[0m \u001b[1m2s\u001b[0m 4ms/step - RootMeanSquaredError: 0.5597 - loss: 0.3132 - val_RootMeanSquaredError: 0.6750 - val_loss: 0.4556\n",
      "Epoch 9/20\n",
      "\u001b[1m363/363\u001b[0m \u001b[32m━━━━━━━━━━━━━━━━━━━━\u001b[0m\u001b[37m\u001b[0m \u001b[1m2s\u001b[0m 4ms/step - RootMeanSquaredError: 0.5483 - loss: 0.3006 - val_RootMeanSquaredError: 0.8309 - val_loss: 0.6904\n",
      "Epoch 10/20\n",
      "\u001b[1m363/363\u001b[0m \u001b[32m━━━━━━━━━━━━━━━━━━━━\u001b[0m\u001b[37m\u001b[0m \u001b[1m2s\u001b[0m 4ms/step - RootMeanSquaredError: 0.5467 - loss: 0.2989 - val_RootMeanSquaredError: 0.7192 - val_loss: 0.5172\n",
      "Epoch 11/20\n",
      "\u001b[1m363/363\u001b[0m \u001b[32m━━━━━━━━━━━━━━━━━━━━\u001b[0m\u001b[37m\u001b[0m \u001b[1m2s\u001b[0m 4ms/step - RootMeanSquaredError: 0.5409 - loss: 0.2925 - val_RootMeanSquaredError: 0.7845 - val_loss: 0.6155\n",
      "Epoch 12/20\n",
      "\u001b[1m363/363\u001b[0m \u001b[32m━━━━━━━━━━━━━━━━━━━━\u001b[0m\u001b[37m\u001b[0m \u001b[1m2s\u001b[0m 4ms/step - RootMeanSquaredError: 0.5400 - loss: 0.2916 - val_RootMeanSquaredError: 0.5826 - val_loss: 0.3394\n",
      "Epoch 13/20\n",
      "\u001b[1m363/363\u001b[0m \u001b[32m━━━━━━━━━━━━━━━━━━━━\u001b[0m\u001b[37m\u001b[0m \u001b[1m2s\u001b[0m 4ms/step - RootMeanSquaredError: 0.5337 - loss: 0.2848 - val_RootMeanSquaredError: 0.6830 - val_loss: 0.4664\n",
      "Epoch 14/20\n",
      "\u001b[1m363/363\u001b[0m \u001b[32m━━━━━━━━━━━━━━━━━━━━\u001b[0m\u001b[37m\u001b[0m \u001b[1m3s\u001b[0m 4ms/step - RootMeanSquaredError: 0.5386 - loss: 0.2901 - val_RootMeanSquaredError: 0.7470 - val_loss: 0.5580\n",
      "Epoch 15/20\n",
      "\u001b[1m363/363\u001b[0m \u001b[32m━━━━━━━━━━━━━━━━━━━━\u001b[0m\u001b[37m\u001b[0m \u001b[1m2s\u001b[0m 4ms/step - RootMeanSquaredError: 0.5313 - loss: 0.2823 - val_RootMeanSquaredError: 0.8153 - val_loss: 0.6647\n",
      "Epoch 16/20\n",
      "\u001b[1m363/363\u001b[0m \u001b[32m━━━━━━━━━━━━━━━━━━━━\u001b[0m\u001b[37m\u001b[0m \u001b[1m2s\u001b[0m 4ms/step - RootMeanSquaredError: 0.5310 - loss: 0.2819 - val_RootMeanSquaredError: 0.5554 - val_loss: 0.3084\n",
      "Epoch 17/20\n",
      "\u001b[1m363/363\u001b[0m \u001b[32m━━━━━━━━━━━━━━━━━━━━\u001b[0m\u001b[37m\u001b[0m \u001b[1m3s\u001b[0m 4ms/step - RootMeanSquaredError: 0.5248 - loss: 0.2754 - val_RootMeanSquaredError: 0.5285 - val_loss: 0.2793\n",
      "Epoch 18/20\n",
      "\u001b[1m363/363\u001b[0m \u001b[32m━━━━━━━━━━━━━━━━━━━━\u001b[0m\u001b[37m\u001b[0m \u001b[1m2s\u001b[0m 4ms/step - RootMeanSquaredError: 0.5215 - loss: 0.2719 - val_RootMeanSquaredError: 0.5241 - val_loss: 0.2746\n",
      "Epoch 19/20\n",
      "\u001b[1m363/363\u001b[0m \u001b[32m━━━━━━━━━━━━━━━━━━━━\u001b[0m\u001b[37m\u001b[0m \u001b[1m2s\u001b[0m 4ms/step - RootMeanSquaredError: 0.5185 - loss: 0.2688 - val_RootMeanSquaredError: 0.5275 - val_loss: 0.2782\n",
      "Epoch 20/20\n",
      "\u001b[1m363/363\u001b[0m \u001b[32m━━━━━━━━━━━━━━━━━━━━\u001b[0m\u001b[37m\u001b[0m \u001b[1m3s\u001b[0m 4ms/step - RootMeanSquaredError: 0.5159 - loss: 0.2662 - val_RootMeanSquaredError: 0.5321 - val_loss: 0.2831\n",
      "\u001b[1m162/162\u001b[0m \u001b[32m━━━━━━━━━━━━━━━━━━━━\u001b[0m\u001b[37m\u001b[0m \u001b[1m0s\u001b[0m 3ms/step - RootMeanSquaredError: 0.5332 - loss: 0.2843\n",
      "\u001b[1m1/1\u001b[0m \u001b[32m━━━━━━━━━━━━━━━━━━━━\u001b[0m\u001b[37m\u001b[0m \u001b[1m0s\u001b[0m 148ms/step\n"
     ]
    }
   ],
   "source": [
    "tf.random.set_seed(42)\n",
    "norm_layer = tf.keras.layers.Normalization()\n",
    "model = tf.keras.Sequential([\n",
    "    tf.keras.layers.Input(X_train.shape[1:]),\n",
    "    norm_layer,\n",
    "    tf.keras.layers.Dense(50, activation=\"relu\"),\n",
    "    tf.keras.layers.Dense(50, activation=\"relu\"),\n",
    "    tf.keras.layers.Dense(50, activation=\"relu\"),\n",
    "    tf.keras.layers.Dense(1)\n",
    "])\n",
    "optimizer = tf.keras.optimizers.Adam(learning_rate=1e-3)\n",
    "model.compile(loss=\"mse\", optimizer=optimizer, metrics=[\"RootMeanSquaredError\"])\n",
    "norm_layer.adapt(X_train)\n",
    "\n",
    "history = model.fit(X_train, y_train, epochs=20,\n",
    "                    validation_data=(X_valid, y_valid))\n",
    "mse_test, rmse_test = model.evaluate(X_test, y_test)\n",
    "X_new = X_test[:3]\n",
    "y_pred = model.predict(X_new)"
   ]
  },
  {
   "cell_type": "code",
   "execution_count": 33,
   "id": "73d64756-366c-4b1f-af3a-555824ce8fdb",
   "metadata": {},
   "outputs": [
    {
     "name": "stdout",
     "output_type": "stream",
     "text": [
      "0.2843228578567505 0.5332193374633789\n"
     ]
    }
   ],
   "source": [
    "print(mse_test, rmse_test)"
   ]
  },
  {
   "cell_type": "markdown",
   "id": "114022a3-f843-43bb-a1f8-69d5c5b6cd0c",
   "metadata": {},
   "source": [
    "### Building complex models using the Functional API"
   ]
  },
  {
   "cell_type": "markdown",
   "id": "ad2f1050-434b-4542-a3d8-f073bd7816fd",
   "metadata": {},
   "source": [
    "Build a wide and deep neural network:"
   ]
  },
  {
   "cell_type": "code",
   "execution_count": 34,
   "id": "249c513f-4f80-4c08-8da4-1310f7c2de63",
   "metadata": {},
   "outputs": [],
   "source": [
    "normalization_layer = tf.keras.layers.Normalization()\n",
    "hidden_layer1 = tf.keras.layers.Dense(30, activation=\"relu\")\n",
    "hidden_layer2 = tf.keras.layers.Dense(30, activation=\"relu\")\n",
    "concat_layer = tf.keras.layers.Concatenate()\n",
    "output_layer = tf.keras.layers.Dense(1)\n",
    "\n",
    "input_ = tf.keras.layers.Input(X_train.shape[1:]) \n",
    "normalized = normalization_layer(input_)\n",
    "hidden1 = hidden_layer1(normalized)\n",
    "hidden2 = hidden_layer2(hidden1)\n",
    "concat  = concat_layer([normalized, hidden2])\n",
    "output = output_layer(concat)\n",
    "\n",
    "model = tf.keras.Model(inputs=[input_], outputs=[output])"
   ]
  },
  {
   "cell_type": "markdown",
   "id": "3d0af3d0-949c-410a-bd51-274032538e77",
   "metadata": {},
   "source": [
    "What if we want to send a subset of the features through the wide path and a different subste (possibly overlapping) through the deep path? One solution is to use multiple inputs:"
   ]
  },
  {
   "cell_type": "markdown",
   "id": "91ae29b7-6c24-417d-b49a-a9cb3f11f733",
   "metadata": {},
   "source": [
    "Example: send 5 features through the wide path(features 0 to 4), and six features through the deep path (features 2 to 7)"
   ]
  },
  {
   "cell_type": "code",
   "execution_count": 35,
   "id": "5e28725f-77f1-4915-b556-fbeae6a6d763",
   "metadata": {},
   "outputs": [],
   "source": [
    "input_wide = tf.keras.layers.Input(shape=[5]) # features 0 to 4\n",
    "input_deep = tf.keras.layers.Input(shape=[6]) # features 2 to 7\n",
    "norm_layer_wide = tf.keras.layers.Normalization()\n",
    "norm_layer_deep = tf.keras.layers.Normalization()\n",
    "norm_wide = norm_layer_wide(input_wide)\n",
    "norm_deep = norm_layer_deep(input_deep)\n",
    "hidden1 = tf.keras.layers.Dense(30, activation=\"relu\")(norm_deep)\n",
    "hidden2 = tf.keras.layers.Dense(30, activation=\"relu\")(hidden1)\n",
    "concat = tf.keras.layers.concatenate([norm_wide, hidden2])\n",
    "output = tf.keras.layers.Dense(1)(concat)\n",
    "model = tf.keras.Model(inputs=[input_wide, input_deep], outputs=[output])"
   ]
  },
  {
   "cell_type": "markdown",
   "id": "3e9be540-6d80-45aa-9763-c1dd4ea8bec5",
   "metadata": {},
   "source": [
    "Compile, split features, adapt, fit, evaluate, predict:"
   ]
  },
  {
   "cell_type": "code",
   "execution_count": 36,
   "id": "468f5746-54b7-4e79-8b05-7101ca1f0049",
   "metadata": {},
   "outputs": [
    {
     "name": "stdout",
     "output_type": "stream",
     "text": [
      "Epoch 1/20\n",
      "\u001b[1m363/363\u001b[0m \u001b[32m━━━━━━━━━━━━━━━━━━━━\u001b[0m\u001b[37m\u001b[0m \u001b[1m4s\u001b[0m 5ms/step - RootMeanSquaredError: 1.3348 - loss: 1.7818 - val_RootMeanSquaredError: 1.2681 - val_loss: 1.6080\n",
      "Epoch 2/20\n",
      "\u001b[1m363/363\u001b[0m \u001b[32m━━━━━━━━━━━━━━━━━━━━\u001b[0m\u001b[37m\u001b[0m \u001b[1m2s\u001b[0m 4ms/step - RootMeanSquaredError: 0.7756 - loss: 0.6016 - val_RootMeanSquaredError: 0.7481 - val_loss: 0.5597\n",
      "Epoch 3/20\n",
      "\u001b[1m363/363\u001b[0m \u001b[32m━━━━━━━━━━━━━━━━━━━━\u001b[0m\u001b[37m\u001b[0m \u001b[1m2s\u001b[0m 4ms/step - RootMeanSquaredError: 0.6971 - loss: 0.4860 - val_RootMeanSquaredError: 0.7087 - val_loss: 0.5022\n",
      "Epoch 4/20\n",
      "\u001b[1m363/363\u001b[0m \u001b[32m━━━━━━━━━━━━━━━━━━━━\u001b[0m\u001b[37m\u001b[0m \u001b[1m2s\u001b[0m 4ms/step - RootMeanSquaredError: 0.6567 - loss: 0.4313 - val_RootMeanSquaredError: 0.6423 - val_loss: 0.4126\n",
      "Epoch 5/20\n",
      "\u001b[1m363/363\u001b[0m \u001b[32m━━━━━━━━━━━━━━━━━━━━\u001b[0m\u001b[37m\u001b[0m \u001b[1m2s\u001b[0m 4ms/step - RootMeanSquaredError: 0.6311 - loss: 0.3982 - val_RootMeanSquaredError: 0.6108 - val_loss: 0.3731\n",
      "Epoch 6/20\n",
      "\u001b[1m363/363\u001b[0m \u001b[32m━━━━━━━━━━━━━━━━━━━━\u001b[0m\u001b[37m\u001b[0m \u001b[1m2s\u001b[0m 4ms/step - RootMeanSquaredError: 0.6146 - loss: 0.3778 - val_RootMeanSquaredError: 0.6623 - val_loss: 0.4386\n",
      "Epoch 7/20\n",
      "\u001b[1m363/363\u001b[0m \u001b[32m━━━━━━━━━━━━━━━━━━━━\u001b[0m\u001b[37m\u001b[0m \u001b[1m2s\u001b[0m 4ms/step - RootMeanSquaredError: 0.6044 - loss: 0.3653 - val_RootMeanSquaredError: 0.5887 - val_loss: 0.3466\n",
      "Epoch 8/20\n",
      "\u001b[1m363/363\u001b[0m \u001b[32m━━━━━━━━━━━━━━━━━━━━\u001b[0m\u001b[37m\u001b[0m \u001b[1m2s\u001b[0m 4ms/step - RootMeanSquaredError: 0.5977 - loss: 0.3572 - val_RootMeanSquaredError: 0.7545 - val_loss: 0.5693\n",
      "Epoch 9/20\n",
      "\u001b[1m363/363\u001b[0m \u001b[32m━━━━━━━━━━━━━━━━━━━━\u001b[0m\u001b[37m\u001b[0m \u001b[1m2s\u001b[0m 4ms/step - RootMeanSquaredError: 0.5940 - loss: 0.3528 - val_RootMeanSquaredError: 0.7954 - val_loss: 0.6326\n",
      "Epoch 10/20\n",
      "\u001b[1m363/363\u001b[0m \u001b[32m━━━━━━━━━━━━━━━━━━━━\u001b[0m\u001b[37m\u001b[0m \u001b[1m2s\u001b[0m 4ms/step - RootMeanSquaredError: 0.5903 - loss: 0.3485 - val_RootMeanSquaredError: 1.1245 - val_loss: 1.2645\n",
      "Epoch 11/20\n",
      "\u001b[1m363/363\u001b[0m \u001b[32m━━━━━━━━━━━━━━━━━━━━\u001b[0m\u001b[37m\u001b[0m \u001b[1m1s\u001b[0m 4ms/step - RootMeanSquaredError: 0.5914 - loss: 0.3497 - val_RootMeanSquaredError: 1.5988 - val_loss: 2.5563\n",
      "Epoch 12/20\n",
      "\u001b[1m363/363\u001b[0m \u001b[32m━━━━━━━━━━━━━━━━━━━━\u001b[0m\u001b[37m\u001b[0m \u001b[1m1s\u001b[0m 4ms/step - RootMeanSquaredError: 0.5939 - loss: 0.3527 - val_RootMeanSquaredError: 1.5821 - val_loss: 2.5032\n",
      "Epoch 13/20\n",
      "\u001b[1m363/363\u001b[0m \u001b[32m━━━━━━━━━━━━━━━━━━━━\u001b[0m\u001b[37m\u001b[0m \u001b[1m1s\u001b[0m 4ms/step - RootMeanSquaredError: 0.5901 - loss: 0.3482 - val_RootMeanSquaredError: 0.8735 - val_loss: 0.7630\n",
      "Epoch 14/20\n",
      "\u001b[1m363/363\u001b[0m \u001b[32m━━━━━━━━━━━━━━━━━━━━\u001b[0m\u001b[37m\u001b[0m \u001b[1m2s\u001b[0m 4ms/step - RootMeanSquaredError: 0.5816 - loss: 0.3382 - val_RootMeanSquaredError: 0.8656 - val_loss: 0.7493\n",
      "Epoch 15/20\n",
      "\u001b[1m363/363\u001b[0m \u001b[32m━━━━━━━━━━━━━━━━━━━━\u001b[0m\u001b[37m\u001b[0m \u001b[1m3s\u001b[0m 4ms/step - RootMeanSquaredError: 0.5763 - loss: 0.3321 - val_RootMeanSquaredError: 0.6457 - val_loss: 0.4169\n",
      "Epoch 16/20\n",
      "\u001b[1m363/363\u001b[0m \u001b[32m━━━━━━━━━━━━━━━━━━━━\u001b[0m\u001b[37m\u001b[0m \u001b[1m2s\u001b[0m 4ms/step - RootMeanSquaredError: 0.5733 - loss: 0.3287 - val_RootMeanSquaredError: 0.7181 - val_loss: 0.5157\n",
      "Epoch 17/20\n",
      "\u001b[1m363/363\u001b[0m \u001b[32m━━━━━━━━━━━━━━━━━━━━\u001b[0m\u001b[37m\u001b[0m \u001b[1m2s\u001b[0m 4ms/step - RootMeanSquaredError: 0.5728 - loss: 0.3280 - val_RootMeanSquaredError: 0.6363 - val_loss: 0.4048\n",
      "Epoch 18/20\n",
      "\u001b[1m363/363\u001b[0m \u001b[32m━━━━━━━━━━━━━━━━━━━━\u001b[0m\u001b[37m\u001b[0m \u001b[1m2s\u001b[0m 4ms/step - RootMeanSquaredError: 0.5697 - loss: 0.3246 - val_RootMeanSquaredError: 0.8820 - val_loss: 0.7779\n",
      "Epoch 19/20\n",
      "\u001b[1m363/363\u001b[0m \u001b[32m━━━━━━━━━━━━━━━━━━━━\u001b[0m\u001b[37m\u001b[0m \u001b[1m2s\u001b[0m 4ms/step - RootMeanSquaredError: 0.5702 - loss: 0.3251 - val_RootMeanSquaredError: 0.9999 - val_loss: 0.9997\n",
      "Epoch 20/20\n",
      "\u001b[1m363/363\u001b[0m \u001b[32m━━━━━━━━━━━━━━━━━━━━\u001b[0m\u001b[37m\u001b[0m \u001b[1m1s\u001b[0m 4ms/step - RootMeanSquaredError: 0.5704 - loss: 0.3254 - val_RootMeanSquaredError: 1.2436 - val_loss: 1.5464\n",
      "\u001b[1m162/162\u001b[0m \u001b[32m━━━━━━━━━━━━━━━━━━━━\u001b[0m\u001b[37m\u001b[0m \u001b[1m0s\u001b[0m 2ms/step - RootMeanSquaredError: 0.5731 - loss: 0.3285\n",
      "[0.3284931182861328, 0.5731431841850281]\n",
      "\u001b[1m1/1\u001b[0m \u001b[32m━━━━━━━━━━━━━━━━━━━━\u001b[0m\u001b[37m\u001b[0m \u001b[1m0s\u001b[0m 158ms/step\n"
     ]
    }
   ],
   "source": [
    "optimizer = tf.keras.optimizers.Adam(learning_rate=1e-3)\n",
    "model.compile(loss=\"mse\", optimizer=optimizer, metrics=\n",
    "              [\"RootMeanSquaredError\"])\n",
    "\n",
    "X_train_wide, X_train_deep = X_train[:, :5], X_train[:, 2:]\n",
    "X_valid_wide, X_valid_deep = X_valid[:, :5], X_valid[:, 2:]\n",
    "X_test_wide, X_test_deep = X_test[:, :5], X_test[:, 2:]\n",
    "X_new_wide, X_new_deep = X_test_wide[:3], X_test_deep[:3]\n",
    "\n",
    "norm_layer_wide.adapt(X_train_wide)\n",
    "norm_layer_deep.adapt(X_train_deep)\n",
    "history = model.fit((X_train_wide, X_train_deep), y_train, epochs=20,\n",
    "                    validation_data=((X_valid_wide, X_valid_deep), y_valid))\n",
    "mse_test = model.evaluate((X_test_wide, X_test_deep), y_test)\n",
    "print(mse_test)\n",
    "y_pred = model.predict((X_new_wide, X_new_deep))"
   ]
  },
  {
   "cell_type": "markdown",
   "id": "03874e11-fc0c-4701-a4bb-f1e155b66eda",
   "metadata": {},
   "source": [
    "Add an auxiliary output to the model as a regularization technique:"
   ]
  },
  {
   "cell_type": "code",
   "execution_count": 37,
   "id": "bc920159-6072-4ed1-8965-41510f7aa483",
   "metadata": {},
   "outputs": [],
   "source": [
    "input_wide = tf.keras.layers.Input([5], name=\"wide_input\")\n",
    "input_deep = tf.keras.layers.Input([6], name=\"deep_input\")\n",
    "norm_wide_layer = tf.keras.layers.Normalization()\n",
    "norm_deep_layer = tf.keras.layers.Normalization()\n",
    "norm_wide = norm_wide_layer(input_wide)\n",
    "norm_deep = norm_deep_layer(input_deep)\n",
    "hidden1 = tf.keras.layers.Dense(30, activation=\"relu\")(norm_deep)\n",
    "hidden2 = tf.keras.layers.Dense(30, activation=\"relu\")(hidden1)\n",
    "concat = tf.keras.layers.concatenate([norm_wide, hidden2])\n",
    "output = tf.keras.layers.Dense(1, name=\"output\")(concat)\n",
    "aux_output = tf.keras.layers.Dense(1, name=\"aux_output\")(hidden2)\n",
    "\n",
    "model = tf.keras.Model(inputs=[input_wide, input_deep], outputs=[output, aux_output])"
   ]
  },
  {
   "cell_type": "code",
   "execution_count": 38,
   "id": "8507a635-680c-47ad-8ece-155b6fa4e7d4",
   "metadata": {},
   "outputs": [
    {
     "name": "stdout",
     "output_type": "stream",
     "text": [
      "Epoch 1/20\n",
      "\u001b[1m363/363\u001b[0m \u001b[32m━━━━━━━━━━━━━━━━━━━━\u001b[0m\u001b[37m\u001b[0m \u001b[1m5s\u001b[0m 6ms/step - aux_output_RootMeanSquaredError: 1.4842 - aux_output_loss: 2.2023 - loss: 2.2403 - output_RootMeanSquaredError: 1.4981 - output_loss: 2.2436 - val_aux_output_RootMeanSquaredError: 1.6767 - val_aux_output_loss: 2.8101 - val_loss: 1.0307 - val_output_RootMeanSquaredError: 0.9126 - val_output_loss: 0.8326\n",
      "Epoch 2/20\n",
      "\u001b[1m363/363\u001b[0m \u001b[32m━━━━━━━━━━━━━━━━━━━━\u001b[0m\u001b[37m\u001b[0m \u001b[1m2s\u001b[0m 5ms/step - aux_output_RootMeanSquaredError: 0.8399 - aux_output_loss: 0.7055 - loss: 0.6414 - output_RootMeanSquaredError: 0.7964 - output_loss: 0.6343 - val_aux_output_RootMeanSquaredError: 0.8591 - val_aux_output_loss: 0.7378 - val_loss: 0.5573 - val_output_RootMeanSquaredError: 0.7330 - val_output_loss: 0.5371\n",
      "Epoch 3/20\n",
      "\u001b[1m363/363\u001b[0m \u001b[32m━━━━━━━━━━━━━━━━━━━━\u001b[0m\u001b[37m\u001b[0m \u001b[1m2s\u001b[0m 5ms/step - aux_output_RootMeanSquaredError: 0.7517 - aux_output_loss: 0.5650 - loss: 0.5075 - output_RootMeanSquaredError: 0.7079 - output_loss: 0.5011 - val_aux_output_RootMeanSquaredError: 0.7370 - val_aux_output_loss: 0.5431 - val_loss: 0.6165 - val_output_RootMeanSquaredError: 0.7903 - val_output_loss: 0.6244\n",
      "Epoch 4/20\n",
      "\u001b[1m363/363\u001b[0m \u001b[32m━━━━━━━━━━━━━━━━━━━━\u001b[0m\u001b[37m\u001b[0m \u001b[1m1s\u001b[0m 4ms/step - aux_output_RootMeanSquaredError: 0.7207 - aux_output_loss: 0.5194 - loss: 0.4467 - output_RootMeanSquaredError: 0.6623 - output_loss: 0.4387 - val_aux_output_RootMeanSquaredError: 0.7386 - val_aux_output_loss: 0.5454 - val_loss: 0.4217 - val_output_RootMeanSquaredError: 0.6387 - val_output_loss: 0.4078\n",
      "Epoch 5/20\n",
      "\u001b[1m363/363\u001b[0m \u001b[32m━━━━━━━━━━━━━━━━━━━━\u001b[0m\u001b[37m\u001b[0m \u001b[1m3s\u001b[0m 4ms/step - aux_output_RootMeanSquaredError: 0.7062 - aux_output_loss: 0.4987 - loss: 0.4159 - output_RootMeanSquaredError: 0.6377 - output_loss: 0.4067 - val_aux_output_RootMeanSquaredError: 0.6884 - val_aux_output_loss: 0.4739 - val_loss: 0.7597 - val_output_RootMeanSquaredError: 0.8896 - val_output_loss: 0.7911\n",
      "Epoch 6/20\n",
      "\u001b[1m363/363\u001b[0m \u001b[32m━━━━━━━━━━━━━━━━━━━━\u001b[0m\u001b[37m\u001b[0m \u001b[1m1s\u001b[0m 4ms/step - aux_output_RootMeanSquaredError: 0.6947 - aux_output_loss: 0.4827 - loss: 0.3950 - output_RootMeanSquaredError: 0.6207 - output_loss: 0.3853 - val_aux_output_RootMeanSquaredError: 0.8210 - val_aux_output_loss: 0.6739 - val_loss: 0.6369 - val_output_RootMeanSquaredError: 0.7955 - val_output_loss: 0.6326\n",
      "Epoch 7/20\n",
      "\u001b[1m363/363\u001b[0m \u001b[32m━━━━━━━━━━━━━━━━━━━━\u001b[0m\u001b[37m\u001b[0m \u001b[1m1s\u001b[0m 3ms/step - aux_output_RootMeanSquaredError: 0.6859 - aux_output_loss: 0.4705 - loss: 0.3864 - output_RootMeanSquaredError: 0.6140 - output_loss: 0.3771 - val_aux_output_RootMeanSquaredError: 0.6769 - val_aux_output_loss: 0.4581 - val_loss: 2.1316 - val_output_RootMeanSquaredError: 1.5224 - val_output_loss: 2.3165\n",
      "Epoch 8/20\n",
      "\u001b[1m363/363\u001b[0m \u001b[32m━━━━━━━━━━━━━━━━━━━━\u001b[0m\u001b[37m\u001b[0m \u001b[1m1s\u001b[0m 3ms/step - aux_output_RootMeanSquaredError: 0.6786 - aux_output_loss: 0.4606 - loss: 0.3776 - output_RootMeanSquaredError: 0.6070 - output_loss: 0.3685 - val_aux_output_RootMeanSquaredError: 1.8178 - val_aux_output_loss: 3.3028 - val_loss: 3.5750 - val_output_RootMeanSquaredError: 1.8987 - val_output_loss: 3.6033\n",
      "Epoch 9/20\n",
      "\u001b[1m363/363\u001b[0m \u001b[32m━━━━━━━━━━━━━━━━━━━━\u001b[0m\u001b[37m\u001b[0m \u001b[1m1s\u001b[0m 3ms/step - aux_output_RootMeanSquaredError: 0.6809 - aux_output_loss: 0.4637 - loss: 0.3851 - output_RootMeanSquaredError: 0.6135 - output_loss: 0.3764 - val_aux_output_RootMeanSquaredError: 1.7321 - val_aux_output_loss: 2.9989 - val_loss: 3.9329 - val_output_RootMeanSquaredError: 2.0091 - val_output_loss: 4.0346\n",
      "Epoch 10/20\n",
      "\u001b[1m363/363\u001b[0m \u001b[32m━━━━━━━━━━━━━━━━━━━━\u001b[0m\u001b[37m\u001b[0m \u001b[1m2s\u001b[0m 6ms/step - aux_output_RootMeanSquaredError: 0.6811 - aux_output_loss: 0.4639 - loss: 0.3824 - output_RootMeanSquaredError: 0.6110 - output_loss: 0.3734 - val_aux_output_RootMeanSquaredError: 1.6439 - val_aux_output_loss: 2.7011 - val_loss: 3.6595 - val_output_RootMeanSquaredError: 1.9406 - val_output_loss: 3.7640\n",
      "Epoch 11/20\n",
      "\u001b[1m363/363\u001b[0m \u001b[32m━━━━━━━━━━━━━━━━━━━━\u001b[0m\u001b[37m\u001b[0m \u001b[1m2s\u001b[0m 5ms/step - aux_output_RootMeanSquaredError: 0.6664 - aux_output_loss: 0.4442 - loss: 0.3794 - output_RootMeanSquaredError: 0.6101 - output_loss: 0.3722 - val_aux_output_RootMeanSquaredError: 0.8920 - val_aux_output_loss: 0.7954 - val_loss: 1.4504 - val_output_RootMeanSquaredError: 1.2341 - val_output_loss: 1.5224\n",
      "Epoch 12/20\n",
      "\u001b[1m363/363\u001b[0m \u001b[32m━━━━━━━━━━━━━━━━━━━━\u001b[0m\u001b[37m\u001b[0m \u001b[1m2s\u001b[0m 5ms/step - aux_output_RootMeanSquaredError: 0.6571 - aux_output_loss: 0.4318 - loss: 0.3596 - output_RootMeanSquaredError: 0.5930 - output_loss: 0.3517 - val_aux_output_RootMeanSquaredError: 1.0738 - val_aux_output_loss: 1.1525 - val_loss: 0.9531 - val_output_RootMeanSquaredError: 0.9648 - val_output_loss: 0.9305\n",
      "Epoch 13/20\n",
      "\u001b[1m363/363\u001b[0m \u001b[32m━━━━━━━━━━━━━━━━━━━━\u001b[0m\u001b[37m\u001b[0m \u001b[1m2s\u001b[0m 5ms/step - aux_output_RootMeanSquaredError: 0.6486 - aux_output_loss: 0.4208 - loss: 0.3520 - output_RootMeanSquaredError: 0.5868 - output_loss: 0.3444 - val_aux_output_RootMeanSquaredError: 0.6546 - val_aux_output_loss: 0.4285 - val_loss: 0.6638 - val_output_RootMeanSquaredError: 0.8306 - val_output_loss: 0.6897\n",
      "Epoch 14/20\n",
      "\u001b[1m363/363\u001b[0m \u001b[32m━━━━━━━━━━━━━━━━━━━━\u001b[0m\u001b[37m\u001b[0m \u001b[1m2s\u001b[0m 5ms/step - aux_output_RootMeanSquaredError: 0.6456 - aux_output_loss: 0.4169 - loss: 0.3483 - output_RootMeanSquaredError: 0.5837 - output_loss: 0.3407 - val_aux_output_RootMeanSquaredError: 0.9906 - val_aux_output_loss: 0.9809 - val_loss: 0.6754 - val_output_RootMeanSquaredError: 0.8009 - val_output_loss: 0.6411\n",
      "Epoch 15/20\n",
      "\u001b[1m363/363\u001b[0m \u001b[32m━━━━━━━━━━━━━━━━━━━━\u001b[0m\u001b[37m\u001b[0m \u001b[1m2s\u001b[0m 5ms/step - aux_output_RootMeanSquaredError: 0.6409 - aux_output_loss: 0.4108 - loss: 0.3453 - output_RootMeanSquaredError: 0.5814 - output_loss: 0.3381 - val_aux_output_RootMeanSquaredError: 0.6740 - val_aux_output_loss: 0.4542 - val_loss: 0.7843 - val_output_RootMeanSquaredError: 0.9061 - val_output_loss: 0.8206\n",
      "Epoch 16/20\n",
      "\u001b[1m363/363\u001b[0m \u001b[32m━━━━━━━━━━━━━━━━━━━━\u001b[0m\u001b[37m\u001b[0m \u001b[1m2s\u001b[0m 5ms/step - aux_output_RootMeanSquaredError: 0.6384 - aux_output_loss: 0.4077 - loss: 0.3439 - output_RootMeanSquaredError: 0.5803 - output_loss: 0.3368 - val_aux_output_RootMeanSquaredError: 1.1717 - val_aux_output_loss: 1.3724 - val_loss: 1.0982 - val_output_RootMeanSquaredError: 1.0333 - val_output_loss: 1.0672\n",
      "Epoch 17/20\n",
      "\u001b[1m363/363\u001b[0m \u001b[32m━━━━━━━━━━━━━━━━━━━━\u001b[0m\u001b[37m\u001b[0m \u001b[1m2s\u001b[0m 5ms/step - aux_output_RootMeanSquaredError: 0.6381 - aux_output_loss: 0.4073 - loss: 0.3459 - output_RootMeanSquaredError: 0.5823 - output_loss: 0.3391 - val_aux_output_RootMeanSquaredError: 0.8439 - val_aux_output_loss: 0.7119 - val_loss: 1.4455 - val_output_RootMeanSquaredError: 1.2357 - val_output_loss: 1.5262\n",
      "Epoch 18/20\n",
      "\u001b[1m363/363\u001b[0m \u001b[32m━━━━━━━━━━━━━━━━━━━━\u001b[0m\u001b[37m\u001b[0m \u001b[1m2s\u001b[0m 5ms/step - aux_output_RootMeanSquaredError: 0.6365 - aux_output_loss: 0.4052 - loss: 0.3462 - output_RootMeanSquaredError: 0.5828 - output_loss: 0.3397 - val_aux_output_RootMeanSquaredError: 1.2402 - val_aux_output_loss: 1.5375 - val_loss: 1.6474 - val_output_RootMeanSquaredError: 1.2882 - val_output_loss: 1.6588\n",
      "Epoch 19/20\n",
      "\u001b[1m363/363\u001b[0m \u001b[32m━━━━━━━━━━━━━━━━━━━━\u001b[0m\u001b[37m\u001b[0m \u001b[1m2s\u001b[0m 5ms/step - aux_output_RootMeanSquaredError: 0.6344 - aux_output_loss: 0.4025 - loss: 0.3464 - output_RootMeanSquaredError: 0.5833 - output_loss: 0.3403 - val_aux_output_RootMeanSquaredError: 0.7329 - val_aux_output_loss: 0.5371 - val_loss: 1.0208 - val_output_RootMeanSquaredError: 1.0366 - val_output_loss: 1.0741\n",
      "Epoch 20/20\n",
      "\u001b[1m363/363\u001b[0m \u001b[32m━━━━━━━━━━━━━━━━━━━━\u001b[0m\u001b[37m\u001b[0m \u001b[1m2s\u001b[0m 5ms/step - aux_output_RootMeanSquaredError: 0.6315 - aux_output_loss: 0.3989 - loss: 0.3407 - output_RootMeanSquaredError: 0.5782 - output_loss: 0.3343 - val_aux_output_RootMeanSquaredError: 1.3918 - val_aux_output_loss: 1.9363 - val_loss: 1.2896 - val_output_RootMeanSquaredError: 1.1035 - val_output_loss: 1.2171\n"
     ]
    }
   ],
   "source": [
    "model.compile(loss={\"output\":\"mse\", \"aux_output\": \"mse\"}, loss_weights=(0.9, 0.1),\n",
    "              optimizer=tf.keras.optimizers.Adam(learning_rate=1e-3),\n",
    "              metrics=[\"RootMeanSquaredError\", \"RootMeanSquaredError\"])\n",
    "norm_wide_layer.adapt(X_train_wide)\n",
    "norm_deep_layer.adapt(X_train_deep)\n",
    "history = model.fit(\n",
    "    {\"wide_input\": X_train_wide, \"deep_input\": X_train_deep},\n",
    "    {\"output\": y_train, \"aux_output\": y_train}, epochs=20,\n",
    "    validation_data=({\"wide_input\": X_valid_wide, \"deep_input\": X_valid_deep},\n",
    "    {\"output\": y_valid, \"aux_output\": y_valid}))"
   ]
  },
  {
   "cell_type": "markdown",
   "id": "3f019eb9-0e09-479f-a469-eec19b647e2f",
   "metadata": {},
   "source": [
    "When we evaluate the model, Keras returns the weighted sum of the losses, as well as the individual losses and metrics:"
   ]
  },
  {
   "cell_type": "code",
   "execution_count": 39,
   "id": "bd683d7e-5d8d-4b35-9894-172660cec8ab",
   "metadata": {},
   "outputs": [
    {
     "name": "stdout",
     "output_type": "stream",
     "text": [
      "\u001b[1m162/162\u001b[0m \u001b[32m━━━━━━━━━━━━━━━━━━━━\u001b[0m\u001b[37m\u001b[0m \u001b[1m1s\u001b[0m 3ms/step - aux_output_RootMeanSquaredError: 0.6340 - aux_output_loss: 0.4023 - loss: 0.3384 - output_RootMeanSquaredError: 0.5757 - output_loss: 0.3310\n",
      "[0.3384334444999695, 0.3310449719429016, 0.4023212790489197, 0.6339617371559143, 0.5756567716598511]\n"
     ]
    }
   ],
   "source": [
    "eval_results = model.evaluate((X_test_wide, X_test_deep), (y_test, y_test))\n",
    "weighted_sum_of_losses, main_loss, aux_loss, main_rmse, aux_rmse = eval_results\n",
    "print(eval_results)"
   ]
  },
  {
   "cell_type": "markdown",
   "id": "cc538ff1-2f7a-4cd6-865d-ecf48957a077",
   "metadata": {},
   "source": [
    "Other way:"
   ]
  },
  {
   "cell_type": "code",
   "execution_count": 40,
   "id": "38e0940c-55d6-4007-9fe0-101e039aa270",
   "metadata": {},
   "outputs": [
    {
     "name": "stdout",
     "output_type": "stream",
     "text": [
      "\u001b[1m162/162\u001b[0m \u001b[32m━━━━━━━━━━━━━━━━━━━━\u001b[0m\u001b[37m\u001b[0m \u001b[1m0s\u001b[0m 3ms/step - aux_output_RootMeanSquaredError: 0.6340 - aux_output_loss: 0.4023 - loss: 0.3384 - output_RootMeanSquaredError: 0.5757 - output_loss: 0.3310\n"
     ]
    },
    {
     "data": {
      "text/plain": [
       "{'aux_output_RootMeanSquaredError': 0.6339617371559143,\n",
       " 'aux_output_loss': 0.4023212790489197,\n",
       " 'loss': 0.3384334444999695,\n",
       " 'output_RootMeanSquaredError': 0.5756567716598511,\n",
       " 'output_loss': 0.3310449719429016}"
      ]
     },
     "execution_count": 40,
     "metadata": {},
     "output_type": "execute_result"
    }
   ],
   "source": [
    "model.evaluate((X_test_wide, X_test_deep), (y_test, y_test), return_dict=True)"
   ]
  },
  {
   "cell_type": "markdown",
   "id": "6e9130c3-5fbd-45d9-944d-7501482bc8cc",
   "metadata": {},
   "source": [
    "Similarly, the predict() method will return predictions for each output:"
   ]
  },
  {
   "cell_type": "code",
   "execution_count": 41,
   "id": "3c32ab1a-74d4-4cd0-a6e1-d4d7882bc0dd",
   "metadata": {},
   "outputs": [
    {
     "name": "stdout",
     "output_type": "stream",
     "text": [
      "\u001b[1m1/1\u001b[0m \u001b[32m━━━━━━━━━━━━━━━━━━━━\u001b[0m\u001b[37m\u001b[0m \u001b[1m0s\u001b[0m 141ms/step\n",
      "[[0.3359003]\n",
      " [1.3258281]\n",
      " [3.5196927]] \n",
      " [[0.50408417]\n",
      " [1.1604298 ]\n",
      " [3.3746562 ]]\n"
     ]
    }
   ],
   "source": [
    "y_pred_main, y_pred_aux = model.predict((X_new_wide, X_new_deep))\n",
    "print(y_pred_main, \"\\n\", y_pred_aux)"
   ]
  },
  {
   "cell_type": "markdown",
   "id": "3f0cb069-2b9e-4225-be75-064d5c8d856a",
   "metadata": {},
   "source": [
    "Predict() method does not have return_dict argument to get a dictionary instead. However, you can create one using model.output_names:"
   ]
  },
  {
   "cell_type": "code",
   "execution_count": 42,
   "id": "21550902-eb83-47ed-a846-a0e5521055fd",
   "metadata": {},
   "outputs": [
    {
     "name": "stdout",
     "output_type": "stream",
     "text": [
      "\u001b[1m1/1\u001b[0m \u001b[32m━━━━━━━━━━━━━━━━━━━━\u001b[0m\u001b[37m\u001b[0m \u001b[1m0s\u001b[0m 51ms/step\n"
     ]
    },
    {
     "data": {
      "text/plain": [
       "{'output': array([[0.3359003],\n",
       "        [1.3258281],\n",
       "        [3.5196927]], dtype=float32),\n",
       " 'aux_output': array([[0.50408417],\n",
       "        [1.1604298 ],\n",
       "        [3.3746562 ]], dtype=float32)}"
      ]
     },
     "execution_count": 42,
     "metadata": {},
     "output_type": "execute_result"
    }
   ],
   "source": [
    "y_pred_tuple = model.predict((X_new_wide, X_new_deep))\n",
    "y_pred = dict(zip(model.output_names, y_pred_tuple))\n",
    "y_pred"
   ]
  },
  {
   "cell_type": "markdown",
   "id": "774d2605-e98e-4ea9-b1c4-342567dd7e5d",
   "metadata": {},
   "source": [
    "### Using the Subclassing API to build dynamic models"
   ]
  },
  {
   "cell_type": "markdown",
   "id": "96493873-c734-4ac5-b1a7-46aad3eb5cdf",
   "metadata": {},
   "source": [
    "Creating an instance of the following\n",
    "WideAndDeepModel class gives us an equivalent model to the one we just\n",
    "built with the functional API:"
   ]
  },
  {
   "cell_type": "code",
   "execution_count": 43,
   "id": "ce2adaeb-ef09-4293-95db-d53643b7c461",
   "metadata": {},
   "outputs": [],
   "source": [
    "class WideAndDeepModel(tf.keras.Model):\n",
    "    def __init__(self, units=30, activation=\"relu\", **kwargs):\n",
    "        super().__init__(**kwargs) # needed to support naming the model\n",
    "        self.norm_layer_wide = tf.keras.layers.Normalization()\n",
    "        self.norm_layer_deep = tf.keras.layers.Normalization()\n",
    "        self.hidden1 = tf.keras.layers.Dense(units, activation=activation)\n",
    "        self.hidden2 = tf.keras.layers.Dense(units, activation=activation)\n",
    "        self.main_output = tf.keras.layers.Dense(1)\n",
    "        self.aux_output = tf.keras.layers.Dense(1)\n",
    "\n",
    "    def call(self, inputs):\n",
    "        input_wide, input_deep = inputs\n",
    "        norm_wide = self.norm_layer_wide(input_wide)\n",
    "        norm_deep = self.norm_layer_deep(input_deep)\n",
    "        hidden1 = self.hidden1(norm_deep)\n",
    "        hidden2 = self.hidden2(hidden1)\n",
    "        concat = tf.keras.layers.concatenate([norm_wide, hidden2])\n",
    "        output = self.main_output(concat)\n",
    "        aux_output = self.aux_output(hidden2)\n",
    "        return output, aux_output\n",
    "\n",
    "model = WideAndDeepModel(30, activation=\"relu\", name=\"my_cool_model\")"
   ]
  },
  {
   "cell_type": "markdown",
   "id": "18977397-b345-41aa-af82-43fba01463f4",
   "metadata": {},
   "source": [
    "### Saving and restoring a model"
   ]
  },
  {
   "cell_type": "markdown",
   "id": "6f0ceee7-a906-47bc-95b9-35562486af36",
   "metadata": {},
   "source": [
    "Building and fitting the model first:"
   ]
  },
  {
   "cell_type": "code",
   "execution_count": 44,
   "id": "6fa93c47-064f-49bb-9718-10a65e210f7d",
   "metadata": {},
   "outputs": [
    {
     "name": "stdout",
     "output_type": "stream",
     "text": [
      "Epoch 1/10\n",
      "\u001b[1m363/363\u001b[0m \u001b[32m━━━━━━━━━━━━━━━━━━━━\u001b[0m\u001b[37m\u001b[0m \u001b[1m4s\u001b[0m 5ms/step - RootMeanSquaredError: 1.5183 - RootMeanSquaredError_1: 1.3011 - loss: 3.9980 - mse_loss: 1.6924 - val_RootMeanSquaredError: 1.0602 - val_RootMeanSquaredError_1: 0.8802 - val_loss: 1.8988 - val_mse_loss: 0.7746\n",
      "Epoch 2/10\n",
      "\u001b[1m363/363\u001b[0m \u001b[32m━━━━━━━━━━━━━━━━━━━━\u001b[0m\u001b[37m\u001b[0m \u001b[1m1s\u001b[0m 4ms/step - RootMeanSquaredError: 0.7997 - RootMeanSquaredError_1: 0.7907 - loss: 1.2648 - mse_loss: 0.6252 - val_RootMeanSquaredError: 0.7229 - val_RootMeanSquaredError_1: 1.1811 - val_loss: 1.9175 - val_mse_loss: 1.3944\n",
      "Epoch 3/10\n",
      "\u001b[1m363/363\u001b[0m \u001b[32m━━━━━━━━━━━━━━━━━━━━\u001b[0m\u001b[37m\u001b[0m \u001b[1m1s\u001b[0m 4ms/step - RootMeanSquaredError: 0.7173 - RootMeanSquaredError_1: 0.7511 - loss: 1.0786 - mse_loss: 0.5642 - val_RootMeanSquaredError: 0.6907 - val_RootMeanSquaredError_1: 1.2220 - val_loss: 1.9703 - val_mse_loss: 1.4927\n",
      "Epoch 4/10\n",
      "\u001b[1m363/363\u001b[0m \u001b[32m━━━━━━━━━━━━━━━━━━━━\u001b[0m\u001b[37m\u001b[0m \u001b[1m1s\u001b[0m 3ms/step - RootMeanSquaredError: 0.6733 - RootMeanSquaredError_1: 0.7331 - loss: 0.9907 - mse_loss: 0.5374 - val_RootMeanSquaredError: 0.7186 - val_RootMeanSquaredError_1: 1.2392 - val_loss: 2.0520 - val_mse_loss: 1.5351\n",
      "Epoch 5/10\n",
      "\u001b[1m363/363\u001b[0m \u001b[32m━━━━━━━━━━━━━━━━━━━━\u001b[0m\u001b[37m\u001b[0m \u001b[1m2s\u001b[0m 5ms/step - RootMeanSquaredError: 0.6439 - RootMeanSquaredError_1: 0.7031 - loss: 0.9089 - mse_loss: 0.4943 - val_RootMeanSquaredError: 1.1177 - val_RootMeanSquaredError_1: 0.6983 - val_loss: 1.7369 - val_mse_loss: 0.4875\n",
      "Epoch 6/10\n",
      "\u001b[1m363/363\u001b[0m \u001b[32m━━━━━━━━━━━━━━━━━━━━\u001b[0m\u001b[37m\u001b[0m \u001b[1m2s\u001b[0m 5ms/step - RootMeanSquaredError: 0.6206 - RootMeanSquaredError_1: 0.6913 - loss: 0.8630 - mse_loss: 0.4779 - val_RootMeanSquaredError: 0.6019 - val_RootMeanSquaredError_1: 2.0055 - val_loss: 4.3842 - val_mse_loss: 4.0200\n",
      "Epoch 7/10\n",
      "\u001b[1m363/363\u001b[0m \u001b[32m━━━━━━━━━━━━━━━━━━━━\u001b[0m\u001b[37m\u001b[0m \u001b[1m2s\u001b[0m 5ms/step - RootMeanSquaredError: 0.6093 - RootMeanSquaredError_1: 0.6715 - loss: 0.8221 - mse_loss: 0.4509 - val_RootMeanSquaredError: 0.8226 - val_RootMeanSquaredError_1: 1.7391 - val_loss: 3.7011 - val_mse_loss: 3.0230\n",
      "Epoch 8/10\n",
      "\u001b[1m363/363\u001b[0m \u001b[32m━━━━━━━━━━━━━━━━━━━━\u001b[0m\u001b[37m\u001b[0m \u001b[1m2s\u001b[0m 5ms/step - RootMeanSquaredError: 0.5983 - RootMeanSquaredError_1: 0.6721 - loss: 0.8097 - mse_loss: 0.4518 - val_RootMeanSquaredError: 0.8917 - val_RootMeanSquaredError_1: 2.3323 - val_loss: 6.2350 - val_mse_loss: 5.4372\n",
      "Epoch 9/10\n",
      "\u001b[1m363/363\u001b[0m \u001b[32m━━━━━━━━━━━━━━━━━━━━\u001b[0m\u001b[37m\u001b[0m \u001b[1m2s\u001b[0m 5ms/step - RootMeanSquaredError: 0.5935 - RootMeanSquaredError_1: 0.6596 - loss: 0.7873 - mse_loss: 0.4351 - val_RootMeanSquaredError: 0.9510 - val_RootMeanSquaredError_1: 2.4676 - val_loss: 6.9933 - val_mse_loss: 6.0859\n",
      "Epoch 10/10\n",
      "\u001b[1m363/363\u001b[0m \u001b[32m━━━━━━━━━━━━━━━━━━━━\u001b[0m\u001b[37m\u001b[0m \u001b[1m2s\u001b[0m 5ms/step - RootMeanSquaredError: 0.5900 - RootMeanSquaredError_1: 0.6659 - loss: 0.7915 - mse_loss: 0.4434 - val_RootMeanSquaredError: 0.9356 - val_RootMeanSquaredError_1: 2.0095 - val_loss: 4.9133 - val_mse_loss: 4.0360\n",
      "WARNING:tensorflow:5 out of the last 6 calls to <function TensorFlowTrainer.make_predict_function.<locals>.one_step_on_data_distributed at 0x000001B258A3DB20> triggered tf.function retracing. Tracing is expensive and the excessive number of tracings could be due to (1) creating @tf.function repeatedly in a loop, (2) passing tensors with different shapes, (3) passing Python objects instead of tensors. For (1), please define your @tf.function outside of the loop. For (2), @tf.function has reduce_retracing=True option that can avoid unnecessary retracing. For (3), please refer to https://www.tensorflow.org/guide/function#controlling_retracing and https://www.tensorflow.org/api_docs/python/tf/function for  more details.\n",
      "\u001b[1m1/1\u001b[0m \u001b[32m━━━━━━━━━━━━━━━━━━━━\u001b[0m\u001b[37m\u001b[0m \u001b[1m0s\u001b[0m 176ms/step\n"
     ]
    }
   ],
   "source": [
    "optimizer = tf.keras.optimizers.Adam(learning_rate=1e-3)\n",
    "model.compile(loss=[\"mse\", \"mse\"],\n",
    "              optimizer=optimizer,\n",
    "              metrics=[\"RootMeanSquaredError\", \"RootMeanSquaredError\"])\n",
    "model.norm_layer_wide.adapt(X_train_wide)\n",
    "model.norm_layer_deep.adapt(X_train_deep)\n",
    "history = model.fit((X_train_wide, X_train_deep), (y_train, y_train),\n",
    "          validation_data=((X_valid_wide, X_valid_deep), (y_valid, y_valid)), \n",
    "          epochs=10)\n",
    "y_pred, y_pred_aux = model.predict((X_new_wide, X_new_deep))"
   ]
  },
  {
   "cell_type": "markdown",
   "id": "99223edd-91b0-4bbf-9c35-e8e2bcf22f1b",
   "metadata": {},
   "source": [
    "Saving a trained Keras model is as simple as it gets: "
   ]
  },
  {
   "cell_type": "code",
   "execution_count": 45,
   "id": "085e64e6-a4f0-4315-b6c4-82a1f95f108d",
   "metadata": {},
   "outputs": [],
   "source": [
    "model.save(\"my_keras_model.keras\")"
   ]
  },
  {
   "cell_type": "markdown",
   "id": "f08041f0-deb2-4c32-89d1-e5ea551e401d",
   "metadata": {},
   "source": [
    "You will typically have a script that trains a model and saves it, and one or\n",
    "more scripts (or web services) that load the model and use it to evaluate it\n",
    "or to make predictions. Loading the model is just as easy as saving it:"
   ]
  },
  {
   "cell_type": "markdown",
   "id": "d54a475c-4358-4b22-8527-11b29416258c",
   "metadata": {},
   "source": [
    "`Warning`: If the model uses any custom object, you must pass them to the function via the custom_objects argument:"
   ]
  },
  {
   "cell_type": "code",
   "execution_count": 46,
   "id": "29b80b8c-88ec-4099-96c6-a58204fe87aa",
   "metadata": {},
   "outputs": [
    {
     "name": "stdout",
     "output_type": "stream",
     "text": [
      "WARNING:tensorflow:From C:\\Users\\ianvi\\AppData\\Local\\Programs\\Python\\Python312\\Lib\\site-packages\\keras\\src\\backend\\tensorflow\\core.py:232: The name tf.placeholder is deprecated. Please use tf.compat.v1.placeholder instead.\n",
      "\n"
     ]
    }
   ],
   "source": [
    "loaded_model = tf.keras.models.load_model(\n",
    "    \"my_keras_model.keras\",\n",
    "    custom_objects={\"WideAndDeepModel\": WideAndDeepModel})"
   ]
  },
  {
   "cell_type": "markdown",
   "id": "8da16dbf-c8e1-4d6a-a847-e983baa60798",
   "metadata": {},
   "source": [
    "Export model to the SavedModel format using model.export:"
   ]
  },
  {
   "cell_type": "code",
   "execution_count": 47,
   "id": "38642fe5-cb1f-4df1-abbb-f723332f96c5",
   "metadata": {},
   "outputs": [
    {
     "name": "stdout",
     "output_type": "stream",
     "text": [
      "INFO:tensorflow:Assets written to: my_keras_model\\assets\n"
     ]
    },
    {
     "name": "stderr",
     "output_type": "stream",
     "text": [
      "INFO:tensorflow:Assets written to: my_keras_model\\assets\n"
     ]
    },
    {
     "name": "stdout",
     "output_type": "stream",
     "text": [
      "Saved artifact at 'my_keras_model'. The following endpoints are available:\n",
      "\n",
      "* Endpoint 'serve'\n",
      "  args_0 (POSITIONAL_ONLY): Tuple[TensorSpec(shape=(None, 5), dtype=tf.float32, name=None), TensorSpec(shape=(None, 6), dtype=tf.float32, name=None)]\n",
      "Output Type:\n",
      "  Tuple[TensorSpec(shape=(None, 1), dtype=tf.float32, name=None), TensorSpec(shape=(None, 1), dtype=tf.float32, name=None)]\n",
      "Captures:\n",
      "  1864714044624: TensorSpec(shape=(1, 5), dtype=tf.float32, name=None)\n",
      "  1864714059216: TensorSpec(shape=(1, 5), dtype=tf.float32, name=None)\n",
      "  1864714047120: TensorSpec(shape=(1, 6), dtype=tf.float32, name=None)\n",
      "  1864714049616: TensorSpec(shape=(1, 6), dtype=tf.float32, name=None)\n",
      "  1865485840656: TensorSpec(shape=(), dtype=tf.resource, name=None)\n",
      "  1865485842192: TensorSpec(shape=(), dtype=tf.resource, name=None)\n",
      "  1865485843920: TensorSpec(shape=(), dtype=tf.resource, name=None)\n",
      "  1865485835664: TensorSpec(shape=(), dtype=tf.resource, name=None)\n",
      "  1865485842576: TensorSpec(shape=(), dtype=tf.resource, name=None)\n",
      "  1865485837968: TensorSpec(shape=(), dtype=tf.resource, name=None)\n",
      "  1865485838160: TensorSpec(shape=(), dtype=tf.resource, name=None)\n",
      "  1865485837200: TensorSpec(shape=(), dtype=tf.resource, name=None)\n"
     ]
    }
   ],
   "source": [
    "model.export(\"my_keras_model\")"
   ]
  },
  {
   "cell_type": "markdown",
   "id": "30593f92-dcef-4e1f-a2c2-95d9697d5b45",
   "metadata": {},
   "source": [
    "Load the model in the saved model format:"
   ]
  },
  {
   "cell_type": "markdown",
   "id": "94f58d48-4860-4b3d-9dc7-ca739275dd4d",
   "metadata": {},
   "source": [
    "`Warning`: In Keras 3, it is no longer possible to load a TensorFlow SavedModel as a Keras model. However, you can load a SavedModel as a tf.keras.layers.TFSMLayer layer, but be aware that this layer can only be used for inference: no training."
   ]
  },
  {
   "cell_type": "code",
   "execution_count": 48,
   "id": "8c0cc7a4-f56a-498c-9721-bc49e1d124a5",
   "metadata": {},
   "outputs": [],
   "source": [
    "tfsm_layer = tf.keras.layers.TFSMLayer(\"my_keras_model\")\n",
    "y_pred_main, y_pred_aux = tfsm_layer((X_new_wide, X_new_deep))"
   ]
  },
  {
   "cell_type": "markdown",
   "id": "84781276-ae12-4d60-ade9-85ebb7825a2d",
   "metadata": {},
   "source": [
    "`Warning`: Keras now requires the saved weights to have the .weights.h5 extension. They are no longer saved using the SavedModel format."
   ]
  },
  {
   "cell_type": "code",
   "execution_count": 49,
   "id": "218d8bb4-c285-4ff4-8bf4-937e82338986",
   "metadata": {},
   "outputs": [],
   "source": [
    "model.save_weights(\"my_weights.weights.h5\")"
   ]
  },
  {
   "cell_type": "code",
   "execution_count": 50,
   "id": "1c1f1769-7e28-46c4-8e0c-4831e9201691",
   "metadata": {},
   "outputs": [],
   "source": [
    "model.load_weights(\"my_weights.weights.h5\")"
   ]
  },
  {
   "cell_type": "markdown",
   "id": "9e360b7c-e08e-4e85-97c9-39d34b306e1c",
   "metadata": {},
   "source": [
    "### Using Callbacks"
   ]
  },
  {
   "cell_type": "markdown",
   "id": "6dd0b508-988b-4cd4-be32-19791000fd03",
   "metadata": {},
   "source": [
    "The fit() method accepts a callbacks argument that lets you specify a\n",
    "list of objects that Keras will call before and after training, before and after\n",
    "each epoch, and even before and after processing each batch. For example,\n",
    "the ModelCheckpoint callback saves checkpoints of your model at regular\n",
    "intervals during training, by default at the end of each epoch:"
   ]
  },
  {
   "cell_type": "code",
   "execution_count": 51,
   "id": "49600e40-d38b-46cb-89a8-031b92663efc",
   "metadata": {},
   "outputs": [
    {
     "name": "stdout",
     "output_type": "stream",
     "text": [
      "Epoch 1/10\n",
      "\u001b[1m363/363\u001b[0m \u001b[32m━━━━━━━━━━━━━━━━━━━━\u001b[0m\u001b[37m\u001b[0m \u001b[1m2s\u001b[0m 5ms/step - RootMeanSquaredError: 0.5864 - RootMeanSquaredError_1: 0.6466 - loss: 0.7620 - mse_loss: 0.4181 - val_RootMeanSquaredError: 1.1781 - val_RootMeanSquaredError_1: 1.8200 - val_loss: 4.7003 - val_mse_loss: 3.3107\n",
      "Epoch 2/10\n",
      "\u001b[1m363/363\u001b[0m \u001b[32m━━━━━━━━━━━━━━━━━━━━\u001b[0m\u001b[37m\u001b[0m \u001b[1m2s\u001b[0m 5ms/step - RootMeanSquaredError: 0.5875 - RootMeanSquaredError_1: 0.6441 - loss: 0.7601 - mse_loss: 0.4150 - val_RootMeanSquaredError: 1.4039 - val_RootMeanSquaredError_1: 1.4487 - val_loss: 4.0698 - val_mse_loss: 2.0979\n",
      "Epoch 3/10\n",
      "\u001b[1m363/363\u001b[0m \u001b[32m━━━━━━━━━━━━━━━━━━━━\u001b[0m\u001b[37m\u001b[0m \u001b[1m2s\u001b[0m 5ms/step - RootMeanSquaredError: 0.5875 - RootMeanSquaredError_1: 0.6324 - loss: 0.7452 - mse_loss: 0.4000 - val_RootMeanSquaredError: 1.6081 - val_RootMeanSquaredError_1: 1.3316 - val_loss: 4.3591 - val_mse_loss: 1.7723\n",
      "Epoch 4/10\n",
      "\u001b[1m363/363\u001b[0m \u001b[32m━━━━━━━━━━━━━━━━━━━━\u001b[0m\u001b[37m\u001b[0m \u001b[1m2s\u001b[0m 5ms/step - RootMeanSquaredError: 0.5905 - RootMeanSquaredError_1: 0.6302 - loss: 0.7458 - mse_loss: 0.3972 - val_RootMeanSquaredError: 1.9555 - val_RootMeanSquaredError_1: 1.2291 - val_loss: 5.3348 - val_mse_loss: 1.5101\n",
      "Epoch 5/10\n",
      "\u001b[1m363/363\u001b[0m \u001b[32m━━━━━━━━━━━━━━━━━━━━\u001b[0m\u001b[37m\u001b[0m \u001b[1m2s\u001b[0m 5ms/step - RootMeanSquaredError: 0.5945 - RootMeanSquaredError_1: 0.6250 - loss: 0.7440 - mse_loss: 0.3906 - val_RootMeanSquaredError: 1.9478 - val_RootMeanSquaredError_1: 1.0699 - val_loss: 4.9387 - val_mse_loss: 1.1443\n",
      "Epoch 6/10\n",
      "\u001b[1m363/363\u001b[0m \u001b[32m━━━━━━━━━━━━━━━━━━━━\u001b[0m\u001b[37m\u001b[0m \u001b[1m2s\u001b[0m 5ms/step - RootMeanSquaredError: 0.5948 - RootMeanSquaredError_1: 0.6228 - loss: 0.7417 - mse_loss: 0.3879 - val_RootMeanSquaredError: 1.6495 - val_RootMeanSquaredError_1: 0.8408 - val_loss: 3.4279 - val_mse_loss: 0.7067\n",
      "Epoch 7/10\n",
      "\u001b[1m363/363\u001b[0m \u001b[32m━━━━━━━━━━━━━━━━━━━━\u001b[0m\u001b[37m\u001b[0m \u001b[1m3s\u001b[0m 5ms/step - RootMeanSquaredError: 0.5850 - RootMeanSquaredError_1: 0.6169 - loss: 0.7228 - mse_loss: 0.3806 - val_RootMeanSquaredError: 1.3232 - val_RootMeanSquaredError_1: 0.7317 - val_loss: 2.2862 - val_mse_loss: 0.5352\n",
      "Epoch 8/10\n",
      "\u001b[1m363/363\u001b[0m \u001b[32m━━━━━━━━━━━━━━━━━━━━\u001b[0m\u001b[37m\u001b[0m \u001b[1m2s\u001b[0m 5ms/step - RootMeanSquaredError: 0.5801 - RootMeanSquaredError_1: 0.6158 - loss: 0.7157 - mse_loss: 0.3793 - val_RootMeanSquaredError: 1.1976 - val_RootMeanSquaredError_1: 0.7057 - val_loss: 1.9324 - val_mse_loss: 0.4980\n",
      "Epoch 9/10\n",
      "\u001b[1m363/363\u001b[0m \u001b[32m━━━━━━━━━━━━━━━━━━━━\u001b[0m\u001b[37m\u001b[0m \u001b[1m2s\u001b[0m 5ms/step - RootMeanSquaredError: 0.5756 - RootMeanSquaredError_1: 0.6131 - loss: 0.7072 - mse_loss: 0.3760 - val_RootMeanSquaredError: 1.0596 - val_RootMeanSquaredError_1: 0.6552 - val_loss: 1.5520 - val_mse_loss: 0.4292\n",
      "Epoch 10/10\n",
      "\u001b[1m363/363\u001b[0m \u001b[32m━━━━━━━━━━━━━━━━━━━━\u001b[0m\u001b[37m\u001b[0m \u001b[1m2s\u001b[0m 5ms/step - RootMeanSquaredError: 0.5740 - RootMeanSquaredError_1: 0.6127 - loss: 0.7048 - mse_loss: 0.3755 - val_RootMeanSquaredError: 1.1425 - val_RootMeanSquaredError_1: 0.7390 - val_loss: 1.8514 - val_mse_loss: 0.5460\n"
     ]
    }
   ],
   "source": [
    "checkpoint_cb = tf.keras.callbacks.ModelCheckpoint(\"my_checkpoints.weights.h5\",\n",
    "                                                   save_weights_only=True)\n",
    "history = model.fit((X_train_wide, X_train_deep), (y_train, y_train), epochs=10,\n",
    "                    validation_data=((X_valid_wide, X_valid_deep), (y_valid, y_valid)),\n",
    "                    callbacks=[checkpoint_cb])"
   ]
  },
  {
   "cell_type": "markdown",
   "id": "17b67368-8c40-4177-8775-ef8055ad70d7",
   "metadata": {},
   "source": [
    "Moreover, if you use a validation set during training, you can set save_\n",
    "best_only=True when creating the ModelCheckpoint. In this case, it will\n",
    "only save your model when its performance on the validation set is the best\n",
    "so far. This way, you do not need to worry about training for too long and\n",
    "overfitting the training set: simply restore the last saved model after\n",
    "training, and this will be the best model on the validation set. This is one\n",
    "way to implement early stopping, but it won’t\n",
    "actually stop training."
   ]
  },
  {
   "cell_type": "markdown",
   "id": "53d8d816-df4e-4b8c-b85d-6f57cc9b0cac",
   "metadata": {},
   "source": [
    "Another way is to use the EarlyStopping callback. It will interrupt training\n",
    "when it measures no progress on the validation set for a number of epochs\n",
    "(defined by the patience argument), and if you set\n",
    "restore_best_weights=True it will roll back to the best model at the end\n",
    "of training. You can combine both callbacks to save checkpoints of your\n",
    "model in case your computer crashes, and interrupt training early when\n",
    "there is no more progress, to avoid wasting time and resources and to\n",
    "reduce overfitting:"
   ]
  },
  {
   "cell_type": "code",
   "execution_count": 52,
   "id": "ad0f7539-9696-4daa-9c9c-411e13de738b",
   "metadata": {},
   "outputs": [
    {
     "name": "stdout",
     "output_type": "stream",
     "text": [
      "Epoch 1/30\n",
      "\u001b[1m363/363\u001b[0m \u001b[32m━━━━━━━━━━━━━━━━━━━━\u001b[0m\u001b[37m\u001b[0m \u001b[1m2s\u001b[0m 5ms/step - RootMeanSquaredError: 0.5731 - RootMeanSquaredError_1: 0.6106 - loss: 0.7012 - mse_loss: 0.3729 - val_RootMeanSquaredError: 1.1438 - val_RootMeanSquaredError_1: 0.6927 - val_loss: 1.7882 - val_mse_loss: 0.4798\n",
      "Epoch 2/30\n",
      "\u001b[1m363/363\u001b[0m \u001b[32m━━━━━━━━━━━━━━━━━━━━\u001b[0m\u001b[37m\u001b[0m \u001b[1m2s\u001b[0m 5ms/step - RootMeanSquaredError: 0.5732 - RootMeanSquaredError_1: 0.6110 - loss: 0.7019 - mse_loss: 0.3733 - val_RootMeanSquaredError: 1.2756 - val_RootMeanSquaredError_1: 0.9922 - val_loss: 2.6116 - val_mse_loss: 0.9842\n",
      "Epoch 3/30\n",
      "\u001b[1m363/363\u001b[0m \u001b[32m━━━━━━━━━━━━━━━━━━━━\u001b[0m\u001b[37m\u001b[0m \u001b[1m2s\u001b[0m 6ms/step - RootMeanSquaredError: 0.5728 - RootMeanSquaredError_1: 0.6100 - loss: 0.7001 - mse_loss: 0.3722 - val_RootMeanSquaredError: 1.2393 - val_RootMeanSquaredError_1: 1.2319 - val_loss: 3.0536 - val_mse_loss: 1.5171\n",
      "Epoch 4/30\n",
      "\u001b[1m363/363\u001b[0m \u001b[32m━━━━━━━━━━━━━━━━━━━━\u001b[0m\u001b[37m\u001b[0m \u001b[1m2s\u001b[0m 5ms/step - RootMeanSquaredError: 0.5727 - RootMeanSquaredError_1: 0.6175 - loss: 0.7093 - mse_loss: 0.3814 - val_RootMeanSquaredError: 0.9744 - val_RootMeanSquaredError_1: 1.7132 - val_loss: 3.8846 - val_mse_loss: 2.9338\n",
      "Epoch 5/30\n",
      "\u001b[1m363/363\u001b[0m \u001b[32m━━━━━━━━━━━━━━━━━━━━\u001b[0m\u001b[37m\u001b[0m \u001b[1m2s\u001b[0m 5ms/step - RootMeanSquaredError: 0.5677 - RootMeanSquaredError_1: 0.6173 - loss: 0.7034 - mse_loss: 0.3811 - val_RootMeanSquaredError: 1.1822 - val_RootMeanSquaredError_1: 2.0382 - val_loss: 5.5521 - val_mse_loss: 4.1525\n",
      "Epoch 6/30\n",
      "\u001b[1m363/363\u001b[0m \u001b[32m━━━━━━━━━━━━━━━━━━━━\u001b[0m\u001b[37m\u001b[0m \u001b[1m2s\u001b[0m 5ms/step - RootMeanSquaredError: 0.5710 - RootMeanSquaredError_1: 0.6248 - loss: 0.7164 - mse_loss: 0.3904 - val_RootMeanSquaredError: 1.3185 - val_RootMeanSquaredError_1: 1.6527 - val_loss: 4.4700 - val_mse_loss: 2.7302\n",
      "Epoch 7/30\n",
      "\u001b[1m363/363\u001b[0m \u001b[32m━━━━━━━━━━━━━━━━━━━━\u001b[0m\u001b[37m\u001b[0m \u001b[1m2s\u001b[0m 5ms/step - RootMeanSquaredError: 0.5705 - RootMeanSquaredError_1: 0.6170 - loss: 0.7062 - mse_loss: 0.3808 - val_RootMeanSquaredError: 0.9261 - val_RootMeanSquaredError_1: 0.9920 - val_loss: 1.8417 - val_mse_loss: 0.9837\n",
      "Epoch 8/30\n",
      "\u001b[1m363/363\u001b[0m \u001b[32m━━━━━━━━━━━━━━━━━━━━\u001b[0m\u001b[37m\u001b[0m \u001b[1m2s\u001b[0m 5ms/step - RootMeanSquaredError: 0.5659 - RootMeanSquaredError_1: 0.6056 - loss: 0.6870 - mse_loss: 0.3668 - val_RootMeanSquaredError: 0.8806 - val_RootMeanSquaredError_1: 0.7348 - val_loss: 1.3155 - val_mse_loss: 0.5398\n",
      "Epoch 9/30\n",
      "\u001b[1m363/363\u001b[0m \u001b[32m━━━━━━━━━━━━━━━━━━━━\u001b[0m\u001b[37m\u001b[0m \u001b[1m2s\u001b[0m 5ms/step - RootMeanSquaredError: 0.5633 - RootMeanSquaredError_1: 0.6013 - loss: 0.6789 - mse_loss: 0.3617 - val_RootMeanSquaredError: 0.6834 - val_RootMeanSquaredError_1: 0.7167 - val_loss: 0.9808 - val_mse_loss: 0.5136\n",
      "Epoch 10/30\n",
      "\u001b[1m363/363\u001b[0m \u001b[32m━━━━━━━━━━━━━━━━━━━━\u001b[0m\u001b[37m\u001b[0m \u001b[1m2s\u001b[0m 5ms/step - RootMeanSquaredError: 0.5617 - RootMeanSquaredError_1: 0.6012 - loss: 0.6770 - mse_loss: 0.3615 - val_RootMeanSquaredError: 0.7564 - val_RootMeanSquaredError_1: 0.7848 - val_loss: 1.1880 - val_mse_loss: 0.6158\n",
      "Epoch 11/30\n",
      "\u001b[1m363/363\u001b[0m \u001b[32m━━━━━━━━━━━━━━━━━━━━\u001b[0m\u001b[37m\u001b[0m \u001b[1m2s\u001b[0m 5ms/step - RootMeanSquaredError: 0.5609 - RootMeanSquaredError_1: 0.5999 - loss: 0.6746 - mse_loss: 0.3600 - val_RootMeanSquaredError: 0.7534 - val_RootMeanSquaredError_1: 0.7963 - val_loss: 1.2018 - val_mse_loss: 0.6340\n",
      "Epoch 12/30\n",
      "\u001b[1m363/363\u001b[0m \u001b[32m━━━━━━━━━━━━━━━━━━━━\u001b[0m\u001b[37m\u001b[0m \u001b[1m2s\u001b[0m 6ms/step - RootMeanSquaredError: 0.5615 - RootMeanSquaredError_1: 0.6004 - loss: 0.6757 - mse_loss: 0.3605 - val_RootMeanSquaredError: 1.0273 - val_RootMeanSquaredError_1: 0.9464 - val_loss: 1.9511 - val_mse_loss: 0.8954\n",
      "Epoch 13/30\n",
      "\u001b[1m363/363\u001b[0m \u001b[32m━━━━━━━━━━━━━━━━━━━━\u001b[0m\u001b[37m\u001b[0m \u001b[1m2s\u001b[0m 5ms/step - RootMeanSquaredError: 0.5618 - RootMeanSquaredError_1: 0.5994 - loss: 0.6750 - mse_loss: 0.3594 - val_RootMeanSquaredError: 0.9517 - val_RootMeanSquaredError_1: 1.1027 - val_loss: 2.1215 - val_mse_loss: 1.2154\n",
      "Epoch 14/30\n",
      "\u001b[1m363/363\u001b[0m \u001b[32m━━━━━━━━━━━━━━━━━━━━\u001b[0m\u001b[37m\u001b[0m \u001b[1m3s\u001b[0m 5ms/step - RootMeanSquaredError: 0.5620 - RootMeanSquaredError_1: 0.6022 - loss: 0.6784 - mse_loss: 0.3627 - val_RootMeanSquaredError: 1.0483 - val_RootMeanSquaredError_1: 1.2070 - val_loss: 2.5559 - val_mse_loss: 1.4563\n",
      "Epoch 15/30\n",
      "\u001b[1m363/363\u001b[0m \u001b[32m━━━━━━━━━━━━━━━━━━━━\u001b[0m\u001b[37m\u001b[0m \u001b[1m2s\u001b[0m 5ms/step - RootMeanSquaredError: 0.5612 - RootMeanSquaredError_1: 0.6011 - loss: 0.6762 - mse_loss: 0.3614 - val_RootMeanSquaredError: 1.1370 - val_RootMeanSquaredError_1: 1.5247 - val_loss: 3.6177 - val_mse_loss: 2.3238\n",
      "Epoch 16/30\n",
      "\u001b[1m363/363\u001b[0m \u001b[32m━━━━━━━━━━━━━━━━━━━━\u001b[0m\u001b[37m\u001b[0m \u001b[1m2s\u001b[0m 5ms/step - RootMeanSquaredError: 0.5636 - RootMeanSquaredError_1: 0.6078 - loss: 0.6870 - mse_loss: 0.3694 - val_RootMeanSquaredError: 1.0059 - val_RootMeanSquaredError_1: 1.2149 - val_loss: 2.4878 - val_mse_loss: 1.4753\n",
      "Epoch 17/30\n",
      "\u001b[1m363/363\u001b[0m \u001b[32m━━━━━━━━━━━━━━━━━━━━\u001b[0m\u001b[37m\u001b[0m \u001b[1m2s\u001b[0m 5ms/step - RootMeanSquaredError: 0.5607 - RootMeanSquaredError_1: 0.6004 - loss: 0.6749 - mse_loss: 0.3605 - val_RootMeanSquaredError: 0.5877 - val_RootMeanSquaredError_1: 0.8572 - val_loss: 1.0801 - val_mse_loss: 0.7345\n",
      "Epoch 18/30\n",
      "\u001b[1m363/363\u001b[0m \u001b[32m━━━━━━━━━━━━━━━━━━━━\u001b[0m\u001b[37m\u001b[0m \u001b[1m2s\u001b[0m 5ms/step - RootMeanSquaredError: 0.5551 - RootMeanSquaredError_1: 0.5950 - loss: 0.6621 - mse_loss: 0.3541 - val_RootMeanSquaredError: 0.5433 - val_RootMeanSquaredError_1: 0.7051 - val_loss: 0.7923 - val_mse_loss: 0.4970\n",
      "Epoch 19/30\n",
      "\u001b[1m363/363\u001b[0m \u001b[32m━━━━━━━━━━━━━━━━━━━━\u001b[0m\u001b[37m\u001b[0m \u001b[1m2s\u001b[0m 5ms/step - RootMeanSquaredError: 0.5537 - RootMeanSquaredError_1: 0.5923 - loss: 0.6574 - mse_loss: 0.3509 - val_RootMeanSquaredError: 0.5831 - val_RootMeanSquaredError_1: 0.7878 - val_loss: 0.9605 - val_mse_loss: 0.6204\n",
      "Epoch 20/30\n",
      "\u001b[1m363/363\u001b[0m \u001b[32m━━━━━━━━━━━━━━━━━━━━\u001b[0m\u001b[37m\u001b[0m \u001b[1m2s\u001b[0m 5ms/step - RootMeanSquaredError: 0.5530 - RootMeanSquaredError_1: 0.5920 - loss: 0.6563 - mse_loss: 0.3505 - val_RootMeanSquaredError: 0.6366 - val_RootMeanSquaredError_1: 0.7574 - val_loss: 0.9788 - val_mse_loss: 0.5734\n",
      "Epoch 21/30\n",
      "\u001b[1m363/363\u001b[0m \u001b[32m━━━━━━━━━━━━━━━━━━━━\u001b[0m\u001b[37m\u001b[0m \u001b[1m2s\u001b[0m 5ms/step - RootMeanSquaredError: 0.5533 - RootMeanSquaredError_1: 0.5911 - loss: 0.6555 - mse_loss: 0.3494 - val_RootMeanSquaredError: 0.7429 - val_RootMeanSquaredError_1: 0.9706 - val_loss: 1.4940 - val_mse_loss: 0.9418\n",
      "Epoch 22/30\n",
      "\u001b[1m363/363\u001b[0m \u001b[32m━━━━━━━━━━━━━━━━━━━━\u001b[0m\u001b[37m\u001b[0m \u001b[1m2s\u001b[0m 5ms/step - RootMeanSquaredError: 0.5525 - RootMeanSquaredError_1: 0.5915 - loss: 0.6551 - mse_loss: 0.3500 - val_RootMeanSquaredError: 0.5806 - val_RootMeanSquaredError_1: 0.9596 - val_loss: 1.2579 - val_mse_loss: 0.9206\n",
      "Epoch 23/30\n",
      "\u001b[1m363/363\u001b[0m \u001b[32m━━━━━━━━━━━━━━━━━━━━\u001b[0m\u001b[37m\u001b[0m \u001b[1m2s\u001b[0m 5ms/step - RootMeanSquaredError: 0.5520 - RootMeanSquaredError_1: 0.5908 - loss: 0.6537 - mse_loss: 0.3492 - val_RootMeanSquaredError: 0.5444 - val_RootMeanSquaredError_1: 1.0353 - val_loss: 1.3683 - val_mse_loss: 1.0715\n",
      "Epoch 24/30\n",
      "\u001b[1m363/363\u001b[0m \u001b[32m━━━━━━━━━━━━━━━━━━━━\u001b[0m\u001b[37m\u001b[0m \u001b[1m2s\u001b[0m 5ms/step - RootMeanSquaredError: 0.5509 - RootMeanSquaredError_1: 0.5928 - loss: 0.6548 - mse_loss: 0.3514 - val_RootMeanSquaredError: 0.8506 - val_RootMeanSquaredError_1: 0.8968 - val_loss: 1.5277 - val_mse_loss: 0.8039\n",
      "Epoch 25/30\n",
      "\u001b[1m363/363\u001b[0m \u001b[32m━━━━━━━━━━━━━━━━━━━━\u001b[0m\u001b[37m\u001b[0m \u001b[1m2s\u001b[0m 5ms/step - RootMeanSquaredError: 0.5532 - RootMeanSquaredError_1: 0.5911 - loss: 0.6553 - mse_loss: 0.3494 - val_RootMeanSquaredError: 1.3875 - val_RootMeanSquaredError_1: 1.6152 - val_loss: 4.5341 - val_mse_loss: 2.6078\n",
      "Epoch 26/30\n",
      "\u001b[1m363/363\u001b[0m \u001b[32m━━━━━━━━━━━━━━━━━━━━\u001b[0m\u001b[37m\u001b[0m \u001b[1m2s\u001b[0m 4ms/step - RootMeanSquaredError: 0.5596 - RootMeanSquaredError_1: 0.5962 - loss: 0.6686 - mse_loss: 0.3555 - val_RootMeanSquaredError: 1.2864 - val_RootMeanSquaredError_1: 0.8956 - val_loss: 2.4569 - val_mse_loss: 0.8018\n",
      "Epoch 27/30\n",
      "\u001b[1m363/363\u001b[0m \u001b[32m━━━━━━━━━━━━━━━━━━━━\u001b[0m\u001b[37m\u001b[0m \u001b[1m2s\u001b[0m 5ms/step - RootMeanSquaredError: 0.5567 - RootMeanSquaredError_1: 0.5891 - loss: 0.6569 - mse_loss: 0.3471 - val_RootMeanSquaredError: 0.6187 - val_RootMeanSquaredError_1: 0.7670 - val_loss: 0.9710 - val_mse_loss: 0.5881\n",
      "Epoch 28/30\n",
      "\u001b[1m363/363\u001b[0m \u001b[32m━━━━━━━━━━━━━━━━━━━━\u001b[0m\u001b[37m\u001b[0m \u001b[1m2s\u001b[0m 5ms/step - RootMeanSquaredError: 0.5489 - RootMeanSquaredError_1: 0.5851 - loss: 0.6436 - mse_loss: 0.3424 - val_RootMeanSquaredError: 0.5439 - val_RootMeanSquaredError_1: 0.5931 - val_loss: 0.6476 - val_mse_loss: 0.3517\n",
      "Epoch 29/30\n",
      "\u001b[1m363/363\u001b[0m \u001b[32m━━━━━━━━━━━━━━━━━━━━\u001b[0m\u001b[37m\u001b[0m \u001b[1m2s\u001b[0m 5ms/step - RootMeanSquaredError: 0.5475 - RootMeanSquaredError_1: 0.5832 - loss: 0.6398 - mse_loss: 0.3402 - val_RootMeanSquaredError: 0.5400 - val_RootMeanSquaredError_1: 0.6630 - val_loss: 0.7312 - val_mse_loss: 0.4395\n",
      "Epoch 30/30\n",
      "\u001b[1m363/363\u001b[0m \u001b[32m━━━━━━━━━━━━━━━━━━━━\u001b[0m\u001b[37m\u001b[0m \u001b[1m2s\u001b[0m 5ms/step - RootMeanSquaredError: 0.5473 - RootMeanSquaredError_1: 0.5835 - loss: 0.6401 - mse_loss: 0.3406 - val_RootMeanSquaredError: 0.5986 - val_RootMeanSquaredError_1: 0.6718 - val_loss: 0.8096 - val_mse_loss: 0.4512\n"
     ]
    }
   ],
   "source": [
    "early_stopping_cb = tf.keras.callbacks.EarlyStopping(\n",
    "                                    patience=10,\n",
    "                                    restore_best_weights=True)\n",
    "history = model.fit((X_train_wide, X_train_deep), (y_train, y_train),\n",
    "                    validation_data=((X_valid_wide, X_valid_deep), (y_valid, y_valid)),\n",
    "                    epochs=30,\n",
    "                   callbacks=[checkpoint_cb, early_stopping_cb])"
   ]
  },
  {
   "cell_type": "markdown",
   "id": "1efabd8a-dbf9-4b3c-b46b-2d24374bbb49",
   "metadata": {},
   "source": [
    "If you need extra control, you can easily write your own custom callbacks.\n",
    "For example, the following custom callback will display the ratio between\n",
    "the validation loss and the training loss during training (e.g., to detect\n",
    "overfitting):"
   ]
  },
  {
   "cell_type": "code",
   "execution_count": 53,
   "id": "103fa692-cd0e-4395-a180-6b8b654fa9bb",
   "metadata": {},
   "outputs": [],
   "source": [
    "class PrintValTrainRatioCallback(tf.keras.callbacks.Callback):\n",
    "    def on_epoch_end(self, epoch, logs):\n",
    "        ratio = logs[\"val_loss\"] / logs[\"loss\"]\n",
    "        print(f\"Epoch={epoch}, val/train={ratio:.2f}\")"
   ]
  },
  {
   "cell_type": "markdown",
   "id": "878d8605-7718-4572-969d-6ca612a8f15b",
   "metadata": {},
   "source": [
    "As you might expect, you can implement on_train_begin(),\n",
    "on_train_end(), on_epoch_begin(), on_epoch_end(),\n",
    "on_batch_begin(), and on_batch_end(). Callbacks can also be used\n",
    "during evaluation and predictions, should you ever need them (e.g., for\n",
    "debugging). For evaluation, you should implement on_test_begin(),\n",
    "on_test_end(), on_test_batch_begin(), or on_test_batch_end(),\n",
    "which are called by evaluate(). For prediction, you should implement\n",
    "on_predict_begin(), on_predict_end(), on_predict_batch_begin(),\n",
    "or on_predict_batch_end(), which are called by predict()."
   ]
  },
  {
   "cell_type": "markdown",
   "id": "3729a2f7-6dd0-4d0f-a9f8-0aebbc6da81e",
   "metadata": {},
   "source": [
    "### Using TensorBoard for visualization"
   ]
  },
  {
   "cell_type": "markdown",
   "id": "996bdabb-3e35-4e15-a143-10648461f68e",
   "metadata": {},
   "source": [
    "Let’s name the root log directory my_logs, and let’s define a little function\n",
    "that generates the path of the log subdirectory based on the current date and\n",
    "time, so that it’s different at every run:"
   ]
  },
  {
   "cell_type": "code",
   "execution_count": 54,
   "id": "2d277ee3-f73e-4cf2-80d7-206f17ebb46f",
   "metadata": {},
   "outputs": [
    {
     "name": "stdout",
     "output_type": "stream",
     "text": [
      "my_logs\\run_2025_08_20_13_42_27\n"
     ]
    }
   ],
   "source": [
    "from pathlib import Path\n",
    "from time import strftime\n",
    "\n",
    "def get_run_logdir(root_logdir=\"my_logs\"):\n",
    "    return Path(root_logdir) / strftime(\"run_%Y_%m_%d_%H_%M_%S\")\n",
    "\n",
    "run_logdir = get_run_logdir()\n",
    "print(run_logdir)"
   ]
  },
  {
   "cell_type": "markdown",
   "id": "1114eec8-63a8-4d9f-a961-bf72efd23826",
   "metadata": {},
   "source": [
    "It is straightforward to use:"
   ]
  },
  {
   "cell_type": "code",
   "execution_count": 55,
   "id": "56f1dd13-6c6a-430f-8754-572a8d27a73d",
   "metadata": {},
   "outputs": [
    {
     "name": "stdout",
     "output_type": "stream",
     "text": [
      "Epoch 1/30\n",
      "\u001b[1m363/363\u001b[0m \u001b[32m━━━━━━━━━━━━━━━━━━━━\u001b[0m\u001b[37m\u001b[0m \u001b[1m6s\u001b[0m 9ms/step - RootMeanSquaredError: 1.2384 - RootMeanSquaredError_1: 1.3790 - loss: 3.4351 - mse_loss: 1.9010 - val_RootMeanSquaredError: 0.7576 - val_RootMeanSquaredError_1: 1.1216 - val_loss: 1.8321 - val_mse_loss: 1.2577\n",
      "Epoch 2/30\n",
      "\u001b[1m363/363\u001b[0m \u001b[32m━━━━━━━━━━━━━━━━━━━━\u001b[0m\u001b[37m\u001b[0m \u001b[1m2s\u001b[0m 6ms/step - RootMeanSquaredError: 0.6946 - RootMeanSquaredError_1: 0.8106 - loss: 1.1396 - mse_loss: 0.6570 - val_RootMeanSquaredError: 0.6789 - val_RootMeanSquaredError_1: 0.7688 - val_loss: 1.0520 - val_mse_loss: 0.5910\n",
      "Epoch 3/30\n",
      "\u001b[1m363/363\u001b[0m \u001b[32m━━━━━━━━━━━━━━━━━━━━\u001b[0m\u001b[37m\u001b[0m \u001b[1m2s\u001b[0m 6ms/step - RootMeanSquaredError: 0.6584 - RootMeanSquaredError_1: 0.7520 - loss: 0.9990 - mse_loss: 0.5654 - val_RootMeanSquaredError: 0.8072 - val_RootMeanSquaredError_1: 0.7354 - val_loss: 1.1924 - val_mse_loss: 0.5407\n",
      "Epoch 4/30\n",
      "\u001b[1m363/363\u001b[0m \u001b[32m━━━━━━━━━━━━━━━━━━━━\u001b[0m\u001b[37m\u001b[0m \u001b[1m2s\u001b[0m 6ms/step - RootMeanSquaredError: 0.6383 - RootMeanSquaredError_1: 0.7252 - loss: 0.9333 - mse_loss: 0.5259 - val_RootMeanSquaredError: 0.6726 - val_RootMeanSquaredError_1: 0.7009 - val_loss: 0.9437 - val_mse_loss: 0.4911\n",
      "Epoch 5/30\n",
      "\u001b[1m363/363\u001b[0m \u001b[32m━━━━━━━━━━━━━━━━━━━━\u001b[0m\u001b[37m\u001b[0m \u001b[1m2s\u001b[0m 6ms/step - RootMeanSquaredError: 0.6278 - RootMeanSquaredError_1: 0.7060 - loss: 0.8927 - mse_loss: 0.4985 - val_RootMeanSquaredError: 0.9169 - val_RootMeanSquaredError_1: 0.7773 - val_loss: 1.4449 - val_mse_loss: 0.6041\n",
      "Epoch 6/30\n",
      "\u001b[1m363/363\u001b[0m \u001b[32m━━━━━━━━━━━━━━━━━━━━\u001b[0m\u001b[37m\u001b[0m \u001b[1m2s\u001b[0m 6ms/step - RootMeanSquaredError: 0.6174 - RootMeanSquaredError_1: 0.6880 - loss: 0.8546 - mse_loss: 0.4734 - val_RootMeanSquaredError: 1.0200 - val_RootMeanSquaredError_1: 1.2066 - val_loss: 2.4962 - val_mse_loss: 1.4553\n",
      "Epoch 7/30\n",
      "\u001b[1m363/363\u001b[0m \u001b[32m━━━━━━━━━━━━━━━━━━━━\u001b[0m\u001b[37m\u001b[0m \u001b[1m2s\u001b[0m 6ms/step - RootMeanSquaredError: 0.6143 - RootMeanSquaredError_1: 0.6805 - loss: 0.8403 - mse_loss: 0.4630 - val_RootMeanSquaredError: 1.1511 - val_RootMeanSquaredError_1: 1.3612 - val_loss: 3.1778 - val_mse_loss: 1.8520\n",
      "Epoch 8/30\n",
      "\u001b[1m363/363\u001b[0m \u001b[32m━━━━━━━━━━━━━━━━━━━━\u001b[0m\u001b[37m\u001b[0m \u001b[1m2s\u001b[0m 6ms/step - RootMeanSquaredError: 0.6072 - RootMeanSquaredError_1: 0.6690 - loss: 0.8162 - mse_loss: 0.4476 - val_RootMeanSquaredError: 0.9737 - val_RootMeanSquaredError_1: 1.4415 - val_loss: 3.0260 - val_mse_loss: 2.0770\n",
      "Epoch 9/30\n",
      "\u001b[1m363/363\u001b[0m \u001b[32m━━━━━━━━━━━━━━━━━━━━\u001b[0m\u001b[37m\u001b[0m \u001b[1m2s\u001b[0m 6ms/step - RootMeanSquaredError: 0.6014 - RootMeanSquaredError_1: 0.6612 - loss: 0.7988 - mse_loss: 0.4372 - val_RootMeanSquaredError: 0.7454 - val_RootMeanSquaredError_1: 0.8884 - val_loss: 1.3450 - val_mse_loss: 0.7890\n",
      "Epoch 10/30\n",
      "\u001b[1m363/363\u001b[0m \u001b[32m━━━━━━━━━━━━━━━━━━━━\u001b[0m\u001b[37m\u001b[0m \u001b[1m2s\u001b[0m 6ms/step - RootMeanSquaredError: 0.5938 - RootMeanSquaredError_1: 0.6476 - loss: 0.7720 - mse_loss: 0.4195 - val_RootMeanSquaredError: 0.7473 - val_RootMeanSquaredError_1: 1.0750 - val_loss: 1.7140 - val_mse_loss: 1.1551\n",
      "Epoch 11/30\n",
      "\u001b[1m363/363\u001b[0m \u001b[32m━━━━━━━━━━━━━━━━━━━━\u001b[0m\u001b[37m\u001b[0m \u001b[1m2s\u001b[0m 6ms/step - RootMeanSquaredError: 0.5902 - RootMeanSquaredError_1: 0.6424 - loss: 0.7610 - mse_loss: 0.4127 - val_RootMeanSquaredError: 0.7730 - val_RootMeanSquaredError_1: 0.8591 - val_loss: 1.3356 - val_mse_loss: 0.7378\n",
      "Epoch 12/30\n",
      "\u001b[1m363/363\u001b[0m \u001b[32m━━━━━━━━━━━━━━━━━━━━\u001b[0m\u001b[37m\u001b[0m \u001b[1m2s\u001b[0m 6ms/step - RootMeanSquaredError: 0.5863 - RootMeanSquaredError_1: 0.6349 - loss: 0.7468 - mse_loss: 0.4031 - val_RootMeanSquaredError: 0.9869 - val_RootMeanSquaredError_1: 1.5879 - val_loss: 3.4954 - val_mse_loss: 2.5203\n",
      "Epoch 13/30\n",
      "\u001b[1m363/363\u001b[0m \u001b[32m━━━━━━━━━━━━━━━━━━━━\u001b[0m\u001b[37m\u001b[0m \u001b[1m2s\u001b[0m 6ms/step - RootMeanSquaredError: 0.5862 - RootMeanSquaredError_1: 0.6388 - loss: 0.7517 - mse_loss: 0.4081 - val_RootMeanSquaredError: 1.0599 - val_RootMeanSquaredError_1: 1.4607 - val_loss: 3.2571 - val_mse_loss: 2.1327\n",
      "Epoch 14/30\n",
      "\u001b[1m363/363\u001b[0m \u001b[32m━━━━━━━━━━━━━━━━━━━━\u001b[0m\u001b[37m\u001b[0m \u001b[1m2s\u001b[0m 6ms/step - RootMeanSquaredError: 0.5840 - RootMeanSquaredError_1: 0.6343 - loss: 0.7434 - mse_loss: 0.4024 - val_RootMeanSquaredError: 1.0404 - val_RootMeanSquaredError_1: 1.4513 - val_loss: 3.1887 - val_mse_loss: 2.1053\n",
      "Epoch 15/30\n",
      "\u001b[1m363/363\u001b[0m \u001b[32m━━━━━━━━━━━━━━━━━━━━\u001b[0m\u001b[37m\u001b[0m \u001b[1m2s\u001b[0m 6ms/step - RootMeanSquaredError: 0.5811 - RootMeanSquaredError_1: 0.6279 - loss: 0.7319 - mse_loss: 0.3943 - val_RootMeanSquaredError: 0.8073 - val_RootMeanSquaredError_1: 0.8247 - val_loss: 1.3319 - val_mse_loss: 0.6800\n",
      "Epoch 16/30\n",
      "\u001b[1m363/363\u001b[0m \u001b[32m━━━━━━━━━━━━━━━━━━━━\u001b[0m\u001b[37m\u001b[0m \u001b[1m3s\u001b[0m 6ms/step - RootMeanSquaredError: 0.5765 - RootMeanSquaredError_1: 0.6196 - loss: 0.7163 - mse_loss: 0.3840 - val_RootMeanSquaredError: 0.9286 - val_RootMeanSquaredError_1: 1.3076 - val_loss: 2.5720 - val_mse_loss: 1.7090\n",
      "Epoch 17/30\n",
      "\u001b[1m363/363\u001b[0m \u001b[32m━━━━━━━━━━━━━━━━━━━━\u001b[0m\u001b[37m\u001b[0m \u001b[1m2s\u001b[0m 5ms/step - RootMeanSquaredError: 0.5758 - RootMeanSquaredError_1: 0.6211 - loss: 0.7173 - mse_loss: 0.3859 - val_RootMeanSquaredError: 0.8616 - val_RootMeanSquaredError_1: 1.1073 - val_loss: 1.9684 - val_mse_loss: 1.2256\n",
      "Epoch 18/30\n",
      "\u001b[1m363/363\u001b[0m \u001b[32m━━━━━━━━━━━━━━━━━━━━\u001b[0m\u001b[37m\u001b[0m \u001b[1m2s\u001b[0m 5ms/step - RootMeanSquaredError: 0.5734 - RootMeanSquaredError_1: 0.6177 - loss: 0.7103 - mse_loss: 0.3816 - val_RootMeanSquaredError: 1.3425 - val_RootMeanSquaredError_1: 1.7683 - val_loss: 4.9291 - val_mse_loss: 3.1254\n",
      "Epoch 19/30\n",
      "\u001b[1m363/363\u001b[0m \u001b[32m━━━━━━━━━━━━━━━━━━━━\u001b[0m\u001b[37m\u001b[0m \u001b[1m2s\u001b[0m 5ms/step - RootMeanSquaredError: 0.5776 - RootMeanSquaredError_1: 0.6235 - loss: 0.7224 - mse_loss: 0.3889 - val_RootMeanSquaredError: 1.3689 - val_RootMeanSquaredError_1: 1.4501 - val_loss: 3.9765 - val_mse_loss: 2.1017\n",
      "Epoch 20/30\n",
      "\u001b[1m363/363\u001b[0m \u001b[32m━━━━━━━━━━━━━━━━━━━━\u001b[0m\u001b[37m\u001b[0m \u001b[1m2s\u001b[0m 5ms/step - RootMeanSquaredError: 0.5781 - RootMeanSquaredError_1: 0.6209 - loss: 0.7196 - mse_loss: 0.3855 - val_RootMeanSquaredError: 1.4908 - val_RootMeanSquaredError_1: 2.0429 - val_loss: 6.3959 - val_mse_loss: 4.1714\n",
      "Epoch 21/30\n",
      "\u001b[1m363/363\u001b[0m \u001b[32m━━━━━━━━━━━━━━━━━━━━\u001b[0m\u001b[37m\u001b[0m \u001b[1m2s\u001b[0m 5ms/step - RootMeanSquaredError: 0.5770 - RootMeanSquaredError_1: 0.6250 - loss: 0.7235 - mse_loss: 0.3907 - val_RootMeanSquaredError: 0.9995 - val_RootMeanSquaredError_1: 1.2878 - val_loss: 2.6574 - val_mse_loss: 1.6576\n",
      "Epoch 22/30\n",
      "\u001b[1m363/363\u001b[0m \u001b[32m━━━━━━━━━━━━━━━━━━━━\u001b[0m\u001b[37m\u001b[0m \u001b[1m2s\u001b[0m 6ms/step - RootMeanSquaredError: 0.5714 - RootMeanSquaredError_1: 0.6162 - loss: 0.7061 - mse_loss: 0.3797 - val_RootMeanSquaredError: 0.8904 - val_RootMeanSquaredError_1: 1.3656 - val_loss: 2.6577 - val_mse_loss: 1.8640\n",
      "Epoch 23/30\n",
      "\u001b[1m363/363\u001b[0m \u001b[32m━━━━━━━━━━━━━━━━━━━━\u001b[0m\u001b[37m\u001b[0m \u001b[1m2s\u001b[0m 6ms/step - RootMeanSquaredError: 0.5657 - RootMeanSquaredError_1: 0.6098 - loss: 0.6918 - mse_loss: 0.3719 - val_RootMeanSquaredError: 0.6962 - val_RootMeanSquaredError_1: 0.8467 - val_loss: 1.2016 - val_mse_loss: 0.7166\n",
      "Epoch 24/30\n",
      "\u001b[1m363/363\u001b[0m \u001b[32m━━━━━━━━━━━━━━━━━━━━\u001b[0m\u001b[37m\u001b[0m \u001b[1m2s\u001b[0m 6ms/step - RootMeanSquaredError: 0.5626 - RootMeanSquaredError_1: 0.6042 - loss: 0.6816 - mse_loss: 0.3651 - val_RootMeanSquaredError: 0.8931 - val_RootMeanSquaredError_1: 1.2260 - val_loss: 2.3007 - val_mse_loss: 1.5025\n",
      "Epoch 25/30\n",
      "\u001b[1m363/363\u001b[0m \u001b[32m━━━━━━━━━━━━━━━━━━━━\u001b[0m\u001b[37m\u001b[0m \u001b[1m2s\u001b[0m 6ms/step - RootMeanSquaredError: 0.5624 - RootMeanSquaredError_1: 0.6045 - loss: 0.6817 - mse_loss: 0.3655 - val_RootMeanSquaredError: 0.9045 - val_RootMeanSquaredError_1: 1.0401 - val_loss: 1.9000 - val_mse_loss: 1.0813\n",
      "Epoch 26/30\n",
      "\u001b[1m363/363\u001b[0m \u001b[32m━━━━━━━━━━━━━━━━━━━━\u001b[0m\u001b[37m\u001b[0m \u001b[1m2s\u001b[0m 6ms/step - RootMeanSquaredError: 0.5616 - RootMeanSquaredError_1: 0.6028 - loss: 0.6788 - mse_loss: 0.3634 - val_RootMeanSquaredError: 1.0535 - val_RootMeanSquaredError_1: 1.4494 - val_loss: 3.2108 - val_mse_loss: 2.0999\n",
      "Epoch 27/30\n",
      "\u001b[1m363/363\u001b[0m \u001b[32m━━━━━━━━━━━━━━━━━━━━\u001b[0m\u001b[37m\u001b[0m \u001b[1m2s\u001b[0m 6ms/step - RootMeanSquaredError: 0.5615 - RootMeanSquaredError_1: 0.6045 - loss: 0.6806 - mse_loss: 0.3655 - val_RootMeanSquaredError: 0.9344 - val_RootMeanSquaredError_1: 1.1472 - val_loss: 2.1892 - val_mse_loss: 1.3156\n",
      "Epoch 28/30\n",
      "\u001b[1m363/363\u001b[0m \u001b[32m━━━━━━━━━━━━━━━━━━━━\u001b[0m\u001b[37m\u001b[0m \u001b[1m2s\u001b[0m 6ms/step - RootMeanSquaredError: 0.5589 - RootMeanSquaredError_1: 0.6009 - loss: 0.6735 - mse_loss: 0.3611 - val_RootMeanSquaredError: 1.1875 - val_RootMeanSquaredError_1: 1.6287 - val_loss: 4.0630 - val_mse_loss: 2.6516\n",
      "Epoch 29/30\n",
      "\u001b[1m363/363\u001b[0m \u001b[32m━━━━━━━━━━━━━━━━━━━━\u001b[0m\u001b[37m\u001b[0m \u001b[1m2s\u001b[0m 6ms/step - RootMeanSquaredError: 0.5607 - RootMeanSquaredError_1: 0.6043 - loss: 0.6796 - mse_loss: 0.3653 - val_RootMeanSquaredError: 1.0534 - val_RootMeanSquaredError_1: 1.2577 - val_loss: 2.6915 - val_mse_loss: 1.5812\n",
      "Epoch 30/30\n",
      "\u001b[1m363/363\u001b[0m \u001b[32m━━━━━━━━━━━━━━━━━━━━\u001b[0m\u001b[37m\u001b[0m \u001b[1m2s\u001b[0m 6ms/step - RootMeanSquaredError: 0.5591 - RootMeanSquaredError_1: 0.6001 - loss: 0.6726 - mse_loss: 0.3602 - val_RootMeanSquaredError: 1.0534 - val_RootMeanSquaredError_1: 1.1725 - val_loss: 2.4845 - val_mse_loss: 1.3742\n"
     ]
    }
   ],
   "source": [
    "tf.random.set_seed(42)\n",
    "model = WideAndDeepModel(30, activation=\"relu\")\n",
    "model.norm_layer_wide.adapt(X_train_wide)\n",
    "model.norm_layer_deep.adapt(X_train_deep)\n",
    "model.compile(loss=[\"mse\", \"mse\"],\n",
    "              optimizer=tf.keras.optimizers.Adam(learning_rate=1e-3),\n",
    "              metrics=[\"RootMeanSquaredError\", \"RootMeanSquaredError\"])\n",
    "tensorboard_cb2 = tf.keras.callbacks.TensorBoard(get_run_logdir(),\n",
    "                                                profile_batch=(100,200))\n",
    "history = model.fit((X_train_wide, X_train_deep), (y_train, y_train),\n",
    "          validation_data=((X_valid_wide, X_valid_deep), (y_valid, y_valid)),\n",
    "          epochs=30, callbacks=[tensorboard_cb2])"
   ]
  },
  {
   "cell_type": "markdown",
   "id": "0ff5137a-32f4-4ae7-b69d-399c2b726719",
   "metadata": {},
   "source": [
    "Doing another run but with learning rate = 0.002:"
   ]
  },
  {
   "cell_type": "code",
   "execution_count": 56,
   "id": "6bbbbaa9-02ad-417a-aa3b-85792d44ab47",
   "metadata": {},
   "outputs": [
    {
     "name": "stdout",
     "output_type": "stream",
     "text": [
      "Epoch 1/30\n",
      "\u001b[1m363/363\u001b[0m \u001b[32m━━━━━━━━━━━━━━━━━━━━\u001b[0m\u001b[37m\u001b[0m \u001b[1m6s\u001b[0m 9ms/step - RootMeanSquaredError: 1.1301 - RootMeanSquaredError_1: 1.0080 - loss: 2.2933 - mse_loss: 1.0159 - val_RootMeanSquaredError: 0.8668 - val_RootMeanSquaredError_1: 1.0162 - val_loss: 1.7840 - val_mse_loss: 1.0323\n",
      "Epoch 2/30\n",
      "\u001b[1m363/363\u001b[0m \u001b[32m━━━━━━━━━━━━━━━━━━━━\u001b[0m\u001b[37m\u001b[0m \u001b[1m2s\u001b[0m 6ms/step - RootMeanSquaredError: 0.7301 - RootMeanSquaredError_1: 0.7635 - loss: 1.1160 - mse_loss: 0.5829 - val_RootMeanSquaredError: 0.6603 - val_RootMeanSquaredError_1: 1.2110 - val_loss: 1.9025 - val_mse_loss: 1.4659\n",
      "Epoch 3/30\n",
      "\u001b[1m363/363\u001b[0m \u001b[32m━━━━━━━━━━━━━━━━━━━━\u001b[0m\u001b[37m\u001b[0m \u001b[1m2s\u001b[0m 6ms/step - RootMeanSquaredError: 0.6614 - RootMeanSquaredError_1: 0.7117 - loss: 0.9439 - mse_loss: 0.5065 - val_RootMeanSquaredError: 0.8617 - val_RootMeanSquaredError_1: 0.9303 - val_loss: 1.6079 - val_mse_loss: 0.8651\n",
      "Epoch 4/30\n",
      "\u001b[1m363/363\u001b[0m \u001b[32m━━━━━━━━━━━━━━━━━━━━\u001b[0m\u001b[37m\u001b[0m \u001b[1m2s\u001b[0m 6ms/step - RootMeanSquaredError: 0.6279 - RootMeanSquaredError_1: 0.6833 - loss: 0.8612 - mse_loss: 0.4669 - val_RootMeanSquaredError: 0.9963 - val_RootMeanSquaredError_1: 0.7320 - val_loss: 1.5284 - val_mse_loss: 0.5357\n",
      "Epoch 5/30\n",
      "\u001b[1m363/363\u001b[0m \u001b[32m━━━━━━━━━━━━━━━━━━━━\u001b[0m\u001b[37m\u001b[0m \u001b[1m2s\u001b[0m 6ms/step - RootMeanSquaredError: 0.6179 - RootMeanSquaredError_1: 0.6723 - loss: 0.8337 - mse_loss: 0.4519 - val_RootMeanSquaredError: 1.3867 - val_RootMeanSquaredError_1: 1.9988 - val_loss: 5.9183 - val_mse_loss: 3.9933\n",
      "Epoch 6/30\n",
      "\u001b[1m363/363\u001b[0m \u001b[32m━━━━━━━━━━━━━━━━━━━━\u001b[0m\u001b[37m\u001b[0m \u001b[1m2s\u001b[0m 6ms/step - RootMeanSquaredError: 0.6099 - RootMeanSquaredError_1: 0.6659 - loss: 0.8154 - mse_loss: 0.4435 - val_RootMeanSquaredError: 1.8837 - val_RootMeanSquaredError_1: 2.6454 - val_loss: 10.5466 - val_mse_loss: 6.9947\n",
      "Epoch 7/30\n",
      "\u001b[1m363/363\u001b[0m \u001b[32m━━━━━━━━━━━━━━━━━━━━\u001b[0m\u001b[37m\u001b[0m \u001b[1m2s\u001b[0m 6ms/step - RootMeanSquaredError: 0.6148 - RootMeanSquaredError_1: 0.6781 - loss: 0.8378 - mse_loss: 0.4598 - val_RootMeanSquaredError: 1.0397 - val_RootMeanSquaredError_1: 2.1307 - val_loss: 5.6206 - val_mse_loss: 4.5375\n",
      "Epoch 8/30\n",
      "\u001b[1m363/363\u001b[0m \u001b[32m━━━━━━━━━━━━━━━━━━━━\u001b[0m\u001b[37m\u001b[0m \u001b[1m2s\u001b[0m 6ms/step - RootMeanSquaredError: 0.5980 - RootMeanSquaredError_1: 0.6608 - loss: 0.7942 - mse_loss: 0.4367 - val_RootMeanSquaredError: 1.2144 - val_RootMeanSquaredError_1: 1.7144 - val_loss: 4.4139 - val_mse_loss: 2.9377\n",
      "Epoch 9/30\n",
      "\u001b[1m363/363\u001b[0m \u001b[32m━━━━━━━━━━━━━━━━━━━━\u001b[0m\u001b[37m\u001b[0m \u001b[1m2s\u001b[0m 6ms/step - RootMeanSquaredError: 0.5981 - RootMeanSquaredError_1: 0.6523 - loss: 0.7832 - mse_loss: 0.4256 - val_RootMeanSquaredError: 1.1403 - val_RootMeanSquaredError_1: 1.1545 - val_loss: 2.6332 - val_mse_loss: 1.3324\n",
      "Epoch 10/30\n",
      "\u001b[1m363/363\u001b[0m \u001b[32m━━━━━━━━━━━━━━━━━━━━\u001b[0m\u001b[37m\u001b[0m \u001b[1m2s\u001b[0m 6ms/step - RootMeanSquaredError: 0.5934 - RootMeanSquaredError_1: 0.6401 - loss: 0.7618 - mse_loss: 0.4097 - val_RootMeanSquaredError: 0.7127 - val_RootMeanSquaredError_1: 1.1984 - val_loss: 1.9441 - val_mse_loss: 1.4355\n",
      "Epoch 11/30\n",
      "\u001b[1m363/363\u001b[0m \u001b[32m━━━━━━━━━━━━━━━━━━━━\u001b[0m\u001b[37m\u001b[0m \u001b[1m2s\u001b[0m 6ms/step - RootMeanSquaredError: 0.5857 - RootMeanSquaredError_1: 0.6356 - loss: 0.7471 - mse_loss: 0.4041 - val_RootMeanSquaredError: 0.5729 - val_RootMeanSquaredError_1: 0.9310 - val_loss: 1.1949 - val_mse_loss: 0.8665\n",
      "Epoch 12/30\n",
      "\u001b[1m363/363\u001b[0m \u001b[32m━━━━━━━━━━━━━━━━━━━━\u001b[0m\u001b[37m\u001b[0m \u001b[1m2s\u001b[0m 6ms/step - RootMeanSquaredError: 0.5828 - RootMeanSquaredError_1: 0.6303 - loss: 0.7369 - mse_loss: 0.3973 - val_RootMeanSquaredError: 0.5985 - val_RootMeanSquaredError_1: 1.0525 - val_loss: 1.4659 - val_mse_loss: 1.1073\n",
      "Epoch 13/30\n",
      "\u001b[1m363/363\u001b[0m \u001b[32m━━━━━━━━━━━━━━━━━━━━\u001b[0m\u001b[37m\u001b[0m \u001b[1m2s\u001b[0m 6ms/step - RootMeanSquaredError: 0.5808 - RootMeanSquaredError_1: 0.6291 - loss: 0.7330 - mse_loss: 0.3958 - val_RootMeanSquaredError: 0.5671 - val_RootMeanSquaredError_1: 0.8994 - val_loss: 1.1305 - val_mse_loss: 0.8087\n",
      "Epoch 14/30\n",
      "\u001b[1m363/363\u001b[0m \u001b[32m━━━━━━━━━━━━━━━━━━━━\u001b[0m\u001b[37m\u001b[0m \u001b[1m2s\u001b[0m 6ms/step - RootMeanSquaredError: 0.5781 - RootMeanSquaredError_1: 0.6247 - loss: 0.7245 - mse_loss: 0.3904 - val_RootMeanSquaredError: 0.6054 - val_RootMeanSquaredError_1: 1.2460 - val_loss: 1.9190 - val_mse_loss: 1.5518\n",
      "Epoch 15/30\n",
      "\u001b[1m363/363\u001b[0m \u001b[32m━━━━━━━━━━━━━━━━━━━━\u001b[0m\u001b[37m\u001b[0m \u001b[1m2s\u001b[0m 6ms/step - RootMeanSquaredError: 0.5773 - RootMeanSquaredError_1: 0.6268 - loss: 0.7262 - mse_loss: 0.3929 - val_RootMeanSquaredError: 0.6547 - val_RootMeanSquaredError_1: 1.1741 - val_loss: 1.8071 - val_mse_loss: 1.3778\n",
      "Epoch 16/30\n",
      "\u001b[1m363/363\u001b[0m \u001b[32m━━━━━━━━━━━━━━━━━━━━\u001b[0m\u001b[37m\u001b[0m \u001b[1m2s\u001b[0m 6ms/step - RootMeanSquaredError: 0.5757 - RootMeanSquaredError_1: 0.6230 - loss: 0.7196 - mse_loss: 0.3882 - val_RootMeanSquaredError: 0.6583 - val_RootMeanSquaredError_1: 1.1455 - val_loss: 1.7454 - val_mse_loss: 1.3116\n",
      "Epoch 17/30\n",
      "\u001b[1m363/363\u001b[0m \u001b[32m━━━━━━━━━━━━━━━━━━━━\u001b[0m\u001b[37m\u001b[0m \u001b[1m2s\u001b[0m 6ms/step - RootMeanSquaredError: 0.5748 - RootMeanSquaredError_1: 0.6205 - loss: 0.7154 - mse_loss: 0.3851 - val_RootMeanSquaredError: 0.7212 - val_RootMeanSquaredError_1: 0.7767 - val_loss: 1.1234 - val_mse_loss: 0.6031\n",
      "Epoch 18/30\n",
      "\u001b[1m363/363\u001b[0m \u001b[32m━━━━━━━━━━━━━━━━━━━━\u001b[0m\u001b[37m\u001b[0m \u001b[1m3s\u001b[0m 6ms/step - RootMeanSquaredError: 0.5732 - RootMeanSquaredError_1: 0.6144 - loss: 0.7060 - mse_loss: 0.3776 - val_RootMeanSquaredError: 0.9657 - val_RootMeanSquaredError_1: 0.9818 - val_loss: 1.8965 - val_mse_loss: 0.9635\n",
      "Epoch 19/30\n",
      "\u001b[1m363/363\u001b[0m \u001b[32m━━━━━━━━━━━━━━━━━━━━\u001b[0m\u001b[37m\u001b[0m \u001b[1m2s\u001b[0m 6ms/step - RootMeanSquaredError: 0.5760 - RootMeanSquaredError_1: 0.6164 - loss: 0.7118 - mse_loss: 0.3801 - val_RootMeanSquaredError: 0.9489 - val_RootMeanSquaredError_1: 0.9453 - val_loss: 1.7941 - val_mse_loss: 0.8933\n",
      "Epoch 20/30\n",
      "\u001b[1m363/363\u001b[0m \u001b[32m━━━━━━━━━━━━━━━━━━━━\u001b[0m\u001b[37m\u001b[0m \u001b[1m2s\u001b[0m 6ms/step - RootMeanSquaredError: 0.5713 - RootMeanSquaredError_1: 0.6116 - loss: 0.7004 - mse_loss: 0.3741 - val_RootMeanSquaredError: 1.1312 - val_RootMeanSquaredError_1: 0.9085 - val_loss: 2.1049 - val_mse_loss: 0.8251\n",
      "Epoch 21/30\n",
      "\u001b[1m363/363\u001b[0m \u001b[32m━━━━━━━━━━━━━━━━━━━━\u001b[0m\u001b[37m\u001b[0m \u001b[1m3s\u001b[0m 6ms/step - RootMeanSquaredError: 0.5741 - RootMeanSquaredError_1: 0.6123 - loss: 0.7044 - mse_loss: 0.3749 - val_RootMeanSquaredError: 1.1404 - val_RootMeanSquaredError_1: 1.1138 - val_loss: 2.5411 - val_mse_loss: 1.2401\n",
      "Epoch 22/30\n",
      "\u001b[1m363/363\u001b[0m \u001b[32m━━━━━━━━━━━━━━━━━━━━\u001b[0m\u001b[37m\u001b[0m \u001b[1m2s\u001b[0m 6ms/step - RootMeanSquaredError: 0.5701 - RootMeanSquaredError_1: 0.6113 - loss: 0.6987 - mse_loss: 0.3738 - val_RootMeanSquaredError: 1.0682 - val_RootMeanSquaredError_1: 1.1993 - val_loss: 2.5794 - val_mse_loss: 1.4377\n",
      "Epoch 23/30\n",
      "\u001b[1m363/363\u001b[0m \u001b[32m━━━━━━━━━━━━━━━━━━━━\u001b[0m\u001b[37m\u001b[0m \u001b[1m2s\u001b[0m 6ms/step - RootMeanSquaredError: 0.5708 - RootMeanSquaredError_1: 0.6130 - loss: 0.7016 - mse_loss: 0.3758 - val_RootMeanSquaredError: 0.8874 - val_RootMeanSquaredError_1: 0.8775 - val_loss: 1.5575 - val_mse_loss: 0.7698\n",
      "Epoch 24/30\n",
      "\u001b[1m363/363\u001b[0m \u001b[32m━━━━━━━━━━━━━━━━━━━━\u001b[0m\u001b[37m\u001b[0m \u001b[1m2s\u001b[0m 6ms/step - RootMeanSquaredError: 0.5668 - RootMeanSquaredError_1: 0.6078 - loss: 0.6908 - mse_loss: 0.3695 - val_RootMeanSquaredError: 0.9593 - val_RootMeanSquaredError_1: 0.7740 - val_loss: 1.5193 - val_mse_loss: 0.5989\n",
      "Epoch 25/30\n",
      "\u001b[1m363/363\u001b[0m \u001b[32m━━━━━━━━━━━━━━━━━━━━\u001b[0m\u001b[37m\u001b[0m \u001b[1m3s\u001b[0m 6ms/step - RootMeanSquaredError: 0.5677 - RootMeanSquaredError_1: 0.6047 - loss: 0.6879 - mse_loss: 0.3657 - val_RootMeanSquaredError: 0.7464 - val_RootMeanSquaredError_1: 0.6041 - val_loss: 0.9221 - val_mse_loss: 0.3649\n",
      "Epoch 26/30\n",
      "\u001b[1m363/363\u001b[0m \u001b[32m━━━━━━━━━━━━━━━━━━━━\u001b[0m\u001b[37m\u001b[0m \u001b[1m2s\u001b[0m 6ms/step - RootMeanSquaredError: 0.5630 - RootMeanSquaredError_1: 0.6014 - loss: 0.6787 - mse_loss: 0.3618 - val_RootMeanSquaredError: 0.8145 - val_RootMeanSquaredError_1: 0.6262 - val_loss: 1.0555 - val_mse_loss: 0.3921\n",
      "Epoch 27/30\n",
      "\u001b[1m363/363\u001b[0m \u001b[32m━━━━━━━━━━━━━━━━━━━━\u001b[0m\u001b[37m\u001b[0m \u001b[1m2s\u001b[0m 6ms/step - RootMeanSquaredError: 0.5624 - RootMeanSquaredError_1: 0.6009 - loss: 0.6774 - mse_loss: 0.3612 - val_RootMeanSquaredError: 0.6809 - val_RootMeanSquaredError_1: 0.5909 - val_loss: 0.8128 - val_mse_loss: 0.3492\n",
      "Epoch 28/30\n",
      "\u001b[1m363/363\u001b[0m \u001b[32m━━━━━━━━━━━━━━━━━━━━\u001b[0m\u001b[37m\u001b[0m \u001b[1m2s\u001b[0m 6ms/step - RootMeanSquaredError: 0.5597 - RootMeanSquaredError_1: 0.5987 - loss: 0.6717 - mse_loss: 0.3586 - val_RootMeanSquaredError: 0.6405 - val_RootMeanSquaredError_1: 0.6499 - val_loss: 0.8326 - val_mse_loss: 0.4223\n",
      "Epoch 29/30\n",
      "\u001b[1m363/363\u001b[0m \u001b[32m━━━━━━━━━━━━━━━━━━━━\u001b[0m\u001b[37m\u001b[0m \u001b[1m2s\u001b[0m 6ms/step - RootMeanSquaredError: 0.5589 - RootMeanSquaredError_1: 0.5984 - loss: 0.6705 - mse_loss: 0.3582 - val_RootMeanSquaredError: 0.6580 - val_RootMeanSquaredError_1: 0.6293 - val_loss: 0.8290 - val_mse_loss: 0.3959\n",
      "Epoch 30/30\n",
      "\u001b[1m363/363\u001b[0m \u001b[32m━━━━━━━━━━━━━━━━━━━━\u001b[0m\u001b[37m\u001b[0m \u001b[1m2s\u001b[0m 6ms/step - RootMeanSquaredError: 0.5576 - RootMeanSquaredError_1: 0.5963 - loss: 0.6665 - mse_loss: 0.3556 - val_RootMeanSquaredError: 0.6438 - val_RootMeanSquaredError_1: 0.7603 - val_loss: 0.9926 - val_mse_loss: 0.5779\n"
     ]
    }
   ],
   "source": [
    "model = WideAndDeepModel(30, activation=\"relu\")\n",
    "model.norm_layer_wide.adapt(X_train_wide)\n",
    "model.norm_layer_deep.adapt(X_train_deep)\n",
    "model.compile(loss=[\"mse\", \"mse\"],\n",
    "              optimizer=tf.keras.optimizers.Adam(learning_rate=2e-3),\n",
    "              metrics=[\"RootMeanSquaredError\", \"RootMeanSquaredError\"])\n",
    "tensorboard_cb2 = tf.keras.callbacks.TensorBoard(get_run_logdir(),\n",
    "                                                profile_batch=(100,200))\n",
    "history = model.fit((X_train_wide, X_train_deep), (y_train, y_train),\n",
    "          validation_data=((X_valid_wide, X_valid_deep), (y_valid, y_valid)),\n",
    "          epochs=30, callbacks=[tensorboard_cb2])"
   ]
  },
  {
   "cell_type": "markdown",
   "id": "a3fb643b-1965-4deb-93c7-755e21a964c2",
   "metadata": {},
   "source": [
    "to run in jupyter:\n",
    "1. %load_ext tensorboard\n",
    "2. %tensorboard --logdir=./my_logs\n",
    "\n",
    "To start TensorBoard from a terminal:\n",
    "1. tensorboard --logdir=./my_logs"
   ]
  },
  {
   "cell_type": "markdown",
   "id": "02674d7d-4135-4eaa-b0e1-1b461ad1ac0c",
   "metadata": {},
   "source": [
    "Additionally, TensorFlow offers a lower-level API in the tf.summary\n",
    "package. The following code creates a SummaryWriter using the\n",
    "create_file_writer() function, and it uses this writer as a Python\n",
    "context to log scalars, histograms, images, audio, and text, all of which can\n",
    "then be visualized using TensorBoard:"
   ]
  },
  {
   "cell_type": "code",
   "execution_count": 57,
   "id": "d9c52a0d-0838-48e8-b0f1-07f2d32d8204",
   "metadata": {},
   "outputs": [],
   "source": [
    "test_logdir = get_run_logdir()\n",
    "writer = tf.summary.create_file_writer(str(test_logdir))\n",
    "with writer.as_default():\n",
    "    for step in range(1, 1000 + 1):\n",
    "        tf.summary.scalar(\"my_scalar\", np.sin(step / 10), step=step)\n",
    "\n",
    "        data = (np.random.default_rng(seed=42).standard_normal(100) + 2) * step / 100\n",
    "        tf.summary.histogram(\"my_hist\", data, buckets=50, step=step)\n",
    "\n",
    "        images = np.random.default_rng(seed=42).random((2, 32, 32, 3)) * step / 1000\n",
    "        tf.summary.image(\"my_images\", images, step=step)\n",
    "\n",
    "        texts = [\"The step is \" + str(step), \"Its square is \" + str(step ** 2)]\n",
    "        tf.summary.text(\"my_text\", texts, step=step)\n",
    "\n",
    "        sine_wave = tf.math.sin(tf.range(12000) / 48000 * 2 * np.pi * step)\n",
    "        audio = tf.reshape(tf.cast(sine_wave, tf.float32), [1, -1, 1])\n",
    "        tf.summary.audio(\"my_audio\", audio, sample_rate=48000, step=step)"
   ]
  },
  {
   "cell_type": "markdown",
   "id": "232ae0b3-d0d5-4270-a47a-103a9cb2cb80",
   "metadata": {},
   "source": [
    "## Fine-Tuning Neural Network Hyperparameters"
   ]
  },
  {
   "cell_type": "code",
   "execution_count": null,
   "id": "d571c64f-6746-47b3-a42d-16589b8d5233",
   "metadata": {},
   "outputs": [],
   "source": [
    "tf.keras.backend.clear_session()\n",
    "tf.random.set_seed(42)"
   ]
  },
  {
   "cell_type": "markdown",
   "id": "77109256-4a1c-4d6b-8f71-645775ee925e",
   "metadata": {},
   "source": [
    "Classify Fashion MNIST images"
   ]
  },
  {
   "cell_type": "code",
   "execution_count": 60,
   "id": "36482952-d3ec-44c3-98a2-acfda159b625",
   "metadata": {},
   "outputs": [],
   "source": [
    "fashion_mnist = tf.keras.datasets.fashion_mnist.load_data()\n",
    "(X_train_full, y_train_full), (X_test, y_test) = fashion_mnist\n",
    "X_train, y_train = X_train_full[:-5000], y_train_full[:-5000]\n",
    "X_valid, y_valid = X_train_full[-5000:], y_train_full[-5000:]"
   ]
  },
  {
   "cell_type": "code",
   "execution_count": 59,
   "id": "403660c3-cfb1-45c6-bac6-0072691652c1",
   "metadata": {},
   "outputs": [],
   "source": [
    "import keras_tuner as kt\n",
    "\n",
    "def build_model(hp):\n",
    "    n_hidden = hp.Int(\"n_hidden\", min_value=0, max_value=8, default=2)\n",
    "    n_neurons = hp.Int(\"n_neurons\", min_value=16, max_value=256)\n",
    "    learning_rate = hp.Float(\"learning_rate\", min_value=1e-4, max_value=1e-2,\n",
    "                             sampling=\"log\")\n",
    "    optimizer = hp.Choice(\"optimizer\", values=[\"sgd\", \"adam\"])\n",
    "    if optimizer == \"sgd\":\n",
    "        optimizer = tf.keras.optimizers.SGD(learning_rate=learning_rate)\n",
    "    else:\n",
    "        optimizer = tf.keras.optimizers.Adam(learning_rate=learning_rate)\n",
    "    \n",
    "    model = tf.keras.Sequential()\n",
    "    model.add(tf.keras.layers.Flatten())\n",
    "    for _ in range(n_hidden):\n",
    "        model.add(tf.keras.layers.Dense(n_neurons, activation=\"relu\"))\n",
    "    model.add(tf.keras.layers.Dense(10, activation=\"softmax\"))\n",
    "    model.compile(loss=\"sparse_categorical_crossentropy\", optimizer=optimizer,\n",
    "                  metrics=[\"accuracy\"])\n",
    "    return model"
   ]
  },
  {
   "cell_type": "markdown",
   "id": "64a6c619-8f93-421a-b314-2108814779c9",
   "metadata": {},
   "source": [
    "Now if you want to do a basic random search, you can create a\n",
    "kt.RandomSearch tuner, passing the build_model function to the\n",
    "constructor, and call the tuner’s search() method:"
   ]
  },
  {
   "cell_type": "code",
   "execution_count": 62,
   "id": "6cc130d4-b4f2-4c0d-852d-e742a4f89a7c",
   "metadata": {},
   "outputs": [
    {
     "name": "stdout",
     "output_type": "stream",
     "text": [
      "Trial 5 Complete [00h 01m 21s]\n",
      "val_accuracy: 0.8366000056266785\n",
      "\n",
      "Best val_accuracy So Far: 0.8532000184059143\n",
      "Total elapsed time: 00h 06m 48s\n"
     ]
    }
   ],
   "source": [
    "random_search_tuner = kt.RandomSearch(\n",
    "    build_model, objective=\"val_accuracy\", max_trials=5, overwrite=True,\n",
    "    directory=\"my_fashion_mnist\", project_name=\"my_rnd_search\", seed=42)\n",
    "random_search_tuner.search(X_train, y_train, epochs=10,\n",
    "                           validation_data=(X_valid, y_valid))"
   ]
  },
  {
   "cell_type": "markdown",
   "id": "0ce44496-2054-45c2-858b-0c1a173760e3",
   "metadata": {},
   "source": [
    "You can get the best models like this:"
   ]
  },
  {
   "cell_type": "code",
   "execution_count": 63,
   "id": "fadb89e9-3330-474a-8878-954810f4c040",
   "metadata": {},
   "outputs": [],
   "source": [
    "top3_models = random_search_tuner.get_best_models(num_models=3)\n",
    "best_model = top3_models[0]"
   ]
  },
  {
   "cell_type": "markdown",
   "id": "23ffe866-32a0-4dc0-8461-1f5fbe742ef4",
   "metadata": {},
   "source": [
    "Call get_best_hyperparameters() to get the kt.HyperParameters of the best models:"
   ]
  },
  {
   "cell_type": "code",
   "execution_count": 64,
   "id": "f375cf06-4826-4173-96f5-39155bf65279",
   "metadata": {},
   "outputs": [
    {
     "data": {
      "text/plain": [
       "{'n_hidden': 7,\n",
       " 'n_neurons': 100,\n",
       " 'learning_rate': 0.0012482904754698163,\n",
       " 'optimizer': 'sgd'}"
      ]
     },
     "execution_count": 64,
     "metadata": {},
     "output_type": "execute_result"
    }
   ],
   "source": [
    "top3_params = random_search_tuner.get_best_hyperparameters(num_trials=3)\n",
    "top3_params[0].values # best hyperparameters values"
   ]
  },
  {
   "cell_type": "markdown",
   "id": "7f4935b9-b28f-495b-b1b6-8c5b14bf4c00",
   "metadata": {},
   "source": [
    "Each tuner is guided by a so-called oracle: before each trial, the tuner asks\n",
    "the oracle to tell it what the next trial should be. The RandomSearch tuner\n",
    "uses a RandomSearchOracle, which is pretty basic: it just picks the next\n",
    "trial randomly, as we saw earlier. Since the oracle keeps track of all the\n",
    "trials, you can ask it to give you the best one, and you can display a\n",
    "summary of that trial:"
   ]
  },
  {
   "cell_type": "code",
   "execution_count": 66,
   "id": "a01d8aa5-907d-4f18-a7f5-491f0e98a35e",
   "metadata": {},
   "outputs": [
    {
     "name": "stdout",
     "output_type": "stream",
     "text": [
      "Trial 1 summary\n",
      "Hyperparameters:\n",
      "n_hidden: 7\n",
      "n_neurons: 100\n",
      "learning_rate: 0.0012482904754698163\n",
      "optimizer: sgd\n",
      "Score: 0.8532000184059143\n"
     ]
    }
   ],
   "source": [
    "best_trial = random_search_tuner.oracle.get_best_trials(num_trials=1)[0]\n",
    "best_trial.summary()"
   ]
  },
  {
   "cell_type": "markdown",
   "id": "366fb912-89b6-4e27-a0fc-755188c7ae23",
   "metadata": {},
   "source": [
    "If you are happy with the best model’s performance, you may continue\n",
    "training it for a few epochs on the full training set (X_train_full and\n",
    "y_train_full), then evaluate it on the test set"
   ]
  },
  {
   "cell_type": "code",
   "execution_count": 67,
   "id": "25f728e1-be34-4dc5-bbcc-bde4e4526c55",
   "metadata": {},
   "outputs": [
    {
     "name": "stdout",
     "output_type": "stream",
     "text": [
      "Epoch 1/10\n",
      "\u001b[1m1875/1875\u001b[0m \u001b[32m━━━━━━━━━━━━━━━━━━━━\u001b[0m\u001b[37m\u001b[0m \u001b[1m10s\u001b[0m 5ms/step - accuracy: 0.8755 - loss: 0.3334\n",
      "Epoch 2/10\n",
      "\u001b[1m1875/1875\u001b[0m \u001b[32m━━━━━━━━━━━━━━━━━━━━\u001b[0m\u001b[37m\u001b[0m \u001b[1m9s\u001b[0m 5ms/step - accuracy: 0.8807 - loss: 0.3200\n",
      "Epoch 3/10\n",
      "\u001b[1m1875/1875\u001b[0m \u001b[32m━━━━━━━━━━━━━━━━━━━━\u001b[0m\u001b[37m\u001b[0m \u001b[1m9s\u001b[0m 5ms/step - accuracy: 0.8856 - loss: 0.3096\n",
      "Epoch 4/10\n",
      "\u001b[1m1875/1875\u001b[0m \u001b[32m━━━━━━━━━━━━━━━━━━━━\u001b[0m\u001b[37m\u001b[0m \u001b[1m10s\u001b[0m 5ms/step - accuracy: 0.8886 - loss: 0.3006\n",
      "Epoch 5/10\n",
      "\u001b[1m1875/1875\u001b[0m \u001b[32m━━━━━━━━━━━━━━━━━━━━\u001b[0m\u001b[37m\u001b[0m \u001b[1m9s\u001b[0m 5ms/step - accuracy: 0.8916 - loss: 0.2923\n",
      "Epoch 6/10\n",
      "\u001b[1m1875/1875\u001b[0m \u001b[32m━━━━━━━━━━━━━━━━━━━━\u001b[0m\u001b[37m\u001b[0m \u001b[1m9s\u001b[0m 5ms/step - accuracy: 0.8946 - loss: 0.2853\n",
      "Epoch 7/10\n",
      "\u001b[1m1875/1875\u001b[0m \u001b[32m━━━━━━━━━━━━━━━━━━━━\u001b[0m\u001b[37m\u001b[0m \u001b[1m9s\u001b[0m 5ms/step - accuracy: 0.8969 - loss: 0.2778\n",
      "Epoch 8/10\n",
      "\u001b[1m1875/1875\u001b[0m \u001b[32m━━━━━━━━━━━━━━━━━━━━\u001b[0m\u001b[37m\u001b[0m \u001b[1m9s\u001b[0m 5ms/step - accuracy: 0.8990 - loss: 0.2713\n",
      "Epoch 9/10\n",
      "\u001b[1m1875/1875\u001b[0m \u001b[32m━━━━━━━━━━━━━━━━━━━━\u001b[0m\u001b[37m\u001b[0m \u001b[1m9s\u001b[0m 5ms/step - accuracy: 0.9005 - loss: 0.2656\n",
      "Epoch 10/10\n",
      "\u001b[1m1875/1875\u001b[0m \u001b[32m━━━━━━━━━━━━━━━━━━━━\u001b[0m\u001b[37m\u001b[0m \u001b[1m9s\u001b[0m 5ms/step - accuracy: 0.9021 - loss: 0.2601\n",
      "\u001b[1m313/313\u001b[0m \u001b[32m━━━━━━━━━━━━━━━━━━━━\u001b[0m\u001b[37m\u001b[0m \u001b[1m2s\u001b[0m 4ms/step - accuracy: 0.8531 - loss: 0.4235\n"
     ]
    }
   ],
   "source": [
    "best_model.fit(X_train_full, y_train_full, epochs=10)\n",
    "test_loss, test_accuracy = best_model.evaluate(X_test, y_test)"
   ]
  },
  {
   "cell_type": "code",
   "execution_count": 68,
   "id": "79777d80-f264-4878-a8e4-0bb510b491ec",
   "metadata": {},
   "outputs": [
    {
     "name": "stdout",
     "output_type": "stream",
     "text": [
      "0.4235197901725769 0.8531000018119812\n"
     ]
    }
   ],
   "source": [
    "print(test_loss, test_accuracy)"
   ]
  },
  {
   "cell_type": "markdown",
   "id": "2c9087b2-72b0-44be-bfd9-c3cd6904250f",
   "metadata": {},
   "source": [
    "In some cases, you may want to fine-tune data preprocessing\n",
    "hyperparameters, or model.fit() arguments, such as the batch size. For\n",
    "this, you must use a slightly different technique: instead of writing a\n",
    "build_model() function, you must subclass the kt.HyperModel class and\n",
    "define two methods, build() and fit(). The build() method does the\n",
    "exact same thing as the build_model() function. The fit() method takes\n",
    "a HyperParameters object and a compiled model as an argument, as well\n",
    "as all the model.fit() arguments, and fits the model and returns the\n",
    "History object. Crucially, the fit() method may use hyperparameters to\n",
    "decide how to preprocess the data, tweak the batch size, and more. For\n",
    "example, the following class builds the same model as before, with the\n",
    "same hyperparameters, but it also uses a Boolean \"normalize\"\n",
    "hyperparameter to control whether or not to standardize the training data\n",
    "before fitting the model:"
   ]
  },
  {
   "cell_type": "code",
   "execution_count": 69,
   "id": "c80f5831-4090-4d1f-8f75-15e7055088cc",
   "metadata": {},
   "outputs": [],
   "source": [
    "class MyClassificationHyperModel(kt.HyperModel):\n",
    "    def build(self, hp):\n",
    "        return build_model(hp)\n",
    "\n",
    "    def fit(self, hp, model, X, y, **kwargs):\n",
    "        if hp.Boolean(\"normalize\"):\n",
    "            norm_layer = tf.keras.layers.Normalization()\n",
    "            X = norm_layer(X)\n",
    "        return model.fit(X, y, **kwargs) "
   ]
  },
  {
   "cell_type": "markdown",
   "id": "e728df59-c48c-4182-9669-8d348c6baef3",
   "metadata": {},
   "source": [
    "In some cases, you may want to fine-tune data preprocessing\n",
    "hyperparameters, or model.fit() arguments, such as the batch size. For\n",
    "this, you must use a slightly different technique: instead of writing a\n",
    "build_model() function, you must subclass the kt.HyperModel class and\n",
    "define two methods, build() and fit(). The build() method does the\n",
    "exact same thing as the build_model() function. The fit() method takes\n",
    "a HyperParameters object and a compiled model as an argument, as well\n",
    "as all the model.fit() arguments, and fits the model and returns the\n",
    "History object. Crucially, the fit() method may use hyperparameters to\n",
    "decide how to preprocess the data, tweak the batch size, and more. For\n",
    "example, the following class builds the same model as before, with the\n",
    "same hyperparameters, but it also uses a Boolean \"normalize\"\n",
    "hyperparameter to control whether or not to standardize the training data\n",
    "before fitting the model. Also, using the TensorBoard callback,\n",
    "this time pointing to the root log directory (the tuner will take care of using\n",
    "a different subdirectory for each trial), as well as an EarlyStopping\n",
    "callback:"
   ]
  },
  {
   "cell_type": "code",
   "execution_count": 70,
   "id": "310c71a4-c1f9-41d8-8b79-90143a43477e",
   "metadata": {},
   "outputs": [],
   "source": [
    "hyperband_tuner = kt.Hyperband(\n",
    "    MyClassificationHyperModel(), objective=\"val_accuracy\", seed=42,\n",
    "    max_epochs=10, factor=3, hyperband_iterations=2,\n",
    "    overwrite=True, directory=\"my_fashion_mnist\", project_name=\"hyperband\")"
   ]
  },
  {
   "cell_type": "code",
   "execution_count": 71,
   "id": "7b5710da-4fb3-487c-9966-e3cec2124be0",
   "metadata": {},
   "outputs": [
    {
     "name": "stdout",
     "output_type": "stream",
     "text": [
      "Trial 60 Complete [00h 01m 34s]\n",
      "val_accuracy: 0.8345999717712402\n",
      "\n",
      "Best val_accuracy So Far: 0.875\n",
      "Total elapsed time: 00h 42m 24s\n"
     ]
    }
   ],
   "source": [
    "root_logdir = Path(hyperband_tuner.project_dir) / \"tensorboard\"\n",
    "tensorboard_cb = tf.keras.callbacks.TensorBoard(root_logdir)\n",
    "early_stopping_cb = tf.keras.callbacks.EarlyStopping(patience=2)\n",
    "hyperband_tuner.search(X_train, y_train, epochs=10,\n",
    "                       validation_data=(X_valid, y_valid),\n",
    "                       callbacks=[early_stopping_cb, tensorboard_cb])"
   ]
  },
  {
   "cell_type": "markdown",
   "id": "095563cb-79a3-456c-b86c-b5340f5a426b",
   "metadata": {},
   "source": [
    "Doing Bayesian Optimization search:"
   ]
  },
  {
   "cell_type": "code",
   "execution_count": 76,
   "id": "4b59c9c0-b205-44a2-b12b-6d4fdec627ff",
   "metadata": {},
   "outputs": [
    {
     "name": "stdout",
     "output_type": "stream",
     "text": [
      "Trial 10 Complete [00h 00m 42s]\n",
      "val_accuracy: 0.8238000273704529\n",
      "\n",
      "Best val_accuracy So Far: 0.8424000144004822\n",
      "Total elapsed time: 00h 06m 42s\n"
     ]
    }
   ],
   "source": [
    "bayesian_opt_tuner = kt.BayesianOptimization(\n",
    "    MyClassificationHyperModel(), objective=\"val_accuracy\", seed=42,\n",
    "    max_trials=10, alpha=1e-4, beta=2.6,\n",
    "    overwrite=True, directory=\"my_fashion_mnist\", project_name=\"bayesian_opt\")\n",
    "\n",
    "bayesian_opt_tuner.search(X_train, y_train, epochs=5,\n",
    "                          validation_data=(X_valid, y_valid),\n",
    "                          callbacks=[early_stopping_cb])"
   ]
  }
 ],
 "metadata": {
  "kernelspec": {
   "display_name": "Python 3 (ipykernel)",
   "language": "python",
   "name": "python3"
  },
  "language_info": {
   "codemirror_mode": {
    "name": "ipython",
    "version": 3
   },
   "file_extension": ".py",
   "mimetype": "text/x-python",
   "name": "python",
   "nbconvert_exporter": "python",
   "pygments_lexer": "ipython3",
   "version": "3.12.1"
  }
 },
 "nbformat": 4,
 "nbformat_minor": 5
}
