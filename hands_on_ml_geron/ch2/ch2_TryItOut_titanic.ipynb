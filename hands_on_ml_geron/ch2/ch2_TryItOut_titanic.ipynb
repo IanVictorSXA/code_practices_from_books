{
 "cells": [
  {
   "cell_type": "markdown",
   "id": "787e4903-484f-49ad-89aa-dec45c29d025",
   "metadata": {},
   "source": [
    "After reading chapter 2 of book I reached the Try it out section of the book. I am to pick any dataset I want and use it to practice the data science cycle taught by this chapter.\n",
    "I chose kaggle titanic dataset. The goal is to \"use machine learning to create a model that predicts which passengers survived the Titanic shipwreck.\""
   ]
  },
  {
   "cell_type": "code",
   "execution_count": 2,
   "id": "c73ad714-4e7e-4e06-8de5-abdb0518d280",
   "metadata": {},
   "outputs": [],
   "source": [
    "import kaggle\n",
    "from pathlib import Path\n",
    "from zipfile import ZipFile\n",
    "import pandas as pd\n",
    "import numpy as np"
   ]
  },
  {
   "cell_type": "code",
   "execution_count": 3,
   "id": "52bd5a2a-dd41-447f-b13c-d5abf942d10e",
   "metadata": {},
   "outputs": [],
   "source": [
    "def load_titanic_train_test_set():\n",
    "    if not Path(\"datasets/titanic\").is_dir():\n",
    "        Path(\"datasets\").mkdir(exist_ok=True)\n",
    "        kaggle.api.authenticate()\n",
    "        kaggle.api.competition_download_files(\"titanic\", path=\"./datasets\", force=False, quiet=True)\n",
    "    \n",
    "        with ZipFile(\"datasets/titanic.zip\", 'r') as titanic_zip:\n",
    "            titanic_zip.extractall(\"datasets/titanic\")\n",
    "    \n",
    "    return pd.read_csv(\"datasets/titanic/train.csv\", index_col=\"PassengerId\"), pd.read_csv(\"datasets/titanic/test.csv\",index_col=\"PassengerId\")\n"
   ]
  },
  {
   "cell_type": "code",
   "execution_count": 4,
   "id": "00611ceb-a17f-4f78-a128-b89a1eee3c6b",
   "metadata": {},
   "outputs": [
    {
     "name": "stdout",
     "output_type": "stream",
     "text": [
      "Train shape: (891, 11)\n",
      "Test shape: (418, 10)\n"
     ]
    }
   ],
   "source": [
    "train, test = load_titanic_train_test_set()\n",
    "\n",
    "print(\"Train shape:\", train.shape)\n",
    "print(\"Test shape:\", test.shape)"
   ]
  },
  {
   "cell_type": "markdown",
   "id": "918134c5-9d42-43a8-a344-6fd42945a1df",
   "metadata": {},
   "source": [
    "## Explore Data"
   ]
  },
  {
   "cell_type": "code",
   "execution_count": 5,
   "id": "cf1b4357-385e-4563-97b5-3a475d6683a6",
   "metadata": {},
   "outputs": [
    {
     "data": {
      "text/html": [
       "<div>\n",
       "<style scoped>\n",
       "    .dataframe tbody tr th:only-of-type {\n",
       "        vertical-align: middle;\n",
       "    }\n",
       "\n",
       "    .dataframe tbody tr th {\n",
       "        vertical-align: top;\n",
       "    }\n",
       "\n",
       "    .dataframe thead th {\n",
       "        text-align: right;\n",
       "    }\n",
       "</style>\n",
       "<table border=\"1\" class=\"dataframe\">\n",
       "  <thead>\n",
       "    <tr style=\"text-align: right;\">\n",
       "      <th></th>\n",
       "      <th>Survived</th>\n",
       "      <th>Pclass</th>\n",
       "      <th>Name</th>\n",
       "      <th>Sex</th>\n",
       "      <th>Age</th>\n",
       "      <th>SibSp</th>\n",
       "      <th>Parch</th>\n",
       "      <th>Ticket</th>\n",
       "      <th>Fare</th>\n",
       "      <th>Cabin</th>\n",
       "      <th>Embarked</th>\n",
       "    </tr>\n",
       "    <tr>\n",
       "      <th>PassengerId</th>\n",
       "      <th></th>\n",
       "      <th></th>\n",
       "      <th></th>\n",
       "      <th></th>\n",
       "      <th></th>\n",
       "      <th></th>\n",
       "      <th></th>\n",
       "      <th></th>\n",
       "      <th></th>\n",
       "      <th></th>\n",
       "      <th></th>\n",
       "    </tr>\n",
       "  </thead>\n",
       "  <tbody>\n",
       "    <tr>\n",
       "      <th>1</th>\n",
       "      <td>0</td>\n",
       "      <td>3</td>\n",
       "      <td>Braund, Mr. Owen Harris</td>\n",
       "      <td>male</td>\n",
       "      <td>22.0</td>\n",
       "      <td>1</td>\n",
       "      <td>0</td>\n",
       "      <td>A/5 21171</td>\n",
       "      <td>7.2500</td>\n",
       "      <td>NaN</td>\n",
       "      <td>S</td>\n",
       "    </tr>\n",
       "    <tr>\n",
       "      <th>2</th>\n",
       "      <td>1</td>\n",
       "      <td>1</td>\n",
       "      <td>Cumings, Mrs. John Bradley (Florence Briggs Th...</td>\n",
       "      <td>female</td>\n",
       "      <td>38.0</td>\n",
       "      <td>1</td>\n",
       "      <td>0</td>\n",
       "      <td>PC 17599</td>\n",
       "      <td>71.2833</td>\n",
       "      <td>C85</td>\n",
       "      <td>C</td>\n",
       "    </tr>\n",
       "    <tr>\n",
       "      <th>3</th>\n",
       "      <td>1</td>\n",
       "      <td>3</td>\n",
       "      <td>Heikkinen, Miss. Laina</td>\n",
       "      <td>female</td>\n",
       "      <td>26.0</td>\n",
       "      <td>0</td>\n",
       "      <td>0</td>\n",
       "      <td>STON/O2. 3101282</td>\n",
       "      <td>7.9250</td>\n",
       "      <td>NaN</td>\n",
       "      <td>S</td>\n",
       "    </tr>\n",
       "    <tr>\n",
       "      <th>4</th>\n",
       "      <td>1</td>\n",
       "      <td>1</td>\n",
       "      <td>Futrelle, Mrs. Jacques Heath (Lily May Peel)</td>\n",
       "      <td>female</td>\n",
       "      <td>35.0</td>\n",
       "      <td>1</td>\n",
       "      <td>0</td>\n",
       "      <td>113803</td>\n",
       "      <td>53.1000</td>\n",
       "      <td>C123</td>\n",
       "      <td>S</td>\n",
       "    </tr>\n",
       "    <tr>\n",
       "      <th>5</th>\n",
       "      <td>0</td>\n",
       "      <td>3</td>\n",
       "      <td>Allen, Mr. William Henry</td>\n",
       "      <td>male</td>\n",
       "      <td>35.0</td>\n",
       "      <td>0</td>\n",
       "      <td>0</td>\n",
       "      <td>373450</td>\n",
       "      <td>8.0500</td>\n",
       "      <td>NaN</td>\n",
       "      <td>S</td>\n",
       "    </tr>\n",
       "  </tbody>\n",
       "</table>\n",
       "</div>"
      ],
      "text/plain": [
       "             Survived  Pclass  \\\n",
       "PassengerId                     \n",
       "1                   0       3   \n",
       "2                   1       1   \n",
       "3                   1       3   \n",
       "4                   1       1   \n",
       "5                   0       3   \n",
       "\n",
       "                                                          Name     Sex   Age  \\\n",
       "PassengerId                                                                    \n",
       "1                                      Braund, Mr. Owen Harris    male  22.0   \n",
       "2            Cumings, Mrs. John Bradley (Florence Briggs Th...  female  38.0   \n",
       "3                                       Heikkinen, Miss. Laina  female  26.0   \n",
       "4                 Futrelle, Mrs. Jacques Heath (Lily May Peel)  female  35.0   \n",
       "5                                     Allen, Mr. William Henry    male  35.0   \n",
       "\n",
       "             SibSp  Parch            Ticket     Fare Cabin Embarked  \n",
       "PassengerId                                                          \n",
       "1                1      0         A/5 21171   7.2500   NaN        S  \n",
       "2                1      0          PC 17599  71.2833   C85        C  \n",
       "3                0      0  STON/O2. 3101282   7.9250   NaN        S  \n",
       "4                1      0            113803  53.1000  C123        S  \n",
       "5                0      0            373450   8.0500   NaN        S  "
      ]
     },
     "execution_count": 5,
     "metadata": {},
     "output_type": "execute_result"
    }
   ],
   "source": [
    "train.head()"
   ]
  },
  {
   "cell_type": "code",
   "execution_count": 6,
   "id": "008b86c1-7349-498a-8156-0fc5ff7e0941",
   "metadata": {},
   "outputs": [
    {
     "name": "stdout",
     "output_type": "stream",
     "text": [
      "<class 'pandas.core.frame.DataFrame'>\n",
      "Index: 891 entries, 1 to 891\n",
      "Data columns (total 11 columns):\n",
      " #   Column    Non-Null Count  Dtype  \n",
      "---  ------    --------------  -----  \n",
      " 0   Survived  891 non-null    int64  \n",
      " 1   Pclass    891 non-null    int64  \n",
      " 2   Name      891 non-null    object \n",
      " 3   Sex       891 non-null    object \n",
      " 4   Age       714 non-null    float64\n",
      " 5   SibSp     891 non-null    int64  \n",
      " 6   Parch     891 non-null    int64  \n",
      " 7   Ticket    891 non-null    object \n",
      " 8   Fare      891 non-null    float64\n",
      " 9   Cabin     204 non-null    object \n",
      " 10  Embarked  889 non-null    object \n",
      "dtypes: float64(2), int64(4), object(5)\n",
      "memory usage: 83.5+ KB\n"
     ]
    }
   ],
   "source": [
    "train.info()"
   ]
  },
  {
   "cell_type": "markdown",
   "id": "d89a759f-c810-4c6e-86fa-9886c86b8b79",
   "metadata": {},
   "source": [
    "    Convert sex to a binary type column\n",
    "    Age has missing values\n",
    "    cabin has a lot of missing values, see correlation with survived\n",
    "    find out what is relevant in name and ticket (if they are relevant)\n",
    "    "
   ]
  },
  {
   "cell_type": "code",
   "execution_count": 7,
   "id": "1dc6f7bd-e88e-4af7-8179-df38ce63e407",
   "metadata": {
    "scrolled": true
   },
   "outputs": [
    {
     "data": {
      "text/html": [
       "<div>\n",
       "<style scoped>\n",
       "    .dataframe tbody tr th:only-of-type {\n",
       "        vertical-align: middle;\n",
       "    }\n",
       "\n",
       "    .dataframe tbody tr th {\n",
       "        vertical-align: top;\n",
       "    }\n",
       "\n",
       "    .dataframe thead th {\n",
       "        text-align: right;\n",
       "    }\n",
       "</style>\n",
       "<table border=\"1\" class=\"dataframe\">\n",
       "  <thead>\n",
       "    <tr style=\"text-align: right;\">\n",
       "      <th></th>\n",
       "      <th>Survived</th>\n",
       "      <th>Pclass</th>\n",
       "      <th>Age</th>\n",
       "      <th>SibSp</th>\n",
       "      <th>Parch</th>\n",
       "      <th>Fare</th>\n",
       "    </tr>\n",
       "  </thead>\n",
       "  <tbody>\n",
       "    <tr>\n",
       "      <th>count</th>\n",
       "      <td>891.000000</td>\n",
       "      <td>891.000000</td>\n",
       "      <td>714.000000</td>\n",
       "      <td>891.000000</td>\n",
       "      <td>891.000000</td>\n",
       "      <td>891.000000</td>\n",
       "    </tr>\n",
       "    <tr>\n",
       "      <th>mean</th>\n",
       "      <td>0.383838</td>\n",
       "      <td>2.308642</td>\n",
       "      <td>29.699118</td>\n",
       "      <td>0.523008</td>\n",
       "      <td>0.381594</td>\n",
       "      <td>32.204208</td>\n",
       "    </tr>\n",
       "    <tr>\n",
       "      <th>std</th>\n",
       "      <td>0.486592</td>\n",
       "      <td>0.836071</td>\n",
       "      <td>14.526497</td>\n",
       "      <td>1.102743</td>\n",
       "      <td>0.806057</td>\n",
       "      <td>49.693429</td>\n",
       "    </tr>\n",
       "    <tr>\n",
       "      <th>min</th>\n",
       "      <td>0.000000</td>\n",
       "      <td>1.000000</td>\n",
       "      <td>0.420000</td>\n",
       "      <td>0.000000</td>\n",
       "      <td>0.000000</td>\n",
       "      <td>0.000000</td>\n",
       "    </tr>\n",
       "    <tr>\n",
       "      <th>25%</th>\n",
       "      <td>0.000000</td>\n",
       "      <td>2.000000</td>\n",
       "      <td>20.125000</td>\n",
       "      <td>0.000000</td>\n",
       "      <td>0.000000</td>\n",
       "      <td>7.910400</td>\n",
       "    </tr>\n",
       "    <tr>\n",
       "      <th>50%</th>\n",
       "      <td>0.000000</td>\n",
       "      <td>3.000000</td>\n",
       "      <td>28.000000</td>\n",
       "      <td>0.000000</td>\n",
       "      <td>0.000000</td>\n",
       "      <td>14.454200</td>\n",
       "    </tr>\n",
       "    <tr>\n",
       "      <th>75%</th>\n",
       "      <td>1.000000</td>\n",
       "      <td>3.000000</td>\n",
       "      <td>38.000000</td>\n",
       "      <td>1.000000</td>\n",
       "      <td>0.000000</td>\n",
       "      <td>31.000000</td>\n",
       "    </tr>\n",
       "    <tr>\n",
       "      <th>max</th>\n",
       "      <td>1.000000</td>\n",
       "      <td>3.000000</td>\n",
       "      <td>80.000000</td>\n",
       "      <td>8.000000</td>\n",
       "      <td>6.000000</td>\n",
       "      <td>512.329200</td>\n",
       "    </tr>\n",
       "  </tbody>\n",
       "</table>\n",
       "</div>"
      ],
      "text/plain": [
       "         Survived      Pclass         Age       SibSp       Parch        Fare\n",
       "count  891.000000  891.000000  714.000000  891.000000  891.000000  891.000000\n",
       "mean     0.383838    2.308642   29.699118    0.523008    0.381594   32.204208\n",
       "std      0.486592    0.836071   14.526497    1.102743    0.806057   49.693429\n",
       "min      0.000000    1.000000    0.420000    0.000000    0.000000    0.000000\n",
       "25%      0.000000    2.000000   20.125000    0.000000    0.000000    7.910400\n",
       "50%      0.000000    3.000000   28.000000    0.000000    0.000000   14.454200\n",
       "75%      1.000000    3.000000   38.000000    1.000000    0.000000   31.000000\n",
       "max      1.000000    3.000000   80.000000    8.000000    6.000000  512.329200"
      ]
     },
     "execution_count": 7,
     "metadata": {},
     "output_type": "execute_result"
    }
   ],
   "source": [
    "train.describe()"
   ]
  },
  {
   "cell_type": "code",
   "execution_count": 26,
   "id": "b79ccff8-691e-4432-9b69-06d041a97f63",
   "metadata": {},
   "outputs": [
    {
     "name": "stderr",
     "output_type": "stream",
     "text": [
      "C:\\Users\\ianvi\\AppData\\Local\\Temp\\ipykernel_18272\\504330178.py:2: UserWarning: Boolean Series key will be reindexed to match DataFrame index.\n",
      "  train[train[\"Pclass\"] == 1][train[\"Survived\"] == 1][\"Cabin\"].value_counts() # when Pclass == 1\n"
     ]
    },
    {
     "data": {
      "text/plain": [
       "Cabin\n",
       "B96 B98            4\n",
       "C92                2\n",
       "D36                2\n",
       "B57 B59 B63 B66    2\n",
       "B5                 2\n",
       "                  ..\n",
       "E40                1\n",
       "C32                1\n",
       "E34                1\n",
       "C7                 1\n",
       "C148               1\n",
       "Name: count, Length: 91, dtype: int64"
      ]
     },
     "execution_count": 26,
     "metadata": {},
     "output_type": "execute_result"
    }
   ],
   "source": [
    "# inspect non-null cabin values\n",
    "train[train[\"Pclass\"] == 1][train[\"Survived\"] == 1][\"Cabin\"].value_counts() # when Pclass == 1"
   ]
  },
  {
   "cell_type": "code",
   "execution_count": 27,
   "id": "15399287-7103-4b6f-87db-962a9e689738",
   "metadata": {},
   "outputs": [
    {
     "name": "stderr",
     "output_type": "stream",
     "text": [
      "C:\\Users\\ianvi\\AppData\\Local\\Temp\\ipykernel_18272\\844495181.py:1: UserWarning: Boolean Series key will be reindexed to match DataFrame index.\n",
      "  train[train[\"Pclass\"] == 1][train[\"Survived\"] == 0][\"Cabin\"].value_counts() # when Pclass == 1\n"
     ]
    },
    {
     "data": {
      "text/plain": [
       "Cabin\n",
       "C23 C25 C27    2\n",
       "D26            2\n",
       "C124           2\n",
       "C22 C26        2\n",
       "E46            1\n",
       "D50            1\n",
       "A14            1\n",
       "B37            1\n",
       "C30            1\n",
       "C65            1\n",
       "D46            1\n",
       "C95            1\n",
       "B38            1\n",
       "C86            1\n",
       "A10            1\n",
       "D48            1\n",
       "E38            1\n",
       "E58            1\n",
       "B71            1\n",
       "C68            1\n",
       "C46            1\n",
       "B22            1\n",
       "D30            1\n",
       "D6             1\n",
       "B82 B84        1\n",
       "A36            1\n",
       "B102           1\n",
       "A24            1\n",
       "E63            1\n",
       "C82            1\n",
       "C111           1\n",
       "C49            1\n",
       "B30            1\n",
       "C83            1\n",
       "E31            1\n",
       "A5             1\n",
       "C110           1\n",
       "B58 B60        1\n",
       "C123           1\n",
       "B86            1\n",
       "B19            1\n",
       "A7             1\n",
       "A32            1\n",
       "E44            1\n",
       "C78            1\n",
       "C87            1\n",
       "E67            1\n",
       "B94            1\n",
       "C118           1\n",
       "A19            1\n",
       "C91            1\n",
       "C2             1\n",
       "T              1\n",
       "C128           1\n",
       "B51 B53 B55    1\n",
       "Name: count, dtype: int64"
      ]
     },
     "execution_count": 27,
     "metadata": {},
     "output_type": "execute_result"
    }
   ],
   "source": [
    "train[train[\"Pclass\"] == 1][train[\"Survived\"] == 0][\"Cabin\"].value_counts() # when Pclass == 1"
   ]
  },
  {
   "cell_type": "code",
   "execution_count": 22,
   "id": "8972ba39-d988-4987-9e85-e107a8875248",
   "metadata": {},
   "outputs": [
    {
     "data": {
      "text/plain": [
       "Survived  Cabin\n",
       "1         E101     3\n",
       "          F33      3\n",
       "          D        2\n",
       "          F2       2\n",
       "          F4       2\n",
       "0         D        1\n",
       "          E77      1\n",
       "          F2       1\n",
       "1         D56      1\n",
       "Name: count, dtype: int64"
      ]
     },
     "execution_count": 22,
     "metadata": {},
     "output_type": "execute_result"
    }
   ],
   "source": [
    "train[train[\"Pclass\"] == 2][[\"Survived\",\"Cabin\"]].value_counts() # when Pclass == 2"
   ]
  },
  {
   "cell_type": "code",
   "execution_count": 21,
   "id": "03fff57d-4b44-4c1a-ac4c-cc9a1c3af791",
   "metadata": {},
   "outputs": [
    {
     "data": {
      "text/plain": [
       "Survived  Cabin\n",
       "0         F G73    2\n",
       "          G6       2\n",
       "1         E121     2\n",
       "          G6       2\n",
       "0         F G63    1\n",
       "          F38      1\n",
       "1         E10      1\n",
       "          F E69    1\n",
       "Name: count, dtype: int64"
      ]
     },
     "execution_count": 21,
     "metadata": {},
     "output_type": "execute_result"
    }
   ],
   "source": [
    "train[train[\"Pclass\"] == 3][[\"Survived\",\"Cabin\"]].value_counts() # when Pclass == 3"
   ]
  }
 ],
 "metadata": {
  "kernelspec": {
   "display_name": "Python 3 (ipykernel)",
   "language": "python",
   "name": "python3"
  },
  "language_info": {
   "codemirror_mode": {
    "name": "ipython",
    "version": 3
   },
   "file_extension": ".py",
   "mimetype": "text/x-python",
   "name": "python",
   "nbconvert_exporter": "python",
   "pygments_lexer": "ipython3",
   "version": "3.12.1"
  }
 },
 "nbformat": 4,
 "nbformat_minor": 5
}
